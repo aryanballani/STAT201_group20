{
 "cells": [
  {
   "cell_type": "markdown",
   "id": "541572c9-a4eb-4043-ae50-296d6634c877",
   "metadata": {},
   "source": [
    "# Project Proposal"
   ]
  },
  {
   "cell_type": "markdown",
   "id": "cf152fec-7685-4ab2-a695-3ae867160c53",
   "metadata": {},
   "source": [
    "## Gender's relation to mean Age of Gymnastics Olympic Medalists"
   ]
  },
  {
   "cell_type": "markdown",
   "id": "86c3f1fa-5c84-440f-b302-684de4c57abf",
   "metadata": {},
   "source": [
    "## Introduction"
   ]
  },
  {
   "cell_type": "markdown",
   "id": "d5e60b2a-4500-494e-9944-aa1ddc46f9f9",
   "metadata": {},
   "source": [
    "For this project we will be using “120 years of Olympic history: athletes and results” data set found on Kaggle. https://www.kaggle.com/datasets/heesoo37/120-years-of-olympic-history-athletes-and-results \n",
    "The original data set was scraped from https://www.sports-reference.com/. Forman, S. (2000). Sports reference . Sports stats, fast, easy, and up-to-date. Retrieved November 4, 2022, from https://www.sports-reference.com/ \n",
    "\n",
    "The data set contains 271116 rows that correspond to individual athletes that have competed in an Olympic event and 15 columns (ID, Name, Sex, Age, Height, Weight, Team, NOC, Games, Year, Season, City, Sport, Event, Medal). \n",
    "\n",
    "\n",
    "For our research question, we will be investigating the how gender effects the mean age of Olympic medalists, who won a medal in gymnastics from the year 1912 onwards. Previous research shows a negative relationship between the age of an athlete and performance. One study states that the declines in performance were equal between genders, but another study has found that delayed maturation has been observed in higher-skilled gymnasts and differences within the sport in the relative age effect. "
   ]
  },
  {
   "cell_type": "markdown",
   "id": "2ce6525d-f61b-417e-9d23-ad40bb745414",
   "metadata": {},
   "source": [
    "## Prelimenary Results"
   ]
  },
  {
   "cell_type": "markdown",
   "id": "741f8d44-3ec0-4e7f-9777-8c978c231c9a",
   "metadata": {},
   "source": [
    "We have first downloaded the data set from Kaggle. https://www.kaggle.com/datasets/heesoo37/120-years-of-olympic-history-athletes-and-results ."
   ]
  },
  {
   "cell_type": "markdown",
   "id": "760d1295-1251-49ad-9be8-76fc143db64b",
   "metadata": {},
   "source": [
    "Here, we load all the libraries that we might need to clean, wrangle and visualise the data."
   ]
  },
  {
   "cell_type": "code",
   "execution_count": 4,
   "id": "e7b91e2c-9314-4f85-829c-2525b8f66621",
   "metadata": {},
   "outputs": [
    {
     "name": "stderr",
     "output_type": "stream",
     "text": [
      "\n",
      "Attaching package: ‘dplyr’\n",
      "\n",
      "\n",
      "The following objects are masked from ‘package:stats’:\n",
      "\n",
      "    filter, lag\n",
      "\n",
      "\n",
      "The following objects are masked from ‘package:base’:\n",
      "\n",
      "    intersect, setdiff, setequal, union\n",
      "\n",
      "\n",
      "── \u001b[1mAttaching packages\u001b[22m ─────────────────────────────────────── tidyverse 1.3.2 ──\n",
      "\u001b[32m✔\u001b[39m \u001b[34mggplot2\u001b[39m 3.3.6     \u001b[32m✔\u001b[39m \u001b[34mpurrr  \u001b[39m 0.3.4\n",
      "\u001b[32m✔\u001b[39m \u001b[34mtibble \u001b[39m 3.1.8     \u001b[32m✔\u001b[39m \u001b[34mstringr\u001b[39m 1.4.1\n",
      "\u001b[32m✔\u001b[39m \u001b[34mtidyr  \u001b[39m 1.2.1     \u001b[32m✔\u001b[39m \u001b[34mforcats\u001b[39m 0.5.2\n",
      "\u001b[32m✔\u001b[39m \u001b[34mreadr  \u001b[39m 2.1.2     \n",
      "── \u001b[1mConflicts\u001b[22m ────────────────────────────────────────── tidyverse_conflicts() ──\n",
      "\u001b[31m✖\u001b[39m \u001b[34mdplyr\u001b[39m::\u001b[32mfilter()\u001b[39m masks \u001b[34mstats\u001b[39m::filter()\n",
      "\u001b[31m✖\u001b[39m \u001b[34mdplyr\u001b[39m::\u001b[32mlag()\u001b[39m    masks \u001b[34mstats\u001b[39m::lag()\n"
     ]
    }
   ],
   "source": [
    "library(cowplot)\n",
    "library(datateachr)\n",
    "library(dplyr)\n",
    "library(digest)\n",
    "library(infer)\n",
    "library(repr)\n",
    "library(taxyvr)\n",
    "library(tidyverse)\n",
    "library(ggplot2)\n",
    "options(repr.matrix.max.rows = 6)"
   ]
  },
  {
   "cell_type": "markdown",
   "id": "39a9c764-2d19-47bc-84bb-072c9b42817d",
   "metadata": {
    "tags": []
   },
   "source": [
    "We used read_csv to load the data which was downloaded from kaggle and then uploaded into the jupyter notebook folder (and then pushed to the github repository)."
   ]
  },
  {
   "cell_type": "code",
   "execution_count": 5,
   "id": "8d583572-94ee-40ed-bd33-2343970fbd9e",
   "metadata": {},
   "outputs": [
    {
     "name": "stderr",
     "output_type": "stream",
     "text": [
      "\u001b[1mRows: \u001b[22m\u001b[34m271116\u001b[39m \u001b[1mColumns: \u001b[22m\u001b[34m15\u001b[39m\n",
      "\u001b[36m──\u001b[39m \u001b[1mColumn specification\u001b[22m \u001b[36m────────────────────────────────────────────────────────\u001b[39m\n",
      "\u001b[1mDelimiter:\u001b[22m \",\"\n",
      "\u001b[31mchr\u001b[39m (10): Name, Sex, Team, NOC, Games, Season, City, Sport, Event, Medal\n",
      "\u001b[32mdbl\u001b[39m  (5): ID, Age, Height, Weight, Year\n",
      "\n",
      "\u001b[36mℹ\u001b[39m Use `spec()` to retrieve the full column specification for this data.\n",
      "\u001b[36mℹ\u001b[39m Specify the column types or set `show_col_types = FALSE` to quiet this message.\n"
     ]
    },
    {
     "data": {
      "text/html": [
       "<table class=\"dataframe\">\n",
       "<caption>A tibble: 6 × 15</caption>\n",
       "<thead>\n",
       "\t<tr><th scope=col>ID</th><th scope=col>Name</th><th scope=col>Sex</th><th scope=col>Age</th><th scope=col>Height</th><th scope=col>Weight</th><th scope=col>Team</th><th scope=col>NOC</th><th scope=col>Games</th><th scope=col>Year</th><th scope=col>Season</th><th scope=col>City</th><th scope=col>Sport</th><th scope=col>Event</th><th scope=col>Medal</th></tr>\n",
       "\t<tr><th scope=col>&lt;dbl&gt;</th><th scope=col>&lt;chr&gt;</th><th scope=col>&lt;chr&gt;</th><th scope=col>&lt;dbl&gt;</th><th scope=col>&lt;dbl&gt;</th><th scope=col>&lt;dbl&gt;</th><th scope=col>&lt;chr&gt;</th><th scope=col>&lt;chr&gt;</th><th scope=col>&lt;chr&gt;</th><th scope=col>&lt;dbl&gt;</th><th scope=col>&lt;chr&gt;</th><th scope=col>&lt;chr&gt;</th><th scope=col>&lt;chr&gt;</th><th scope=col>&lt;chr&gt;</th><th scope=col>&lt;chr&gt;</th></tr>\n",
       "</thead>\n",
       "<tbody>\n",
       "\t<tr><td>1</td><td>A Dijiang               </td><td>M</td><td>24</td><td>180</td><td>80</td><td>China         </td><td>CHN</td><td>1992 Summer</td><td>1992</td><td>Summer</td><td>Barcelona</td><td>Basketball   </td><td>Basketball Men's Basketball       </td><td>NA  </td></tr>\n",
       "\t<tr><td>2</td><td>A Lamusi                </td><td>M</td><td>23</td><td>170</td><td>60</td><td>China         </td><td>CHN</td><td>2012 Summer</td><td>2012</td><td>Summer</td><td>London   </td><td>Judo         </td><td>Judo Men's Extra-Lightweight      </td><td>NA  </td></tr>\n",
       "\t<tr><td>3</td><td>Gunnar Nielsen Aaby     </td><td>M</td><td>24</td><td> NA</td><td>NA</td><td>Denmark       </td><td>DEN</td><td>1920 Summer</td><td>1920</td><td>Summer</td><td>Antwerpen</td><td>Football     </td><td>Football Men's Football           </td><td>NA  </td></tr>\n",
       "\t<tr><td>4</td><td>Edgar Lindenau Aabye    </td><td>M</td><td>34</td><td> NA</td><td>NA</td><td>Denmark/Sweden</td><td>DEN</td><td>1900 Summer</td><td>1900</td><td>Summer</td><td>Paris    </td><td>Tug-Of-War   </td><td>Tug-Of-War Men's Tug-Of-War       </td><td>Gold</td></tr>\n",
       "\t<tr><td>5</td><td>Christine Jacoba Aaftink</td><td>F</td><td>21</td><td>185</td><td>82</td><td>Netherlands   </td><td>NED</td><td>1988 Winter</td><td>1988</td><td>Winter</td><td>Calgary  </td><td>Speed Skating</td><td>Speed Skating Women's 500 metres  </td><td>NA  </td></tr>\n",
       "\t<tr><td>5</td><td>Christine Jacoba Aaftink</td><td>F</td><td>21</td><td>185</td><td>82</td><td>Netherlands   </td><td>NED</td><td>1988 Winter</td><td>1988</td><td>Winter</td><td>Calgary  </td><td>Speed Skating</td><td>Speed Skating Women's 1,000 metres</td><td>NA  </td></tr>\n",
       "</tbody>\n",
       "</table>\n"
      ],
      "text/latex": [
       "A tibble: 6 × 15\n",
       "\\begin{tabular}{lllllllllllllll}\n",
       " ID & Name & Sex & Age & Height & Weight & Team & NOC & Games & Year & Season & City & Sport & Event & Medal\\\\\n",
       " <dbl> & <chr> & <chr> & <dbl> & <dbl> & <dbl> & <chr> & <chr> & <chr> & <dbl> & <chr> & <chr> & <chr> & <chr> & <chr>\\\\\n",
       "\\hline\n",
       "\t 1 & A Dijiang                & M & 24 & 180 & 80 & China          & CHN & 1992 Summer & 1992 & Summer & Barcelona & Basketball    & Basketball Men's Basketball        & NA  \\\\\n",
       "\t 2 & A Lamusi                 & M & 23 & 170 & 60 & China          & CHN & 2012 Summer & 2012 & Summer & London    & Judo          & Judo Men's Extra-Lightweight       & NA  \\\\\n",
       "\t 3 & Gunnar Nielsen Aaby      & M & 24 &  NA & NA & Denmark        & DEN & 1920 Summer & 1920 & Summer & Antwerpen & Football      & Football Men's Football            & NA  \\\\\n",
       "\t 4 & Edgar Lindenau Aabye     & M & 34 &  NA & NA & Denmark/Sweden & DEN & 1900 Summer & 1900 & Summer & Paris     & Tug-Of-War    & Tug-Of-War Men's Tug-Of-War        & Gold\\\\\n",
       "\t 5 & Christine Jacoba Aaftink & F & 21 & 185 & 82 & Netherlands    & NED & 1988 Winter & 1988 & Winter & Calgary   & Speed Skating & Speed Skating Women's 500 metres   & NA  \\\\\n",
       "\t 5 & Christine Jacoba Aaftink & F & 21 & 185 & 82 & Netherlands    & NED & 1988 Winter & 1988 & Winter & Calgary   & Speed Skating & Speed Skating Women's 1,000 metres & NA  \\\\\n",
       "\\end{tabular}\n"
      ],
      "text/markdown": [
       "\n",
       "A tibble: 6 × 15\n",
       "\n",
       "| ID &lt;dbl&gt; | Name &lt;chr&gt; | Sex &lt;chr&gt; | Age &lt;dbl&gt; | Height &lt;dbl&gt; | Weight &lt;dbl&gt; | Team &lt;chr&gt; | NOC &lt;chr&gt; | Games &lt;chr&gt; | Year &lt;dbl&gt; | Season &lt;chr&gt; | City &lt;chr&gt; | Sport &lt;chr&gt; | Event &lt;chr&gt; | Medal &lt;chr&gt; |\n",
       "|---|---|---|---|---|---|---|---|---|---|---|---|---|---|---|\n",
       "| 1 | A Dijiang                | M | 24 | 180 | 80 | China          | CHN | 1992 Summer | 1992 | Summer | Barcelona | Basketball    | Basketball Men's Basketball        | NA   |\n",
       "| 2 | A Lamusi                 | M | 23 | 170 | 60 | China          | CHN | 2012 Summer | 2012 | Summer | London    | Judo          | Judo Men's Extra-Lightweight       | NA   |\n",
       "| 3 | Gunnar Nielsen Aaby      | M | 24 |  NA | NA | Denmark        | DEN | 1920 Summer | 1920 | Summer | Antwerpen | Football      | Football Men's Football            | NA   |\n",
       "| 4 | Edgar Lindenau Aabye     | M | 34 |  NA | NA | Denmark/Sweden | DEN | 1900 Summer | 1900 | Summer | Paris     | Tug-Of-War    | Tug-Of-War Men's Tug-Of-War        | Gold |\n",
       "| 5 | Christine Jacoba Aaftink | F | 21 | 185 | 82 | Netherlands    | NED | 1988 Winter | 1988 | Winter | Calgary   | Speed Skating | Speed Skating Women's 500 metres   | NA   |\n",
       "| 5 | Christine Jacoba Aaftink | F | 21 | 185 | 82 | Netherlands    | NED | 1988 Winter | 1988 | Winter | Calgary   | Speed Skating | Speed Skating Women's 1,000 metres | NA   |\n",
       "\n"
      ],
      "text/plain": [
       "  ID Name                     Sex Age Height Weight Team           NOC\n",
       "1 1  A Dijiang                M   24  180    80     China          CHN\n",
       "2 2  A Lamusi                 M   23  170    60     China          CHN\n",
       "3 3  Gunnar Nielsen Aaby      M   24   NA    NA     Denmark        DEN\n",
       "4 4  Edgar Lindenau Aabye     M   34   NA    NA     Denmark/Sweden DEN\n",
       "5 5  Christine Jacoba Aaftink F   21  185    82     Netherlands    NED\n",
       "6 5  Christine Jacoba Aaftink F   21  185    82     Netherlands    NED\n",
       "  Games       Year Season City      Sport        \n",
       "1 1992 Summer 1992 Summer Barcelona Basketball   \n",
       "2 2012 Summer 2012 Summer London    Judo         \n",
       "3 1920 Summer 1920 Summer Antwerpen Football     \n",
       "4 1900 Summer 1900 Summer Paris     Tug-Of-War   \n",
       "5 1988 Winter 1988 Winter Calgary   Speed Skating\n",
       "6 1988 Winter 1988 Winter Calgary   Speed Skating\n",
       "  Event                              Medal\n",
       "1 Basketball Men's Basketball        NA   \n",
       "2 Judo Men's Extra-Lightweight       NA   \n",
       "3 Football Men's Football            NA   \n",
       "4 Tug-Of-War Men's Tug-Of-War        Gold \n",
       "5 Speed Skating Women's 500 metres   NA   \n",
       "6 Speed Skating Women's 1,000 metres NA   "
      ]
     },
     "metadata": {},
     "output_type": "display_data"
    }
   ],
   "source": [
    "olympic_data <- read_csv(\"athlete_events.csv\")\n",
    "head(olympic_data)"
   ]
  },
  {
   "cell_type": "markdown",
   "id": "0066dc5a-b11b-4348-997e-94106e9dcee6",
   "metadata": {},
   "source": [
    "For our inferential study we are going to look at the data from the year 1912 and onwards.\n",
    "\n",
    "Since, we only want to assess the proportion of Gymnasts who won a medal in the Olympics in the event Gymnastics Men's/Women's Individual All-Around, we are going to filter the data so we only have the Gymnastics data. Furthermore, we are only selecting the columns we require for our study."
   ]
  },
  {
   "cell_type": "code",
   "execution_count": 6,
   "id": "79b9a7cf-2455-4e22-9422-06aed47934c5",
   "metadata": {},
   "outputs": [
    {
     "data": {
      "text/html": [
       "3579"
      ],
      "text/latex": [
       "3579"
      ],
      "text/markdown": [
       "3579"
      ],
      "text/plain": [
       "[1] 3579"
      ]
     },
     "metadata": {},
     "output_type": "display_data"
    },
    {
     "data": {
      "text/html": [
       "<table class=\"dataframe\">\n",
       "<caption>A tibble: 6 × 3</caption>\n",
       "<thead>\n",
       "\t<tr><th scope=col>Sex</th><th scope=col>Age</th><th scope=col>Medal</th></tr>\n",
       "\t<tr><th scope=col>&lt;chr&gt;</th><th scope=col>&lt;dbl&gt;</th><th scope=col>&lt;chr&gt;</th></tr>\n",
       "</thead>\n",
       "<tbody>\n",
       "\t<tr><td>M</td><td>28</td><td>Bronze</td></tr>\n",
       "\t<tr><td>M</td><td>32</td><td>NA    </td></tr>\n",
       "\t<tr><td>M</td><td>23</td><td>NA    </td></tr>\n",
       "\t<tr><td>M</td><td>19</td><td>NA    </td></tr>\n",
       "\t<tr><td>M</td><td>22</td><td>NA    </td></tr>\n",
       "\t<tr><td>F</td><td>19</td><td>NA    </td></tr>\n",
       "</tbody>\n",
       "</table>\n"
      ],
      "text/latex": [
       "A tibble: 6 × 3\n",
       "\\begin{tabular}{lll}\n",
       " Sex & Age & Medal\\\\\n",
       " <chr> & <dbl> & <chr>\\\\\n",
       "\\hline\n",
       "\t M & 28 & Bronze\\\\\n",
       "\t M & 32 & NA    \\\\\n",
       "\t M & 23 & NA    \\\\\n",
       "\t M & 19 & NA    \\\\\n",
       "\t M & 22 & NA    \\\\\n",
       "\t F & 19 & NA    \\\\\n",
       "\\end{tabular}\n"
      ],
      "text/markdown": [
       "\n",
       "A tibble: 6 × 3\n",
       "\n",
       "| Sex &lt;chr&gt; | Age &lt;dbl&gt; | Medal &lt;chr&gt; |\n",
       "|---|---|---|\n",
       "| M | 28 | Bronze |\n",
       "| M | 32 | NA     |\n",
       "| M | 23 | NA     |\n",
       "| M | 19 | NA     |\n",
       "| M | 22 | NA     |\n",
       "| F | 19 | NA     |\n",
       "\n"
      ],
      "text/plain": [
       "  Sex Age Medal \n",
       "1 M   28  Bronze\n",
       "2 M   32  NA    \n",
       "3 M   23  NA    \n",
       "4 M   19  NA    \n",
       "5 M   22  NA    \n",
       "6 F   19  NA    "
      ]
     },
     "metadata": {},
     "output_type": "display_data"
    }
   ],
   "source": [
    "gymnast_data <- olympic_data |> \n",
    "                        filter(Year >= 1912) |> \n",
    "                        filter(!is.na(Age)) |>\n",
    "                        filter(Sport == \"Gymnastics\" & (Event == \"Gymnastics Men's Individual All-Around\" | Event == \"Gymnastics Women's Individual All-Around\")) |>\n",
    "                        select(Sex , Age, Medal)\n",
    "nrow(gymnast_data)\n",
    "head(gymnast_data)"
   ]
  },
  {
   "cell_type": "markdown",
   "id": "8e9ed345-2974-4158-b55d-443bad3f6ce4",
   "metadata": {},
   "source": [
    "We know that, Individuals are drawn without replacement from the population, so independence can never be achieved. Since, our population size is 3579, it is safe to take a sample of size 350 for our inferential study upon the assumption that the samples taken are independent of each other, since, we are taking the sample size to be < 10% of the population size."
   ]
  },
  {
   "cell_type": "code",
   "execution_count": 7,
   "id": "5e0e02fb-5495-43b8-a8ca-1785e7f12316",
   "metadata": {},
   "outputs": [
    {
     "data": {
      "text/html": [
       "<table class=\"dataframe\">\n",
       "<caption>A tibble: 6 × 3</caption>\n",
       "<thead>\n",
       "\t<tr><th scope=col>Sex</th><th scope=col>Age</th><th scope=col>Medal</th></tr>\n",
       "\t<tr><th scope=col>&lt;chr&gt;</th><th scope=col>&lt;dbl&gt;</th><th scope=col>&lt;chr&gt;</th></tr>\n",
       "</thead>\n",
       "<tbody>\n",
       "\t<tr><td>M</td><td>21</td><td>NA</td></tr>\n",
       "\t<tr><td>F</td><td>31</td><td>NA</td></tr>\n",
       "\t<tr><td>M</td><td>27</td><td>NA</td></tr>\n",
       "\t<tr><td>M</td><td>21</td><td>NA</td></tr>\n",
       "\t<tr><td>M</td><td>24</td><td>NA</td></tr>\n",
       "\t<tr><td>M</td><td>19</td><td>NA</td></tr>\n",
       "</tbody>\n",
       "</table>\n"
      ],
      "text/latex": [
       "A tibble: 6 × 3\n",
       "\\begin{tabular}{lll}\n",
       " Sex & Age & Medal\\\\\n",
       " <chr> & <dbl> & <chr>\\\\\n",
       "\\hline\n",
       "\t M & 21 & NA\\\\\n",
       "\t F & 31 & NA\\\\\n",
       "\t M & 27 & NA\\\\\n",
       "\t M & 21 & NA\\\\\n",
       "\t M & 24 & NA\\\\\n",
       "\t M & 19 & NA\\\\\n",
       "\\end{tabular}\n"
      ],
      "text/markdown": [
       "\n",
       "A tibble: 6 × 3\n",
       "\n",
       "| Sex &lt;chr&gt; | Age &lt;dbl&gt; | Medal &lt;chr&gt; |\n",
       "|---|---|---|\n",
       "| M | 21 | NA |\n",
       "| F | 31 | NA |\n",
       "| M | 27 | NA |\n",
       "| M | 21 | NA |\n",
       "| M | 24 | NA |\n",
       "| M | 19 | NA |\n",
       "\n"
      ],
      "text/plain": [
       "  Sex Age Medal\n",
       "1 M   21  NA   \n",
       "2 F   31  NA   \n",
       "3 M   27  NA   \n",
       "4 M   21  NA   \n",
       "5 M   24  NA   \n",
       "6 M   19  NA   "
      ]
     },
     "metadata": {},
     "output_type": "display_data"
    }
   ],
   "source": [
    "set.seed(4)\n",
    "\n",
    "gymnast_sample <- gymnast_data |> \n",
    "                  sample_n(size = 350)\n",
    "\n",
    "head(gymnast_sample)"
   ]
  },
  {
   "cell_type": "code",
   "execution_count": 9,
   "id": "a7ff6bf1-f6e6-47e9-b921-bf051326cf3f",
   "metadata": {},
   "outputs": [
    {
     "data": {
      "text/plain": [
       "   Min. 1st Qu.  Median    Mean 3rd Qu.    Max. \n",
       "  14.00   19.00   23.00   22.53   26.00   38.00 "
      ]
     },
     "metadata": {},
     "output_type": "display_data"
    }
   ],
   "source": [
    "#Summarising the column of interest\n",
    "summary(gymnast_sample$Age)"
   ]
  },
  {
   "cell_type": "code",
   "execution_count": 10,
   "id": "d7d55c82-bdbc-4806-8dc9-bbc9adec1b08",
   "metadata": {},
   "outputs": [
    {
     "name": "stderr",
     "output_type": "stream",
     "text": [
      "\u001b[1m\u001b[22m`summarise()` has grouped output by 'Sex'. You can override using the `.groups`\n",
      "argument.\n"
     ]
    },
    {
     "data": {
      "text/html": [
       "<table class=\"dataframe\">\n",
       "<caption>A grouped_df: 8 × 4</caption>\n",
       "<thead>\n",
       "\t<tr><th scope=col>Sex</th><th scope=col>Medal</th><th scope=col>mean_Age</th><th scope=col>sd_Age</th></tr>\n",
       "\t<tr><th scope=col>&lt;chr&gt;</th><th scope=col>&lt;chr&gt;</th><th scope=col>&lt;dbl&gt;</th><th scope=col>&lt;dbl&gt;</th></tr>\n",
       "</thead>\n",
       "<tbody>\n",
       "\t<tr><td>F</td><td>Bronze</td><td>17.50000</td><td>2.121320</td></tr>\n",
       "\t<tr><td>F</td><td>Gold  </td><td>22.33333</td><td>3.511885</td></tr>\n",
       "\t<tr><td>F</td><td>Silver</td><td>24.50000</td><td>9.192388</td></tr>\n",
       "\t<tr><td>F</td><td>NA    </td><td>19.24060</td><td>3.921870</td></tr>\n",
       "\t<tr><td>M</td><td>Bronze</td><td>26.00000</td><td>2.828427</td></tr>\n",
       "\t<tr><td>M</td><td>Gold  </td><td>22.00000</td><td>1.414214</td></tr>\n",
       "\t<tr><td>M</td><td>Silver</td><td>29.00000</td><td>4.358899</td></tr>\n",
       "\t<tr><td>M</td><td>NA    </td><td>24.60099</td><td>3.814174</td></tr>\n",
       "</tbody>\n",
       "</table>\n"
      ],
      "text/latex": [
       "A grouped\\_df: 8 × 4\n",
       "\\begin{tabular}{llll}\n",
       " Sex & Medal & mean\\_Age & sd\\_Age\\\\\n",
       " <chr> & <chr> & <dbl> & <dbl>\\\\\n",
       "\\hline\n",
       "\t F & Bronze & 17.50000 & 2.121320\\\\\n",
       "\t F & Gold   & 22.33333 & 3.511885\\\\\n",
       "\t F & Silver & 24.50000 & 9.192388\\\\\n",
       "\t F & NA     & 19.24060 & 3.921870\\\\\n",
       "\t M & Bronze & 26.00000 & 2.828427\\\\\n",
       "\t M & Gold   & 22.00000 & 1.414214\\\\\n",
       "\t M & Silver & 29.00000 & 4.358899\\\\\n",
       "\t M & NA     & 24.60099 & 3.814174\\\\\n",
       "\\end{tabular}\n"
      ],
      "text/markdown": [
       "\n",
       "A grouped_df: 8 × 4\n",
       "\n",
       "| Sex &lt;chr&gt; | Medal &lt;chr&gt; | mean_Age &lt;dbl&gt; | sd_Age &lt;dbl&gt; |\n",
       "|---|---|---|---|\n",
       "| F | Bronze | 17.50000 | 2.121320 |\n",
       "| F | Gold   | 22.33333 | 3.511885 |\n",
       "| F | Silver | 24.50000 | 9.192388 |\n",
       "| F | NA     | 19.24060 | 3.921870 |\n",
       "| M | Bronze | 26.00000 | 2.828427 |\n",
       "| M | Gold   | 22.00000 | 1.414214 |\n",
       "| M | Silver | 29.00000 | 4.358899 |\n",
       "| M | NA     | 24.60099 | 3.814174 |\n",
       "\n"
      ],
      "text/plain": [
       "  Sex Medal  mean_Age sd_Age  \n",
       "1 F   Bronze 17.50000 2.121320\n",
       "2 F   Gold   22.33333 3.511885\n",
       "3 F   Silver 24.50000 9.192388\n",
       "4 F   NA     19.24060 3.921870\n",
       "5 M   Bronze 26.00000 2.828427\n",
       "6 M   Gold   22.00000 1.414214\n",
       "7 M   Silver 29.00000 4.358899\n",
       "8 M   NA     24.60099 3.814174"
      ]
     },
     "metadata": {},
     "output_type": "display_data"
    }
   ],
   "source": [
    "options(repr.matrix.max.rows = 10)\n",
    "gymnast_sample_grouped <- gymnast_sample |> \n",
    "                        group_by(Sex , Medal) |>\n",
    "                        summarise(mean_Age = mean(Age) , sd_Age = sd(Age))\n",
    "\n",
    "\n",
    "gymnast_sample_grouped"
   ]
  },
  {
   "cell_type": "code",
   "execution_count": 11,
   "id": "0430e9ff-2839-4d55-a539-0dbe23ce2490",
   "metadata": {},
   "outputs": [
    {
     "data": {
      "text/html": [
       "<table class=\"dataframe\">\n",
       "<caption>A grouped_df: 4 × 4</caption>\n",
       "<thead>\n",
       "\t<tr><th scope=col>Sex</th><th scope=col>Medal</th><th scope=col>mean_age</th><th scope=col>sd_age</th></tr>\n",
       "\t<tr><th scope=col>&lt;chr&gt;</th><th scope=col>&lt;chr&gt;</th><th scope=col>&lt;dbl&gt;</th><th scope=col>&lt;dbl&gt;</th></tr>\n",
       "</thead>\n",
       "<tbody>\n",
       "\t<tr><td>F</td><td>No </td><td>19.24060</td><td>3.921870</td></tr>\n",
       "\t<tr><td>M</td><td>No </td><td>24.60099</td><td>3.814174</td></tr>\n",
       "\t<tr><td>F</td><td>Yes</td><td>21.44444</td><td>4.941864</td></tr>\n",
       "\t<tr><td>M</td><td>Yes</td><td>25.66667</td><td>2.867180</td></tr>\n",
       "</tbody>\n",
       "</table>\n"
      ],
      "text/latex": [
       "A grouped\\_df: 4 × 4\n",
       "\\begin{tabular}{llll}\n",
       " Sex & Medal & mean\\_age & sd\\_age\\\\\n",
       " <chr> & <chr> & <dbl> & <dbl>\\\\\n",
       "\\hline\n",
       "\t F & No  & 19.24060 & 3.921870\\\\\n",
       "\t M & No  & 24.60099 & 3.814174\\\\\n",
       "\t F & Yes & 21.44444 & 4.941864\\\\\n",
       "\t M & Yes & 25.66667 & 2.867180\\\\\n",
       "\\end{tabular}\n"
      ],
      "text/markdown": [
       "\n",
       "A grouped_df: 4 × 4\n",
       "\n",
       "| Sex &lt;chr&gt; | Medal &lt;chr&gt; | mean_age &lt;dbl&gt; | sd_age &lt;dbl&gt; |\n",
       "|---|---|---|---|\n",
       "| F | No  | 19.24060 | 3.921870 |\n",
       "| M | No  | 24.60099 | 3.814174 |\n",
       "| F | Yes | 21.44444 | 4.941864 |\n",
       "| M | Yes | 25.66667 | 2.867180 |\n",
       "\n"
      ],
      "text/plain": [
       "  Sex Medal mean_age sd_age  \n",
       "1 F   No    19.24060 3.921870\n",
       "2 M   No    24.60099 3.814174\n",
       "3 F   Yes   21.44444 4.941864\n",
       "4 M   Yes   25.66667 2.867180"
      ]
     },
     "metadata": {},
     "output_type": "display_data"
    }
   ],
   "source": [
    "female_no_medal <- gymnast_sample_grouped |>\n",
    "                    filter(Sex == \"F\" , is.na(Medal))|>\n",
    "                    select(-Medal) |>\n",
    "                    mutate(Medal = \"No\", mean_age = mean_Age, sd_age = sd_Age) |>\n",
    "                    select(-mean_Age , -sd_Age)\n",
    "male_no_medal <- gymnast_sample_grouped |>\n",
    "                    filter(Sex == \"M\" , is.na(Medal))|>\n",
    "                    select(-Medal) |>\n",
    "                    mutate(Medal = \"No\", mean_age = mean_Age , sd_age = sd_Age)|>\n",
    "                    select(-mean_Age , -sd_Age)\n",
    "female_medal <- gymnast_sample_grouped |>\n",
    "                    filter(Sex == \"F\" , !is.na(Medal)) |>\n",
    "                    group_by(Sex) |>\n",
    "                    summarise(mean_age = mean(mean_Age) , sd_age = mean(sd_Age)) |>\n",
    "                    mutate(Medal = \"Yes\")\n",
    "male_medal <- gymnast_sample_grouped |>\n",
    "                    filter(Sex == \"M\" , !is.na(Medal)) |>\n",
    "                    group_by(Sex) |>\n",
    "                    summarise(mean_age = mean(mean_Age) , sd_age = mean(sd_Age))|>\n",
    "                    mutate(Medal = \"Yes\")\n",
    "\n",
    "gymnast_sample_final <- rbind(female_no_medal , male_no_medal , female_medal , male_medal)\n",
    "\n",
    "gymnast_sample_final"
   ]
  },
  {
   "cell_type": "markdown",
   "id": "cba313e7-2fc0-4047-bd32-b91d81247676",
   "metadata": {},
   "source": [
    "### Visualization"
   ]
  },
  {
   "cell_type": "markdown",
   "id": "dc8a80fe-aec7-4c24-89b6-0f1a45e04b57",
   "metadata": {},
   "source": [
    "Since we want to find the difference in mean age for male and female gymnasts, we can plot histograms of the age distributions for each gender and compare the two."
   ]
  },
  {
   "cell_type": "code",
   "execution_count": 12,
   "id": "d5c2d37d-b0b9-47da-8b1f-d377a3bcbfac",
   "metadata": {},
   "outputs": [
    {
     "ename": "ERROR",
     "evalue": "Error in plot_annotation(title = \"Sample Distribution\"): could not find function \"plot_annotation\"\n",
     "output_type": "error",
     "traceback": [
      "Error in plot_annotation(title = \"Sample Distribution\"): could not find function \"plot_annotation\"\nTraceback:\n"
     ]
    }
   ],
   "source": [
    "# filtering sample for female gymnasts only and ploting the age distribution\n",
    "female_age_plot <- gymnast_sample |>\n",
    "    filter(Sex == 'F') |>\n",
    "    ggplot(aes(x=Age, fill = Medal)) +\n",
    "    geom_histogram(bins = 10) +\n",
    "    labs(title = \"Female Gymnasts\",\n",
    "         x = \"Age (years)\") +\n",
    "    theme_bw()\n",
    "\n",
    "# filtering sample for male gymnasts only and ploting the age distribution\n",
    "male_age_plot <- gymnast_sample |>\n",
    "    filter(Sex == 'M') |>\n",
    "    ggplot(aes(x=Age, fill = Medal)) +\n",
    "    geom_histogram(bins = 10) +\n",
    "    labs(title = \"Male Gymnasts\",\n",
    "         x = \"Age (years)\") +\n",
    "    theme_bw()\n",
    "\n",
    "# comparing the distribution plots between the two genders\n",
    "age_comparison <- plot_grid(female_age_plot, male_age_plot) +\n",
    "    plot_annotation(title = \"Sample Distribution\")\n",
    "age_comparison"
   ]
  },
  {
   "cell_type": "markdown",
   "id": "7c2dc4e8-64fd-4f95-95b6-db673c6f83b7",
   "metadata": {
    "tags": []
   },
   "source": [
    "## Methods : Plan"
   ]
  },
  {
   "cell_type": "markdown",
   "id": "813c6197-e8af-448e-8d7e-828ec2fc2257",
   "metadata": {},
   "source": [
    "One of the biggest advantages of this report is the sample population we are using for the argument, olympic gymnast. Separating sports competition by gender is often regarded as one of the most controversial topics in the history of sports, especially with the recent rise and push for gender equality. Therefore by using olympic gymnasts, it directly reflects those competing at the highest levels, hence, those who are directly impacted by decision to separate or not separate sports by gender. This not only minimizes selection bias, but also systemic bias, as our sample includes individuals/athletes from all around the world due to the nature of olympics as a major international multi-sport event. \n",
    "\n",
    "As shown above, we were able to calculate the point estimate mean age, and produce graphs that help us visualize those point estimates that help us draw a relationship between the age and the successfulness in winning a medal for olympic gymnasts of both genders. However, we know nothing about the reliability of these results. To address this we will be conducting a hypothesis test and calculating a two-tailed 95% confidence interval.\n",
    "\n",
    "For both genders, the hypothesis test we will assign the:\n",
    "\n",
    "$$H_0: \\mu_{\\text{Age of Female Medalists}} - \\mu_{\\text{Age of Male Medalists}} = 0$$ $$H_1: \\mu_{\\text{Age of Female Medalists}} - \\mu_{\\text{Age of Male Medalists}} \\neq 0$$\n",
    "\n",
    "Answering the following questions:\n",
    "What do we expect to find? What impact could such findings have? What future questions could this lead to?\n",
    "\n",
    "We expect the p-value from the hypothesis test to be less than 0.05 ($p < 0.05$), as this would indicate that the deviations from the null hypothesis to be statistically significant, allowing us to reject the null hypothesis. As for the confidence interval, the sample we are using is considered large ($n > 50$) with small variability in the data. Therefore a 95% confidence interval should provide a fairly low margin of error, allowing us to prove that the estimates are reliable. This would help us conclude that age does in fact play a role in the performances of athletes for both genders. These findings could be used to argue that sport competitions should or shouldn’t be separated by both gender and age. Possible further questions include, How does the weight of olympic gymnasts impact their likeness of winning a medal? How does the height of olympic gymnasts impact their likeness of winning a medal? "
   ]
  },
  {
   "cell_type": "markdown",
   "id": "8acdafa8-50cf-455f-9266-3baafd772925",
   "metadata": {},
   "source": [
    "## References"
   ]
  },
  {
   "cell_type": "markdown",
   "id": "a6506e54-1af6-4a12-9377-086ac4386222",
   "metadata": {},
   "source": [
    "Langham-Walsh, E., Gottwald, V., & Hardy, J. (2021). Relative age effect? no “flipping” way! apparatus dependent inverse relative age effects in elite, women’s Artistic Gymnastics. PLOS ONE, 16(6). https://doi.org/10.1371/journal.pone.0253656 \n",
    "\n",
    "Bongard, V., McDermott, A. Y., Dallal, G. E., & Schaefer, E. J. (2007). Effects of age and gender on physical performance. AGE, 29(2-3), 77–85. https://doi.org/10.1007/s11357-007-9034-z \n"
   ]
  }
 ],
 "metadata": {
  "kernelspec": {
   "display_name": "R",
   "language": "R",
   "name": "ir"
  },
  "language_info": {
   "codemirror_mode": "r",
   "file_extension": ".r",
   "mimetype": "text/x-r-source",
   "name": "R",
   "pygments_lexer": "r",
   "version": "4.1.3"
  }
 },
 "nbformat": 4,
 "nbformat_minor": 5
}
