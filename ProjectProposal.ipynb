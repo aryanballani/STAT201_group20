{
 "cells": [
  {
   "cell_type": "markdown",
   "id": "541572c9-a4eb-4043-ae50-296d6634c877",
   "metadata": {},
   "source": [
    "# Project Proposal"
   ]
  },
  {
   "cell_type": "markdown",
   "id": "cf152fec-7685-4ab2-a695-3ae867160c53",
   "metadata": {},
   "source": [
    "## BMI relation to proportion of Gymnastics Medals in Olympic"
   ]
  },
  {
   "cell_type": "markdown",
   "id": "86c3f1fa-5c84-440f-b302-684de4c57abf",
   "metadata": {},
   "source": [
    "## Introduction"
   ]
  },
  {
   "cell_type": "markdown",
   "id": "d5e60b2a-4500-494e-9944-aa1ddc46f9f9",
   "metadata": {},
   "source": [
    "For this project we will be using “120 years of Olympic history: athletes and results” data set found on Kaggle. https://www.kaggle.com/datasets/heesoo37/120-years-of-olympic-history-athletes-and-results \n",
    "The original data set was scraped from https://www.sports-reference.com/. Forman, S. (2000). Sports reference . Sports stats, fast, easy, and up-to-date. Retrieved November 4, 2022, from https://www.sports-reference.com/ \n",
    "\n",
    "The data set contains 271116 rows that correspond to individual athletes that have competed in an Olympic event and 15 columns (ID, Name, Sex, Age, Height, Weight, Team, NOC, Games, Year, Season, City, Sport, Event, Medal). \n",
    "\n",
    "For our research question, we will be investigating the how BMI affects the proportion of people ages 20-30 who won an Olympic medal in gymnastics from the year 2000 and onwards. BMI is used to categorize individuals as underweight (BMI <18.5), normal weight (BMI= 18.5–24.9), overweight (BMI= 25–29.9) or obese (BMI >30), based on the parameters weight and height. Previous research shows that lower BMI was related with better performance but was negatively affected once BMI became very low. Further studies show that smaller gymnists with high strength to mass ratios have greater potential for performing skills involving whole-body rotations. "
   ]
  },
  {
   "cell_type": "markdown",
   "id": "2ce6525d-f61b-417e-9d23-ad40bb745414",
   "metadata": {},
   "source": [
    "## Prelimenary Results"
   ]
  },
  {
   "cell_type": "markdown",
   "id": "741f8d44-3ec0-4e7f-9777-8c978c231c9a",
   "metadata": {},
   "source": [
    "We have first downloaded the data set from Kaggle. https://www.kaggle.com/datasets/heesoo37/120-years-of-olympic-history-athletes-and-results ."
   ]
  },
  {
   "cell_type": "markdown",
   "id": "760d1295-1251-49ad-9be8-76fc143db64b",
   "metadata": {},
   "source": [
    "Here, we load all the libraries that we might need to clean, wrangle and visualise the data."
   ]
  },
  {
   "cell_type": "code",
   "execution_count": 16,
   "id": "e7b91e2c-9314-4f85-829c-2525b8f66621",
   "metadata": {},
   "outputs": [],
   "source": [
    "library(cowplot)\n",
    "library(datateachr)\n",
    "library(digest)\n",
    "library(infer)\n",
    "library(repr)\n",
    "library(taxyvr)\n",
    "library(tidyverse)\n",
    "options(repr.matrix.max.rows = 6)"
   ]
  },
  {
   "cell_type": "markdown",
   "id": "39a9c764-2d19-47bc-84bb-072c9b42817d",
   "metadata": {
    "tags": []
   },
   "source": [
    "We used read_csv to load the data which was downloaded from kaggle and then uploaded into the jupyter notebook folder (and then pushed to the github repository)."
   ]
  },
  {
   "cell_type": "code",
   "execution_count": 17,
   "id": "8d583572-94ee-40ed-bd33-2343970fbd9e",
   "metadata": {},
   "outputs": [
    {
     "name": "stderr",
     "output_type": "stream",
     "text": [
      "\u001b[1mRows: \u001b[22m\u001b[34m271116\u001b[39m \u001b[1mColumns: \u001b[22m\u001b[34m15\u001b[39m\n",
      "\u001b[36m──\u001b[39m \u001b[1mColumn specification\u001b[22m \u001b[36m────────────────────────────────────────────────────────\u001b[39m\n",
      "\u001b[1mDelimiter:\u001b[22m \",\"\n",
      "\u001b[31mchr\u001b[39m (10): Name, Sex, Team, NOC, Games, Season, City, Sport, Event, Medal\n",
      "\u001b[32mdbl\u001b[39m  (5): ID, Age, Height, Weight, Year\n",
      "\n",
      "\u001b[36mℹ\u001b[39m Use `spec()` to retrieve the full column specification for this data.\n",
      "\u001b[36mℹ\u001b[39m Specify the column types or set `show_col_types = FALSE` to quiet this message.\n"
     ]
    },
    {
     "data": {
      "text/html": [
       "<table class=\"dataframe\">\n",
       "<caption>A tibble: 6 × 15</caption>\n",
       "<thead>\n",
       "\t<tr><th scope=col>ID</th><th scope=col>Name</th><th scope=col>Sex</th><th scope=col>Age</th><th scope=col>Height</th><th scope=col>Weight</th><th scope=col>Team</th><th scope=col>NOC</th><th scope=col>Games</th><th scope=col>Year</th><th scope=col>Season</th><th scope=col>City</th><th scope=col>Sport</th><th scope=col>Event</th><th scope=col>Medal</th></tr>\n",
       "\t<tr><th scope=col>&lt;dbl&gt;</th><th scope=col>&lt;chr&gt;</th><th scope=col>&lt;chr&gt;</th><th scope=col>&lt;dbl&gt;</th><th scope=col>&lt;dbl&gt;</th><th scope=col>&lt;dbl&gt;</th><th scope=col>&lt;chr&gt;</th><th scope=col>&lt;chr&gt;</th><th scope=col>&lt;chr&gt;</th><th scope=col>&lt;dbl&gt;</th><th scope=col>&lt;chr&gt;</th><th scope=col>&lt;chr&gt;</th><th scope=col>&lt;chr&gt;</th><th scope=col>&lt;chr&gt;</th><th scope=col>&lt;chr&gt;</th></tr>\n",
       "</thead>\n",
       "<tbody>\n",
       "\t<tr><td>1</td><td>A Dijiang               </td><td>M</td><td>24</td><td>180</td><td>80</td><td>China         </td><td>CHN</td><td>1992 Summer</td><td>1992</td><td>Summer</td><td>Barcelona</td><td>Basketball   </td><td>Basketball Men's Basketball       </td><td>NA  </td></tr>\n",
       "\t<tr><td>2</td><td>A Lamusi                </td><td>M</td><td>23</td><td>170</td><td>60</td><td>China         </td><td>CHN</td><td>2012 Summer</td><td>2012</td><td>Summer</td><td>London   </td><td>Judo         </td><td>Judo Men's Extra-Lightweight      </td><td>NA  </td></tr>\n",
       "\t<tr><td>3</td><td>Gunnar Nielsen Aaby     </td><td>M</td><td>24</td><td> NA</td><td>NA</td><td>Denmark       </td><td>DEN</td><td>1920 Summer</td><td>1920</td><td>Summer</td><td>Antwerpen</td><td>Football     </td><td>Football Men's Football           </td><td>NA  </td></tr>\n",
       "\t<tr><td>4</td><td>Edgar Lindenau Aabye    </td><td>M</td><td>34</td><td> NA</td><td>NA</td><td>Denmark/Sweden</td><td>DEN</td><td>1900 Summer</td><td>1900</td><td>Summer</td><td>Paris    </td><td>Tug-Of-War   </td><td>Tug-Of-War Men's Tug-Of-War       </td><td>Gold</td></tr>\n",
       "\t<tr><td>5</td><td>Christine Jacoba Aaftink</td><td>F</td><td>21</td><td>185</td><td>82</td><td>Netherlands   </td><td>NED</td><td>1988 Winter</td><td>1988</td><td>Winter</td><td>Calgary  </td><td>Speed Skating</td><td>Speed Skating Women's 500 metres  </td><td>NA  </td></tr>\n",
       "\t<tr><td>5</td><td>Christine Jacoba Aaftink</td><td>F</td><td>21</td><td>185</td><td>82</td><td>Netherlands   </td><td>NED</td><td>1988 Winter</td><td>1988</td><td>Winter</td><td>Calgary  </td><td>Speed Skating</td><td>Speed Skating Women's 1,000 metres</td><td>NA  </td></tr>\n",
       "</tbody>\n",
       "</table>\n"
      ],
      "text/latex": [
       "A tibble: 6 × 15\n",
       "\\begin{tabular}{lllllllllllllll}\n",
       " ID & Name & Sex & Age & Height & Weight & Team & NOC & Games & Year & Season & City & Sport & Event & Medal\\\\\n",
       " <dbl> & <chr> & <chr> & <dbl> & <dbl> & <dbl> & <chr> & <chr> & <chr> & <dbl> & <chr> & <chr> & <chr> & <chr> & <chr>\\\\\n",
       "\\hline\n",
       "\t 1 & A Dijiang                & M & 24 & 180 & 80 & China          & CHN & 1992 Summer & 1992 & Summer & Barcelona & Basketball    & Basketball Men's Basketball        & NA  \\\\\n",
       "\t 2 & A Lamusi                 & M & 23 & 170 & 60 & China          & CHN & 2012 Summer & 2012 & Summer & London    & Judo          & Judo Men's Extra-Lightweight       & NA  \\\\\n",
       "\t 3 & Gunnar Nielsen Aaby      & M & 24 &  NA & NA & Denmark        & DEN & 1920 Summer & 1920 & Summer & Antwerpen & Football      & Football Men's Football            & NA  \\\\\n",
       "\t 4 & Edgar Lindenau Aabye     & M & 34 &  NA & NA & Denmark/Sweden & DEN & 1900 Summer & 1900 & Summer & Paris     & Tug-Of-War    & Tug-Of-War Men's Tug-Of-War        & Gold\\\\\n",
       "\t 5 & Christine Jacoba Aaftink & F & 21 & 185 & 82 & Netherlands    & NED & 1988 Winter & 1988 & Winter & Calgary   & Speed Skating & Speed Skating Women's 500 metres   & NA  \\\\\n",
       "\t 5 & Christine Jacoba Aaftink & F & 21 & 185 & 82 & Netherlands    & NED & 1988 Winter & 1988 & Winter & Calgary   & Speed Skating & Speed Skating Women's 1,000 metres & NA  \\\\\n",
       "\\end{tabular}\n"
      ],
      "text/markdown": [
       "\n",
       "A tibble: 6 × 15\n",
       "\n",
       "| ID &lt;dbl&gt; | Name &lt;chr&gt; | Sex &lt;chr&gt; | Age &lt;dbl&gt; | Height &lt;dbl&gt; | Weight &lt;dbl&gt; | Team &lt;chr&gt; | NOC &lt;chr&gt; | Games &lt;chr&gt; | Year &lt;dbl&gt; | Season &lt;chr&gt; | City &lt;chr&gt; | Sport &lt;chr&gt; | Event &lt;chr&gt; | Medal &lt;chr&gt; |\n",
       "|---|---|---|---|---|---|---|---|---|---|---|---|---|---|---|\n",
       "| 1 | A Dijiang                | M | 24 | 180 | 80 | China          | CHN | 1992 Summer | 1992 | Summer | Barcelona | Basketball    | Basketball Men's Basketball        | NA   |\n",
       "| 2 | A Lamusi                 | M | 23 | 170 | 60 | China          | CHN | 2012 Summer | 2012 | Summer | London    | Judo          | Judo Men's Extra-Lightweight       | NA   |\n",
       "| 3 | Gunnar Nielsen Aaby      | M | 24 |  NA | NA | Denmark        | DEN | 1920 Summer | 1920 | Summer | Antwerpen | Football      | Football Men's Football            | NA   |\n",
       "| 4 | Edgar Lindenau Aabye     | M | 34 |  NA | NA | Denmark/Sweden | DEN | 1900 Summer | 1900 | Summer | Paris     | Tug-Of-War    | Tug-Of-War Men's Tug-Of-War        | Gold |\n",
       "| 5 | Christine Jacoba Aaftink | F | 21 | 185 | 82 | Netherlands    | NED | 1988 Winter | 1988 | Winter | Calgary   | Speed Skating | Speed Skating Women's 500 metres   | NA   |\n",
       "| 5 | Christine Jacoba Aaftink | F | 21 | 185 | 82 | Netherlands    | NED | 1988 Winter | 1988 | Winter | Calgary   | Speed Skating | Speed Skating Women's 1,000 metres | NA   |\n",
       "\n"
      ],
      "text/plain": [
       "  ID Name                     Sex Age Height Weight Team           NOC\n",
       "1 1  A Dijiang                M   24  180    80     China          CHN\n",
       "2 2  A Lamusi                 M   23  170    60     China          CHN\n",
       "3 3  Gunnar Nielsen Aaby      M   24   NA    NA     Denmark        DEN\n",
       "4 4  Edgar Lindenau Aabye     M   34   NA    NA     Denmark/Sweden DEN\n",
       "5 5  Christine Jacoba Aaftink F   21  185    82     Netherlands    NED\n",
       "6 5  Christine Jacoba Aaftink F   21  185    82     Netherlands    NED\n",
       "  Games       Year Season City      Sport        \n",
       "1 1992 Summer 1992 Summer Barcelona Basketball   \n",
       "2 2012 Summer 2012 Summer London    Judo         \n",
       "3 1920 Summer 1920 Summer Antwerpen Football     \n",
       "4 1900 Summer 1900 Summer Paris     Tug-Of-War   \n",
       "5 1988 Winter 1988 Winter Calgary   Speed Skating\n",
       "6 1988 Winter 1988 Winter Calgary   Speed Skating\n",
       "  Event                              Medal\n",
       "1 Basketball Men's Basketball        NA   \n",
       "2 Judo Men's Extra-Lightweight       NA   \n",
       "3 Football Men's Football            NA   \n",
       "4 Tug-Of-War Men's Tug-Of-War        Gold \n",
       "5 Speed Skating Women's 500 metres   NA   \n",
       "6 Speed Skating Women's 1,000 metres NA   "
      ]
     },
     "metadata": {},
     "output_type": "display_data"
    }
   ],
   "source": [
    "olympic_data <- read_csv(\"athlete_events.csv\")\n",
    "head(olympic_data)"
   ]
  },
  {
   "cell_type": "markdown",
   "id": "0066dc5a-b11b-4348-997e-94106e9dcee6",
   "metadata": {},
   "source": [
    "For our inferential study we are going to look at the data from the year 2000 and onwards and we are going to assess people of ages between 20 to 30. We are doing this because age and the year might play a factor in determining the proportion of poeple who won medals in olympics.\n",
    "\n",
    "Since, we only want to assess the proportion of Gymnasts who won a medal in the Olympics in the event Gymnastics Men's/Women's Individual All-Around, we are going to filter the data so we only have the Gymnastics data. Furthermore, we are only selecting the columns we require for our study."
   ]
  },
  {
   "cell_type": "code",
   "execution_count": 32,
   "id": "79b9a7cf-2455-4e22-9422-06aed47934c5",
   "metadata": {},
   "outputs": [
    {
     "data": {
      "text/html": [
       "<table class=\"dataframe\">\n",
       "<caption>A tibble: 6 × 4</caption>\n",
       "<thead>\n",
       "\t<tr><th scope=col>Sex</th><th scope=col>Height</th><th scope=col>Weight</th><th scope=col>Medal</th></tr>\n",
       "\t<tr><th scope=col>&lt;chr&gt;</th><th scope=col>&lt;dbl&gt;</th><th scope=col>&lt;dbl&gt;</th><th scope=col>&lt;chr&gt;</th></tr>\n",
       "</thead>\n",
       "<tbody>\n",
       "\t<tr><td>M</td><td>167</td><td>64</td><td>NA</td></tr>\n",
       "\t<tr><td>M</td><td>167</td><td>63</td><td>NA</td></tr>\n",
       "\t<tr><td>F</td><td>165</td><td>55</td><td>NA</td></tr>\n",
       "\t<tr><td>M</td><td>162</td><td>54</td><td>NA</td></tr>\n",
       "\t<tr><td>M</td><td>171</td><td>63</td><td>NA</td></tr>\n",
       "\t<tr><td>M</td><td>171</td><td>63</td><td>NA</td></tr>\n",
       "</tbody>\n",
       "</table>\n"
      ],
      "text/latex": [
       "A tibble: 6 × 4\n",
       "\\begin{tabular}{llll}\n",
       " Sex & Height & Weight & Medal\\\\\n",
       " <chr> & <dbl> & <dbl> & <chr>\\\\\n",
       "\\hline\n",
       "\t M & 167 & 64 & NA\\\\\n",
       "\t M & 167 & 63 & NA\\\\\n",
       "\t F & 165 & 55 & NA\\\\\n",
       "\t M & 162 & 54 & NA\\\\\n",
       "\t M & 171 & 63 & NA\\\\\n",
       "\t M & 171 & 63 & NA\\\\\n",
       "\\end{tabular}\n"
      ],
      "text/markdown": [
       "\n",
       "A tibble: 6 × 4\n",
       "\n",
       "| Sex &lt;chr&gt; | Height &lt;dbl&gt; | Weight &lt;dbl&gt; | Medal &lt;chr&gt; |\n",
       "|---|---|---|---|\n",
       "| M | 167 | 64 | NA |\n",
       "| M | 167 | 63 | NA |\n",
       "| F | 165 | 55 | NA |\n",
       "| M | 162 | 54 | NA |\n",
       "| M | 171 | 63 | NA |\n",
       "| M | 171 | 63 | NA |\n",
       "\n"
      ],
      "text/plain": [
       "  Sex Height Weight Medal\n",
       "1 M   167    64     NA   \n",
       "2 M   167    63     NA   \n",
       "3 F   165    55     NA   \n",
       "4 M   162    54     NA   \n",
       "5 M   171    63     NA   \n",
       "6 M   171    63     NA   "
      ]
     },
     "metadata": {},
     "output_type": "display_data"
    }
   ],
   "source": [
    "gymnast_data <- olympic_data |> \n",
    "                        filter(Age >= 20 & Age <= 30 & Year > 1999) |> \n",
    "                        filter(Sport == \"Gymnastics\" & (Event == \"Gymnastics Men's Individual All-Around\" | Event == \"Gymnastics Women's Individual All-Around\")) |>\n",
    "                        select(Sex , Height, Weight, Medal)\n",
    "head(gymnast_data)"
   ]
  },
  {
   "cell_type": "markdown",
   "id": "39e09454-aad5-4c40-b4fb-35d09bc85570",
   "metadata": {},
   "source": [
    "Since, we are doing our study on BMI, we are going to have to make a seperate column for BMI by using the formula:\n",
    "\n",
    " # $\\text{BMI}= \\frac{\\text{Weight}(\\text{in kg})}{(\\text{Height}(\\text{in cm}))^2}* 10000$"
   ]
  },
  {
   "cell_type": "code",
   "execution_count": 41,
   "id": "64b54fb3-8bda-434a-8685-1955591c9c0e",
   "metadata": {},
   "outputs": [
    {
     "data": {
      "text/html": [
       "316"
      ],
      "text/latex": [
       "316"
      ],
      "text/markdown": [
       "316"
      ],
      "text/plain": [
       "[1] 316"
      ]
     },
     "metadata": {},
     "output_type": "display_data"
    },
    {
     "data": {
      "text/html": [
       "<table class=\"dataframe\">\n",
       "<caption>A tibble: 6 × 5</caption>\n",
       "<thead>\n",
       "\t<tr><th scope=col>Sex</th><th scope=col>Height</th><th scope=col>Weight</th><th scope=col>Medal</th><th scope=col>bmi</th></tr>\n",
       "\t<tr><th scope=col>&lt;chr&gt;</th><th scope=col>&lt;dbl&gt;</th><th scope=col>&lt;dbl&gt;</th><th scope=col>&lt;chr&gt;</th><th scope=col>&lt;dbl&gt;</th></tr>\n",
       "</thead>\n",
       "<tbody>\n",
       "\t<tr><td>M</td><td>167</td><td>64</td><td>NA</td><td>22.94812</td></tr>\n",
       "\t<tr><td>M</td><td>167</td><td>63</td><td>NA</td><td>22.58955</td></tr>\n",
       "\t<tr><td>M</td><td>162</td><td>54</td><td>NA</td><td>20.57613</td></tr>\n",
       "\t<tr><td>M</td><td>171</td><td>63</td><td>NA</td><td>21.54509</td></tr>\n",
       "\t<tr><td>M</td><td>171</td><td>63</td><td>NA</td><td>21.54509</td></tr>\n",
       "\t<tr><td>M</td><td>166</td><td>63</td><td>NA</td><td>22.86253</td></tr>\n",
       "</tbody>\n",
       "</table>\n"
      ],
      "text/latex": [
       "A tibble: 6 × 5\n",
       "\\begin{tabular}{lllll}\n",
       " Sex & Height & Weight & Medal & bmi\\\\\n",
       " <chr> & <dbl> & <dbl> & <chr> & <dbl>\\\\\n",
       "\\hline\n",
       "\t M & 167 & 64 & NA & 22.94812\\\\\n",
       "\t M & 167 & 63 & NA & 22.58955\\\\\n",
       "\t M & 162 & 54 & NA & 20.57613\\\\\n",
       "\t M & 171 & 63 & NA & 21.54509\\\\\n",
       "\t M & 171 & 63 & NA & 21.54509\\\\\n",
       "\t M & 166 & 63 & NA & 22.86253\\\\\n",
       "\\end{tabular}\n"
      ],
      "text/markdown": [
       "\n",
       "A tibble: 6 × 5\n",
       "\n",
       "| Sex &lt;chr&gt; | Height &lt;dbl&gt; | Weight &lt;dbl&gt; | Medal &lt;chr&gt; | bmi &lt;dbl&gt; |\n",
       "|---|---|---|---|---|\n",
       "| M | 167 | 64 | NA | 22.94812 |\n",
       "| M | 167 | 63 | NA | 22.58955 |\n",
       "| M | 162 | 54 | NA | 20.57613 |\n",
       "| M | 171 | 63 | NA | 21.54509 |\n",
       "| M | 171 | 63 | NA | 21.54509 |\n",
       "| M | 166 | 63 | NA | 22.86253 |\n",
       "\n"
      ],
      "text/plain": [
       "  Sex Height Weight Medal bmi     \n",
       "1 M   167    64     NA    22.94812\n",
       "2 M   167    63     NA    22.58955\n",
       "3 M   162    54     NA    20.57613\n",
       "4 M   171    63     NA    21.54509\n",
       "5 M   171    63     NA    21.54509\n",
       "6 M   166    63     NA    22.86253"
      ]
     },
     "metadata": {},
     "output_type": "display_data"
    }
   ],
   "source": [
    "gymnast_data_bmi <- gymnast_data |> \n",
    "                    mutate(bmi = Weight/Height^2*10000) |>\n",
    "                    filter(bmi >= 18.5 & bmi <= 25 & Sex == \"M\")\n",
    "\n",
    "nrow(gymnast_data_bmi)\n",
    "head(gymnast_data_bmi)"
   ]
  },
  {
   "cell_type": "markdown",
   "id": "7c2dc4e8-64fd-4f95-95b6-db673c6f83b7",
   "metadata": {
    "tags": []
   },
   "source": [
    "## Methods : Plan"
   ]
  },
  {
   "cell_type": "code",
   "execution_count": null,
   "id": "7088aec2-13c4-4a9a-a73d-230beccf63ec",
   "metadata": {},
   "outputs": [],
   "source": []
  },
  {
   "cell_type": "markdown",
   "id": "8acdafa8-50cf-455f-9266-3baafd772925",
   "metadata": {},
   "source": [
    "## References"
   ]
  },
  {
   "cell_type": "markdown",
   "id": "a6506e54-1af6-4a12-9377-086ac4386222",
   "metadata": {},
   "source": [
    "(Sherman, Robert Trattner; Thompson, Ron A; Rose, Jennifer S. ) Body mass index and athletic performance in elite female gymnasts,\n",
    "Journal of Sport Behavior; Mobile Vol. 19, Iss. 4,  (Dec 1996): 338.\n",
    "\n",
    "https://www.proquest.com/openview/af45415483fdf49d1e797ded686c20a0/1?pq-origsite=gscholar&cbl=30153 \n",
    "\n",
    "Ackland, T., Elliott, B., & Richards, J. (2003). Gymnastics. Sports Biomechanics, 2(2), 163–176. https://doi.org/10.1080/14763140308522815"
   ]
  },
  {
   "cell_type": "code",
   "execution_count": null,
   "id": "18a33e8f-4fb7-43eb-8ea3-99dccb9aed32",
   "metadata": {},
   "outputs": [],
   "source": []
  }
 ],
 "metadata": {
  "kernelspec": {
   "display_name": "R",
   "language": "R",
   "name": "ir"
  },
  "language_info": {
   "codemirror_mode": "r",
   "file_extension": ".r",
   "mimetype": "text/x-r-source",
   "name": "R",
   "pygments_lexer": "r",
   "version": "4.1.3"
  }
 },
 "nbformat": 4,
 "nbformat_minor": 5
}
