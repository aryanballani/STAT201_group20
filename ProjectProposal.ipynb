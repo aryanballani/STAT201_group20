{
 "cells": [
  {
   "cell_type": "markdown",
   "id": "541572c9-a4eb-4043-ae50-296d6634c877",
   "metadata": {},
   "source": [
    "# Project Proposal"
   ]
  },
  {
   "cell_type": "markdown",
   "id": "cf152fec-7685-4ab2-a695-3ae867160c53",
   "metadata": {},
   "source": [
    "## Gender's relation to proportion of Gymnastics Medals in Olympic"
   ]
  },
  {
   "cell_type": "markdown",
   "id": "86c3f1fa-5c84-440f-b302-684de4c57abf",
   "metadata": {},
   "source": [
    "## Introduction"
   ]
  },
  {
   "cell_type": "markdown",
   "id": "d5e60b2a-4500-494e-9944-aa1ddc46f9f9",
   "metadata": {},
   "source": [
    "For this project we will be using “120 years of Olympic history: athletes and results” data set found on Kaggle. https://www.kaggle.com/datasets/heesoo37/120-years-of-olympic-history-athletes-and-results \n",
    "The original data set was scraped from https://www.sports-reference.com/. Forman, S. (2000). Sports reference . Sports stats, fast, easy, and up-to-date. Retrieved November 4, 2022, from https://www.sports-reference.com/ \n",
    "\n",
    "The data set contains 271116 rows that correspond to individual athletes that have competed in an Olympic event and 15 columns (ID, Name, Sex, Age, Height, Weight, Team, NOC, Games, Year, Season, City, Sport, Event, Medal). \n",
    "\n",
    "For our research question, we will be investigating the if mean age differes between different genders and how that affects the proportions of  Olympic medals won in gymnastics from the year 2000 onwards. Previous research shows a negative relationship between the age of an athlete and performance. One study states that the declines in performance were equal between genders, but another study has found that delayed maturation has been observed in higher-skilled gymnasts and gendered differences within the sport in the relative age effect.  "
   ]
  },
  {
   "cell_type": "markdown",
   "id": "2ce6525d-f61b-417e-9d23-ad40bb745414",
   "metadata": {},
   "source": [
    "## Prelimenary Results"
   ]
  },
  {
   "cell_type": "markdown",
   "id": "741f8d44-3ec0-4e7f-9777-8c978c231c9a",
   "metadata": {},
   "source": [
    "We have first downloaded the data set from Kaggle. https://www.kaggle.com/datasets/heesoo37/120-years-of-olympic-history-athletes-and-results ."
   ]
  },
  {
   "cell_type": "markdown",
   "id": "760d1295-1251-49ad-9be8-76fc143db64b",
   "metadata": {},
   "source": [
    "Here, we load all the libraries that we might need to clean, wrangle and visualise the data."
   ]
  },
  {
   "cell_type": "code",
   "execution_count": 2,
   "id": "e7b91e2c-9314-4f85-829c-2525b8f66621",
   "metadata": {},
   "outputs": [
    {
     "name": "stderr",
     "output_type": "stream",
     "text": [
      "── \u001b[1mAttaching packages\u001b[22m ─────────────────────────────────────── tidyverse 1.3.2 ──\n",
      "\u001b[32m✔\u001b[39m \u001b[34mggplot2\u001b[39m 3.3.6      \u001b[32m✔\u001b[39m \u001b[34mpurrr  \u001b[39m 0.3.4 \n",
      "\u001b[32m✔\u001b[39m \u001b[34mtibble \u001b[39m 3.1.8      \u001b[32m✔\u001b[39m \u001b[34mdplyr  \u001b[39m 1.0.10\n",
      "\u001b[32m✔\u001b[39m \u001b[34mtidyr  \u001b[39m 1.2.1      \u001b[32m✔\u001b[39m \u001b[34mstringr\u001b[39m 1.4.1 \n",
      "\u001b[32m✔\u001b[39m \u001b[34mreadr  \u001b[39m 2.1.2      \u001b[32m✔\u001b[39m \u001b[34mforcats\u001b[39m 0.5.2 \n",
      "── \u001b[1mConflicts\u001b[22m ────────────────────────────────────────── tidyverse_conflicts() ──\n",
      "\u001b[31m✖\u001b[39m \u001b[34mdplyr\u001b[39m::\u001b[32mfilter()\u001b[39m masks \u001b[34mstats\u001b[39m::filter()\n",
      "\u001b[31m✖\u001b[39m \u001b[34mdplyr\u001b[39m::\u001b[32mlag()\u001b[39m    masks \u001b[34mstats\u001b[39m::lag()\n"
     ]
    }
   ],
   "source": [
    "library(cowplot)\n",
    "library(datateachr)\n",
    "library(digest)\n",
    "library(infer)\n",
    "library(repr)\n",
    "library(taxyvr)\n",
    "library(tidyverse)\n",
    "options(repr.matrix.max.rows = 6)"
   ]
  },
  {
   "cell_type": "markdown",
   "id": "39a9c764-2d19-47bc-84bb-072c9b42817d",
   "metadata": {
    "tags": []
   },
   "source": [
    "We used read_csv to load the data which was downloaded from kaggle and then uploaded into the jupyter notebook folder (and then pushed to the github repository)."
   ]
  },
  {
   "cell_type": "code",
   "execution_count": 3,
   "id": "8d583572-94ee-40ed-bd33-2343970fbd9e",
   "metadata": {},
   "outputs": [
    {
     "name": "stderr",
     "output_type": "stream",
     "text": [
      "\u001b[1mRows: \u001b[22m\u001b[34m271116\u001b[39m \u001b[1mColumns: \u001b[22m\u001b[34m15\u001b[39m\n",
      "\u001b[36m──\u001b[39m \u001b[1mColumn specification\u001b[22m \u001b[36m────────────────────────────────────────────────────────\u001b[39m\n",
      "\u001b[1mDelimiter:\u001b[22m \",\"\n",
      "\u001b[31mchr\u001b[39m (10): Name, Sex, Team, NOC, Games, Season, City, Sport, Event, Medal\n",
      "\u001b[32mdbl\u001b[39m  (5): ID, Age, Height, Weight, Year\n",
      "\n",
      "\u001b[36mℹ\u001b[39m Use `spec()` to retrieve the full column specification for this data.\n",
      "\u001b[36mℹ\u001b[39m Specify the column types or set `show_col_types = FALSE` to quiet this message.\n"
     ]
    },
    {
     "data": {
      "text/html": [
       "<table class=\"dataframe\">\n",
       "<caption>A tibble: 6 × 15</caption>\n",
       "<thead>\n",
       "\t<tr><th scope=col>ID</th><th scope=col>Name</th><th scope=col>Sex</th><th scope=col>Age</th><th scope=col>Height</th><th scope=col>Weight</th><th scope=col>Team</th><th scope=col>NOC</th><th scope=col>Games</th><th scope=col>Year</th><th scope=col>Season</th><th scope=col>City</th><th scope=col>Sport</th><th scope=col>Event</th><th scope=col>Medal</th></tr>\n",
       "\t<tr><th scope=col>&lt;dbl&gt;</th><th scope=col>&lt;chr&gt;</th><th scope=col>&lt;chr&gt;</th><th scope=col>&lt;dbl&gt;</th><th scope=col>&lt;dbl&gt;</th><th scope=col>&lt;dbl&gt;</th><th scope=col>&lt;chr&gt;</th><th scope=col>&lt;chr&gt;</th><th scope=col>&lt;chr&gt;</th><th scope=col>&lt;dbl&gt;</th><th scope=col>&lt;chr&gt;</th><th scope=col>&lt;chr&gt;</th><th scope=col>&lt;chr&gt;</th><th scope=col>&lt;chr&gt;</th><th scope=col>&lt;chr&gt;</th></tr>\n",
       "</thead>\n",
       "<tbody>\n",
       "\t<tr><td>1</td><td>A Dijiang               </td><td>M</td><td>24</td><td>180</td><td>80</td><td>China         </td><td>CHN</td><td>1992 Summer</td><td>1992</td><td>Summer</td><td>Barcelona</td><td>Basketball   </td><td>Basketball Men's Basketball       </td><td>NA  </td></tr>\n",
       "\t<tr><td>2</td><td>A Lamusi                </td><td>M</td><td>23</td><td>170</td><td>60</td><td>China         </td><td>CHN</td><td>2012 Summer</td><td>2012</td><td>Summer</td><td>London   </td><td>Judo         </td><td>Judo Men's Extra-Lightweight      </td><td>NA  </td></tr>\n",
       "\t<tr><td>3</td><td>Gunnar Nielsen Aaby     </td><td>M</td><td>24</td><td> NA</td><td>NA</td><td>Denmark       </td><td>DEN</td><td>1920 Summer</td><td>1920</td><td>Summer</td><td>Antwerpen</td><td>Football     </td><td>Football Men's Football           </td><td>NA  </td></tr>\n",
       "\t<tr><td>4</td><td>Edgar Lindenau Aabye    </td><td>M</td><td>34</td><td> NA</td><td>NA</td><td>Denmark/Sweden</td><td>DEN</td><td>1900 Summer</td><td>1900</td><td>Summer</td><td>Paris    </td><td>Tug-Of-War   </td><td>Tug-Of-War Men's Tug-Of-War       </td><td>Gold</td></tr>\n",
       "\t<tr><td>5</td><td>Christine Jacoba Aaftink</td><td>F</td><td>21</td><td>185</td><td>82</td><td>Netherlands   </td><td>NED</td><td>1988 Winter</td><td>1988</td><td>Winter</td><td>Calgary  </td><td>Speed Skating</td><td>Speed Skating Women's 500 metres  </td><td>NA  </td></tr>\n",
       "\t<tr><td>5</td><td>Christine Jacoba Aaftink</td><td>F</td><td>21</td><td>185</td><td>82</td><td>Netherlands   </td><td>NED</td><td>1988 Winter</td><td>1988</td><td>Winter</td><td>Calgary  </td><td>Speed Skating</td><td>Speed Skating Women's 1,000 metres</td><td>NA  </td></tr>\n",
       "</tbody>\n",
       "</table>\n"
      ],
      "text/latex": [
       "A tibble: 6 × 15\n",
       "\\begin{tabular}{lllllllllllllll}\n",
       " ID & Name & Sex & Age & Height & Weight & Team & NOC & Games & Year & Season & City & Sport & Event & Medal\\\\\n",
       " <dbl> & <chr> & <chr> & <dbl> & <dbl> & <dbl> & <chr> & <chr> & <chr> & <dbl> & <chr> & <chr> & <chr> & <chr> & <chr>\\\\\n",
       "\\hline\n",
       "\t 1 & A Dijiang                & M & 24 & 180 & 80 & China          & CHN & 1992 Summer & 1992 & Summer & Barcelona & Basketball    & Basketball Men's Basketball        & NA  \\\\\n",
       "\t 2 & A Lamusi                 & M & 23 & 170 & 60 & China          & CHN & 2012 Summer & 2012 & Summer & London    & Judo          & Judo Men's Extra-Lightweight       & NA  \\\\\n",
       "\t 3 & Gunnar Nielsen Aaby      & M & 24 &  NA & NA & Denmark        & DEN & 1920 Summer & 1920 & Summer & Antwerpen & Football      & Football Men's Football            & NA  \\\\\n",
       "\t 4 & Edgar Lindenau Aabye     & M & 34 &  NA & NA & Denmark/Sweden & DEN & 1900 Summer & 1900 & Summer & Paris     & Tug-Of-War    & Tug-Of-War Men's Tug-Of-War        & Gold\\\\\n",
       "\t 5 & Christine Jacoba Aaftink & F & 21 & 185 & 82 & Netherlands    & NED & 1988 Winter & 1988 & Winter & Calgary   & Speed Skating & Speed Skating Women's 500 metres   & NA  \\\\\n",
       "\t 5 & Christine Jacoba Aaftink & F & 21 & 185 & 82 & Netherlands    & NED & 1988 Winter & 1988 & Winter & Calgary   & Speed Skating & Speed Skating Women's 1,000 metres & NA  \\\\\n",
       "\\end{tabular}\n"
      ],
      "text/markdown": [
       "\n",
       "A tibble: 6 × 15\n",
       "\n",
       "| ID &lt;dbl&gt; | Name &lt;chr&gt; | Sex &lt;chr&gt; | Age &lt;dbl&gt; | Height &lt;dbl&gt; | Weight &lt;dbl&gt; | Team &lt;chr&gt; | NOC &lt;chr&gt; | Games &lt;chr&gt; | Year &lt;dbl&gt; | Season &lt;chr&gt; | City &lt;chr&gt; | Sport &lt;chr&gt; | Event &lt;chr&gt; | Medal &lt;chr&gt; |\n",
       "|---|---|---|---|---|---|---|---|---|---|---|---|---|---|---|\n",
       "| 1 | A Dijiang                | M | 24 | 180 | 80 | China          | CHN | 1992 Summer | 1992 | Summer | Barcelona | Basketball    | Basketball Men's Basketball        | NA   |\n",
       "| 2 | A Lamusi                 | M | 23 | 170 | 60 | China          | CHN | 2012 Summer | 2012 | Summer | London    | Judo          | Judo Men's Extra-Lightweight       | NA   |\n",
       "| 3 | Gunnar Nielsen Aaby      | M | 24 |  NA | NA | Denmark        | DEN | 1920 Summer | 1920 | Summer | Antwerpen | Football      | Football Men's Football            | NA   |\n",
       "| 4 | Edgar Lindenau Aabye     | M | 34 |  NA | NA | Denmark/Sweden | DEN | 1900 Summer | 1900 | Summer | Paris     | Tug-Of-War    | Tug-Of-War Men's Tug-Of-War        | Gold |\n",
       "| 5 | Christine Jacoba Aaftink | F | 21 | 185 | 82 | Netherlands    | NED | 1988 Winter | 1988 | Winter | Calgary   | Speed Skating | Speed Skating Women's 500 metres   | NA   |\n",
       "| 5 | Christine Jacoba Aaftink | F | 21 | 185 | 82 | Netherlands    | NED | 1988 Winter | 1988 | Winter | Calgary   | Speed Skating | Speed Skating Women's 1,000 metres | NA   |\n",
       "\n"
      ],
      "text/plain": [
       "  ID Name                     Sex Age Height Weight Team           NOC\n",
       "1 1  A Dijiang                M   24  180    80     China          CHN\n",
       "2 2  A Lamusi                 M   23  170    60     China          CHN\n",
       "3 3  Gunnar Nielsen Aaby      M   24   NA    NA     Denmark        DEN\n",
       "4 4  Edgar Lindenau Aabye     M   34   NA    NA     Denmark/Sweden DEN\n",
       "5 5  Christine Jacoba Aaftink F   21  185    82     Netherlands    NED\n",
       "6 5  Christine Jacoba Aaftink F   21  185    82     Netherlands    NED\n",
       "  Games       Year Season City      Sport        \n",
       "1 1992 Summer 1992 Summer Barcelona Basketball   \n",
       "2 2012 Summer 2012 Summer London    Judo         \n",
       "3 1920 Summer 1920 Summer Antwerpen Football     \n",
       "4 1900 Summer 1900 Summer Paris     Tug-Of-War   \n",
       "5 1988 Winter 1988 Winter Calgary   Speed Skating\n",
       "6 1988 Winter 1988 Winter Calgary   Speed Skating\n",
       "  Event                              Medal\n",
       "1 Basketball Men's Basketball        NA   \n",
       "2 Judo Men's Extra-Lightweight       NA   \n",
       "3 Football Men's Football            NA   \n",
       "4 Tug-Of-War Men's Tug-Of-War        Gold \n",
       "5 Speed Skating Women's 500 metres   NA   \n",
       "6 Speed Skating Women's 1,000 metres NA   "
      ]
     },
     "metadata": {},
     "output_type": "display_data"
    }
   ],
   "source": [
    "olympic_data <- read_csv(\"athlete_events.csv\")\n",
    "head(olympic_data)"
   ]
  },
  {
   "cell_type": "markdown",
   "id": "0066dc5a-b11b-4348-997e-94106e9dcee6",
   "metadata": {},
   "source": [
    "For our inferential study we are going to look at the data from the year 1912 and onwards and we are going to assess people of ages between 20 to 30. We are doing this because age and the year might play a factor in determining the proportion of poeple who won medals in olympics.\n",
    "\n",
    "Since, we only want to assess the proportion of Gymnasts who won a medal in the Olympics in the event Gymnastics Men's/Women's Individual All-Around, we are going to filter the data so we only have the Gymnastics data. Furthermore, we are only selecting the columns we require for our study."
   ]
  },
  {
   "cell_type": "code",
   "execution_count": 78,
   "id": "79b9a7cf-2455-4e22-9422-06aed47934c5",
   "metadata": {},
   "outputs": [
    {
     "data": {
      "text/html": [
       "<table class=\"dataframe\">\n",
       "<caption>A tibble: 6 × 4</caption>\n",
       "<thead>\n",
       "\t<tr><th scope=col>Sex</th><th scope=col>Height</th><th scope=col>Weight</th><th scope=col>Medal</th></tr>\n",
       "\t<tr><th scope=col>&lt;chr&gt;</th><th scope=col>&lt;dbl&gt;</th><th scope=col>&lt;dbl&gt;</th><th scope=col>&lt;chr&gt;</th></tr>\n",
       "</thead>\n",
       "<tbody>\n",
       "\t<tr><td>M</td><td>175</td><td>64</td><td>Bronze</td></tr>\n",
       "\t<tr><td>M</td><td>167</td><td>64</td><td>NA    </td></tr>\n",
       "\t<tr><td>M</td><td>167</td><td>63</td><td>NA    </td></tr>\n",
       "\t<tr><td>F</td><td>165</td><td>55</td><td>NA    </td></tr>\n",
       "\t<tr><td>M</td><td>159</td><td>64</td><td>NA    </td></tr>\n",
       "\t<tr><td>F</td><td> NA</td><td>NA</td><td>NA    </td></tr>\n",
       "</tbody>\n",
       "</table>\n"
      ],
      "text/latex": [
       "A tibble: 6 × 4\n",
       "\\begin{tabular}{llll}\n",
       " Sex & Height & Weight & Medal\\\\\n",
       " <chr> & <dbl> & <dbl> & <chr>\\\\\n",
       "\\hline\n",
       "\t M & 175 & 64 & Bronze\\\\\n",
       "\t M & 167 & 64 & NA    \\\\\n",
       "\t M & 167 & 63 & NA    \\\\\n",
       "\t F & 165 & 55 & NA    \\\\\n",
       "\t M & 159 & 64 & NA    \\\\\n",
       "\t F &  NA & NA & NA    \\\\\n",
       "\\end{tabular}\n"
      ],
      "text/markdown": [
       "\n",
       "A tibble: 6 × 4\n",
       "\n",
       "| Sex &lt;chr&gt; | Height &lt;dbl&gt; | Weight &lt;dbl&gt; | Medal &lt;chr&gt; |\n",
       "|---|---|---|---|\n",
       "| M | 175 | 64 | Bronze |\n",
       "| M | 167 | 64 | NA     |\n",
       "| M | 167 | 63 | NA     |\n",
       "| F | 165 | 55 | NA     |\n",
       "| M | 159 | 64 | NA     |\n",
       "| F |  NA | NA | NA     |\n",
       "\n"
      ],
      "text/plain": [
       "  Sex Height Weight Medal \n",
       "1 M   175    64     Bronze\n",
       "2 M   167    64     NA    \n",
       "3 M   167    63     NA    \n",
       "4 F   165    55     NA    \n",
       "5 M   159    64     NA    \n",
       "6 F    NA    NA     NA    "
      ]
     },
     "metadata": {},
     "output_type": "display_data"
    }
   ],
   "source": [
    "gymnast_data <- olympic_data |> \n",
    "                        filter(Age >= 20 & Age <= 30 & Year >= 1912) |> \n",
    "                        filter(Sport == \"Gymnastics\" & (Event == \"Gymnastics Men's Individual All-Around\" | Event == \"Gymnastics Women's Individual All-Around\")) |>\n",
    "                        select(Sex , Height, Weight, Medal)\n",
    "head(gymnast_data)"
   ]
  },
  {
   "cell_type": "markdown",
   "id": "39e09454-aad5-4c40-b4fb-35d09bc85570",
   "metadata": {},
   "source": [
    "Next, we are going to have to make a seperate column for BMI by using the formula:\n",
    "\n",
    " # $\\text{BMI}= \\frac{\\text{Weight}(\\text{in kg})}{(\\text{Height}(\\text{in cm}))^2}* 10000$\n",
    " \n",
    " Now, we are going to select people with only normal BMI, since most of the gymnasts fall under the normal BMI category and the Underweight/Overweight categories might act as outliers. "
   ]
  },
  {
   "cell_type": "code",
   "execution_count": 79,
   "id": "64b54fb3-8bda-434a-8685-1955591c9c0e",
   "metadata": {},
   "outputs": [
    {
     "data": {
      "text/html": [
       "1534"
      ],
      "text/latex": [
       "1534"
      ],
      "text/markdown": [
       "1534"
      ],
      "text/plain": [
       "[1] 1534"
      ]
     },
     "metadata": {},
     "output_type": "display_data"
    },
    {
     "data": {
      "text/html": [
       "<table class=\"dataframe\">\n",
       "<caption>A tibble: 6 × 2</caption>\n",
       "<thead>\n",
       "\t<tr><th scope=col>Sex</th><th scope=col>Medal</th></tr>\n",
       "\t<tr><th scope=col>&lt;chr&gt;</th><th scope=col>&lt;chr&gt;</th></tr>\n",
       "</thead>\n",
       "<tbody>\n",
       "\t<tr><td>M</td><td>Bronze</td></tr>\n",
       "\t<tr><td>M</td><td>NA    </td></tr>\n",
       "\t<tr><td>M</td><td>NA    </td></tr>\n",
       "\t<tr><td>F</td><td>NA    </td></tr>\n",
       "\t<tr><td>F</td><td>NA    </td></tr>\n",
       "\t<tr><td>F</td><td>NA    </td></tr>\n",
       "</tbody>\n",
       "</table>\n"
      ],
      "text/latex": [
       "A tibble: 6 × 2\n",
       "\\begin{tabular}{ll}\n",
       " Sex & Medal\\\\\n",
       " <chr> & <chr>\\\\\n",
       "\\hline\n",
       "\t M & Bronze\\\\\n",
       "\t M & NA    \\\\\n",
       "\t M & NA    \\\\\n",
       "\t F & NA    \\\\\n",
       "\t F & NA    \\\\\n",
       "\t F & NA    \\\\\n",
       "\\end{tabular}\n"
      ],
      "text/markdown": [
       "\n",
       "A tibble: 6 × 2\n",
       "\n",
       "| Sex &lt;chr&gt; | Medal &lt;chr&gt; |\n",
       "|---|---|\n",
       "| M | Bronze |\n",
       "| M | NA     |\n",
       "| M | NA     |\n",
       "| F | NA     |\n",
       "| F | NA     |\n",
       "| F | NA     |\n",
       "\n"
      ],
      "text/plain": [
       "  Sex Medal \n",
       "1 M   Bronze\n",
       "2 M   NA    \n",
       "3 M   NA    \n",
       "4 F   NA    \n",
       "5 F   NA    \n",
       "6 F   NA    "
      ]
     },
     "metadata": {},
     "output_type": "display_data"
    }
   ],
   "source": [
    "gymnast_data_gender <- gymnast_data |> \n",
    "                    mutate(bmi = Weight/Height^2*10000) |>\n",
    "                    filter(bmi >= 18.5 & bmi <= 25) |>\n",
    "                    select(Sex, Medal)\n",
    "\n",
    "population_size <- nrow(gymnast_data_gender)\n",
    "population_size\n",
    "head(gymnast_data_gender)"
   ]
  },
  {
   "cell_type": "markdown",
   "id": "8e9ed345-2974-4158-b55d-443bad3f6ce4",
   "metadata": {},
   "source": [
    "We know that, Individuals are drawn without replacement from the population, so independence can never be achieved. Since, our population size is 1534, it is safe to take a sample of size 150 for our inferential study upon the assumption that the samples taken are independent of each other, since, we are taking the sample size to be < 10% of the population size."
   ]
  },
  {
   "cell_type": "code",
   "execution_count": 80,
   "id": "5e0e02fb-5495-43b8-a8ca-1785e7f12316",
   "metadata": {},
   "outputs": [
    {
     "data": {
      "text/html": [
       "<table class=\"dataframe\">\n",
       "<caption>A tibble: 6 × 2</caption>\n",
       "<thead>\n",
       "\t<tr><th scope=col>Sex</th><th scope=col>Medal</th></tr>\n",
       "\t<tr><th scope=col>&lt;chr&gt;</th><th scope=col>&lt;chr&gt;</th></tr>\n",
       "</thead>\n",
       "<tbody>\n",
       "\t<tr><td>F</td><td>NA</td></tr>\n",
       "\t<tr><td>M</td><td>NA</td></tr>\n",
       "\t<tr><td>M</td><td>NA</td></tr>\n",
       "\t<tr><td>M</td><td>NA</td></tr>\n",
       "\t<tr><td>M</td><td>NA</td></tr>\n",
       "\t<tr><td>M</td><td>NA</td></tr>\n",
       "</tbody>\n",
       "</table>\n"
      ],
      "text/latex": [
       "A tibble: 6 × 2\n",
       "\\begin{tabular}{ll}\n",
       " Sex & Medal\\\\\n",
       " <chr> & <chr>\\\\\n",
       "\\hline\n",
       "\t F & NA\\\\\n",
       "\t M & NA\\\\\n",
       "\t M & NA\\\\\n",
       "\t M & NA\\\\\n",
       "\t M & NA\\\\\n",
       "\t M & NA\\\\\n",
       "\\end{tabular}\n"
      ],
      "text/markdown": [
       "\n",
       "A tibble: 6 × 2\n",
       "\n",
       "| Sex &lt;chr&gt; | Medal &lt;chr&gt; |\n",
       "|---|---|\n",
       "| F | NA |\n",
       "| M | NA |\n",
       "| M | NA |\n",
       "| M | NA |\n",
       "| M | NA |\n",
       "| M | NA |\n",
       "\n"
      ],
      "text/plain": [
       "  Sex Medal\n",
       "1 F   NA   \n",
       "2 M   NA   \n",
       "3 M   NA   \n",
       "4 M   NA   \n",
       "5 M   NA   \n",
       "6 M   NA   "
      ]
     },
     "metadata": {},
     "output_type": "display_data"
    }
   ],
   "source": [
    "set.seed(338)\n",
    "\n",
    "gymnast_sample <- gymnast_data_gender |> \n",
    "                  sample_n(size = 150)\n",
    "\n",
    "head(gymnast_sample)"
   ]
  },
  {
   "cell_type": "markdown",
   "id": "416f4cc8-01a3-47b8-b788-9b7f7a65f075",
   "metadata": {},
   "source": [
    "### Visualization"
   ]
  },
  {
   "cell_type": "markdown",
   "id": "dc8a80fe-aec7-4c24-89b6-0f1a45e04b57",
   "metadata": {},
   "source": [
    "Since, we have 2 categorical variables, for visualisation we can use Bar Graph or a contingency table. "
   ]
  },
  {
   "cell_type": "code",
   "execution_count": 88,
   "id": "d5c2d37d-b0b9-47da-8b1f-d377a3bcbfac",
   "metadata": {},
   "outputs": [
    {
     "data": {
      "text/html": [
       "<table class=\"dataframe\">\n",
       "<caption>A grouped_df: 2 × 5</caption>\n",
       "<thead>\n",
       "\t<tr><th scope=col>Sex</th><th scope=col>Bronze</th><th scope=col>Gold</th><th scope=col>Silver</th><th scope=col>&lt;NA&gt;</th></tr>\n",
       "\t<tr><th scope=col>&lt;chr&gt;</th><th scope=col>&lt;int&gt;</th><th scope=col>&lt;int&gt;</th><th scope=col>&lt;int&gt;</th><th scope=col>&lt;int&gt;</th></tr>\n",
       "</thead>\n",
       "<tbody>\n",
       "\t<tr><td>F</td><td> 1</td><td> 1</td><td>NA</td><td> 34</td></tr>\n",
       "\t<tr><td>M</td><td>NA</td><td>NA</td><td> 2</td><td>112</td></tr>\n",
       "</tbody>\n",
       "</table>\n"
      ],
      "text/latex": [
       "A grouped\\_df: 2 × 5\n",
       "\\begin{tabular}{lllll}\n",
       " Sex & Bronze & Gold & Silver & <NA>\\\\\n",
       " <chr> & <int> & <int> & <int> & <int>\\\\\n",
       "\\hline\n",
       "\t F &  1 &  1 & NA &  34\\\\\n",
       "\t M & NA & NA &  2 & 112\\\\\n",
       "\\end{tabular}\n"
      ],
      "text/markdown": [
       "\n",
       "A grouped_df: 2 × 5\n",
       "\n",
       "| Sex &lt;chr&gt; | Bronze &lt;int&gt; | Gold &lt;int&gt; | Silver &lt;int&gt; | &lt;NA&gt; &lt;int&gt; |\n",
       "|---|---|---|---|---|\n",
       "| F |  1 |  1 | NA |  34 |\n",
       "| M | NA | NA |  2 | 112 |\n",
       "\n"
      ],
      "text/plain": [
       "  Sex Bronze Gold Silver <NA>\n",
       "1 F    1      1   NA      34 \n",
       "2 M   NA     NA    2     112 "
      ]
     },
     "metadata": {},
     "output_type": "display_data"
    },
    {
     "data": {
      "application/pdf": "JVBERi0xLjUKJbXtrvsKNCAwIG9iago8PCAvTGVuZ3RoIDUgMCBSCiAgIC9GaWx0ZXIgL0Zs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\ndHhyZWYKMTA4ODMKJSVFT0YK",
      "image/jpeg": "/9j/4AAQSkZJRgABAQEAeAB4AAD/2wBDAAMCAgMCAgMDAwMEAwMEBQgFBQQEBQoHBwYIDAoM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\nRRQAUUUUAFFFFAH/2Q==",
      "image/png": "iVBORw0KGgoAAAANSUhEUgAAA0gAAANICAMAAADKOT/pAAAC7lBMVEUAAAAAv8QBAQECAgID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\nddNwMNz4EZkAAAAASUVORK5CYII=",
      "image/svg+xml": [
       "<?xml version=\"1.0\" encoding=\"UTF-8\"?>\n",
       "<svg xmlns=\"http://www.w3.org/2000/svg\" xmlns:xlink=\"http://www.w3.org/1999/xlink\" width=\"504pt\" height=\"504pt\" viewBox=\"0 0 504 504\" version=\"1.1\">\n",
       "<defs>\n",
       "<g>\n",
       "<symbol overflow=\"visible\" id=\"glyph0-0\">\n",
       "<path style=\"stroke:none;\" d=\"M 0.296875 0 L 0.296875 -5.859375 L 2.625 -5.859375 L 2.625 0 Z M 0.578125 -0.296875 L 2.34375 -0.296875 L 2.34375 -5.578125 L 0.578125 -5.578125 Z M 0.578125 -0.296875 \"/>\n",
       "</symbol>\n",
       "<symbol overflow=\"visible\" id=\"glyph0-1\">\n",
       "<path style=\"stroke:none;\" d=\"M 4.546875 -3.03125 C 4.546875 -2.445312 4.488281 -1.957031 4.375 -1.5625 C 4.269531 -1.164062 4.117188 -0.84375 3.921875 -0.59375 C 3.734375 -0.351562 3.507812 -0.179688 3.25 -0.078125 C 3 0.0234375 2.726562 0.078125 2.4375 0.078125 C 2.144531 0.078125 1.867188 0.0234375 1.609375 -0.078125 C 1.359375 -0.179688 1.140625 -0.351562 0.953125 -0.59375 C 0.765625 -0.84375 0.613281 -1.164062 0.5 -1.5625 C 0.394531 -1.957031 0.34375 -2.445312 0.34375 -3.03125 C 0.34375 -3.632812 0.394531 -4.132812 0.5 -4.53125 C 0.613281 -4.9375 0.765625 -5.257812 0.953125 -5.5 C 1.140625 -5.738281 1.359375 -5.90625 1.609375 -6 C 1.867188 -6.09375 2.15625 -6.140625 2.46875 -6.140625 C 2.75 -6.140625 3.015625 -6.09375 3.265625 -6 C 3.523438 -5.90625 3.75 -5.738281 3.9375 -5.5 C 4.125 -5.257812 4.269531 -4.9375 4.375 -4.53125 C 4.488281 -4.132812 4.546875 -3.632812 4.546875 -3.03125 Z M 3.765625 -3.03125 C 3.765625 -3.507812 3.734375 -3.90625 3.671875 -4.21875 C 3.617188 -4.539062 3.535156 -4.796875 3.421875 -4.984375 C 3.304688 -5.179688 3.164062 -5.316406 3 -5.390625 C 2.84375 -5.472656 2.664062 -5.515625 2.46875 -5.515625 C 2.25 -5.515625 2.054688 -5.472656 1.890625 -5.390625 C 1.722656 -5.316406 1.582031 -5.179688 1.46875 -4.984375 C 1.351562 -4.796875 1.265625 -4.539062 1.203125 -4.21875 C 1.148438 -3.90625 1.125 -3.507812 1.125 -3.03125 C 1.125 -2.5625 1.148438 -2.164062 1.203125 -1.84375 C 1.265625 -1.53125 1.351562 -1.273438 1.46875 -1.078125 C 1.582031 -0.890625 1.71875 -0.753906 1.875 -0.671875 C 2.039062 -0.585938 2.226562 -0.546875 2.4375 -0.546875 C 2.644531 -0.546875 2.828125 -0.585938 2.984375 -0.671875 C 3.148438 -0.753906 3.289062 -0.890625 3.40625 -1.078125 C 3.519531 -1.273438 3.609375 -1.53125 3.671875 -1.84375 C 3.734375 -2.164062 3.765625 -2.5625 3.765625 -3.03125 Z M 3.765625 -3.03125 \"/>\n",
       "</symbol>\n",
       "<symbol overflow=\"visible\" id=\"glyph0-2\">\n",
       "<path style=\"stroke:none;\" d=\"M 4.515625 -1.96875 C 4.515625 -1.664062 4.46875 -1.390625 4.375 -1.140625 C 4.289062 -0.890625 4.15625 -0.671875 3.96875 -0.484375 C 3.789062 -0.304688 3.566406 -0.164062 3.296875 -0.0625 C 3.035156 0.03125 2.726562 0.078125 2.375 0.078125 C 2.0625 0.078125 1.785156 0.0390625 1.546875 -0.03125 C 1.304688 -0.101562 1.101562 -0.203125 0.9375 -0.328125 C 0.78125 -0.460938 0.648438 -0.613281 0.546875 -0.78125 C 0.453125 -0.957031 0.390625 -1.148438 0.359375 -1.359375 L 1.140625 -1.4375 C 1.171875 -1.320312 1.210938 -1.210938 1.265625 -1.109375 C 1.328125 -1.003906 1.40625 -0.910156 1.5 -0.828125 C 1.601562 -0.742188 1.722656 -0.675781 1.859375 -0.625 C 2.003906 -0.570312 2.179688 -0.546875 2.390625 -0.546875 C 2.585938 -0.546875 2.769531 -0.578125 2.9375 -0.640625 C 3.101562 -0.703125 3.242188 -0.789062 3.359375 -0.90625 C 3.472656 -1.03125 3.5625 -1.175781 3.625 -1.34375 C 3.6875 -1.519531 3.71875 -1.722656 3.71875 -1.953125 C 3.71875 -2.140625 3.6875 -2.3125 3.625 -2.46875 C 3.570312 -2.625 3.488281 -2.757812 3.375 -2.875 C 3.257812 -2.988281 3.117188 -3.078125 2.953125 -3.140625 C 2.796875 -3.203125 2.613281 -3.234375 2.40625 -3.234375 C 2.28125 -3.234375 2.160156 -3.21875 2.046875 -3.1875 C 1.941406 -3.164062 1.84375 -3.132812 1.75 -3.09375 C 1.65625 -3.0625 1.570312 -3.015625 1.5 -2.953125 C 1.425781 -2.898438 1.351562 -2.847656 1.28125 -2.796875 L 0.53125 -2.796875 L 0.734375 -6.046875 L 4.171875 -6.046875 L 4.171875 -5.390625 L 1.4375 -5.390625 L 1.3125 -3.46875 C 1.457031 -3.582031 1.628906 -3.675781 1.828125 -3.75 C 2.035156 -3.820312 2.28125 -3.859375 2.5625 -3.859375 C 2.863281 -3.859375 3.132812 -3.8125 3.375 -3.71875 C 3.613281 -3.632812 3.816406 -3.503906 3.984375 -3.328125 C 4.160156 -3.160156 4.289062 -2.960938 4.375 -2.734375 C 4.46875 -2.503906 4.515625 -2.25 4.515625 -1.96875 Z M 4.515625 -1.96875 \"/>\n",
       "</symbol>\n",
       "<symbol overflow=\"visible\" id=\"glyph0-3\">\n",
       "<path style=\"stroke:none;\" d=\"M 0.671875 0 L 0.671875 -0.65625 L 2.21875 -0.65625 L 2.21875 -5.3125 L 0.84375 -4.34375 L 0.84375 -5.0625 L 2.28125 -6.046875 L 2.984375 -6.046875 L 2.984375 -0.65625 L 4.46875 -0.65625 L 4.46875 0 Z M 0.671875 0 \"/>\n",
       "</symbol>\n",
       "<symbol overflow=\"visible\" id=\"glyph0-4\">\n",
       "<path style=\"stroke:none;\" d=\"M 5.40625 -1.703125 C 5.40625 -1.398438 5.34375 -1.140625 5.21875 -0.921875 C 5.101562 -0.703125 4.941406 -0.523438 4.734375 -0.390625 C 4.535156 -0.253906 4.300781 -0.15625 4.03125 -0.09375 C 3.757812 -0.03125 3.472656 0 3.171875 0 L 0.71875 0 L 0.71875 -6.046875 L 2.921875 -6.046875 C 3.253906 -6.046875 3.550781 -6.019531 3.8125 -5.96875 C 4.082031 -5.914062 4.304688 -5.828125 4.484375 -5.703125 C 4.671875 -5.585938 4.8125 -5.4375 4.90625 -5.25 C 5 -5.0625 5.046875 -4.835938 5.046875 -4.578125 C 5.046875 -4.410156 5.019531 -4.253906 4.96875 -4.109375 C 4.925781 -3.960938 4.859375 -3.828125 4.765625 -3.703125 C 4.671875 -3.578125 4.550781 -3.46875 4.40625 -3.375 C 4.257812 -3.289062 4.09375 -3.226562 3.90625 -3.1875 C 4.144531 -3.164062 4.359375 -3.113281 4.546875 -3.03125 C 4.734375 -2.945312 4.890625 -2.835938 5.015625 -2.703125 C 5.140625 -2.578125 5.234375 -2.425781 5.296875 -2.25 C 5.367188 -2.082031 5.40625 -1.898438 5.40625 -1.703125 Z M 4.234375 -4.484375 C 4.234375 -4.804688 4.117188 -5.035156 3.890625 -5.171875 C 3.671875 -5.316406 3.347656 -5.390625 2.921875 -5.390625 L 1.546875 -5.390625 L 1.546875 -3.484375 L 2.921875 -3.484375 C 3.160156 -3.484375 3.363281 -3.503906 3.53125 -3.546875 C 3.695312 -3.597656 3.832031 -3.664062 3.9375 -3.75 C 4.039062 -3.84375 4.113281 -3.945312 4.15625 -4.0625 C 4.207031 -4.1875 4.234375 -4.328125 4.234375 -4.484375 Z M 4.578125 -1.765625 C 4.578125 -1.960938 4.539062 -2.128906 4.46875 -2.265625 C 4.394531 -2.398438 4.289062 -2.507812 4.15625 -2.59375 C 4.03125 -2.675781 3.875 -2.738281 3.6875 -2.78125 C 3.507812 -2.820312 3.304688 -2.84375 3.078125 -2.84375 L 1.546875 -2.84375 L 1.546875 -0.65625 L 3.140625 -0.65625 C 3.347656 -0.65625 3.539062 -0.671875 3.71875 -0.703125 C 3.894531 -0.742188 4.046875 -0.804688 4.171875 -0.890625 C 4.296875 -0.972656 4.394531 -1.085938 4.46875 -1.234375 C 4.539062 -1.378906 4.578125 -1.554688 4.578125 -1.765625 Z M 4.578125 -1.765625 \"/>\n",
       "</symbol>\n",
       "<symbol overflow=\"visible\" id=\"glyph0-5\">\n",
       "<path style=\"stroke:none;\" d=\"M 0.609375 0 L 0.609375 -3.5625 C 0.609375 -3.664062 0.609375 -3.765625 0.609375 -3.859375 C 0.609375 -3.960938 0.601562 -4.0625 0.59375 -4.15625 C 0.59375 -4.25 0.59375 -4.335938 0.59375 -4.421875 C 0.59375 -4.503906 0.585938 -4.578125 0.578125 -4.640625 L 1.3125 -4.640625 C 1.3125 -4.578125 1.3125 -4.503906 1.3125 -4.421875 C 1.320312 -4.335938 1.328125 -4.25 1.328125 -4.15625 C 1.335938 -4.070312 1.34375 -3.988281 1.34375 -3.90625 C 1.34375 -3.820312 1.34375 -3.753906 1.34375 -3.703125 L 1.359375 -3.703125 C 1.421875 -3.878906 1.476562 -4.03125 1.53125 -4.15625 C 1.59375 -4.289062 1.664062 -4.398438 1.75 -4.484375 C 1.832031 -4.566406 1.929688 -4.628906 2.046875 -4.671875 C 2.160156 -4.710938 2.300781 -4.734375 2.46875 -4.734375 C 2.53125 -4.734375 2.585938 -4.726562 2.640625 -4.71875 C 2.703125 -4.707031 2.75 -4.695312 2.78125 -4.6875 L 2.78125 -3.984375 C 2.726562 -3.992188 2.664062 -4.003906 2.59375 -4.015625 C 2.53125 -4.023438 2.457031 -4.03125 2.375 -4.03125 C 2.195312 -4.03125 2.046875 -3.988281 1.921875 -3.90625 C 1.796875 -3.820312 1.691406 -3.707031 1.609375 -3.5625 C 1.535156 -3.425781 1.476562 -3.257812 1.4375 -3.0625 C 1.40625 -2.863281 1.390625 -2.648438 1.390625 -2.421875 L 1.390625 0 Z M 0.609375 0 \"/>\n",
       "</symbol>\n",
       "<symbol overflow=\"visible\" id=\"glyph0-6\">\n",
       "<path style=\"stroke:none;\" d=\"M 4.515625 -2.328125 C 4.515625 -1.515625 4.335938 -0.910156 3.984375 -0.515625 C 3.628906 -0.117188 3.109375 0.078125 2.421875 0.078125 C 2.097656 0.078125 1.804688 0.03125 1.546875 -0.0625 C 1.296875 -0.15625 1.082031 -0.300781 0.90625 -0.5 C 0.738281 -0.707031 0.609375 -0.960938 0.515625 -1.265625 C 0.421875 -1.566406 0.375 -1.921875 0.375 -2.328125 C 0.375 -3.929688 1.066406 -4.734375 2.453125 -4.734375 C 2.816406 -4.734375 3.128906 -4.679688 3.390625 -4.578125 C 3.648438 -4.484375 3.863281 -4.332031 4.03125 -4.125 C 4.195312 -3.925781 4.316406 -3.675781 4.390625 -3.375 C 4.472656 -3.070312 4.515625 -2.722656 4.515625 -2.328125 Z M 3.71875 -2.328125 C 3.71875 -2.691406 3.6875 -2.988281 3.625 -3.21875 C 3.570312 -3.457031 3.488281 -3.644531 3.375 -3.78125 C 3.269531 -3.925781 3.140625 -4.023438 2.984375 -4.078125 C 2.828125 -4.128906 2.65625 -4.15625 2.46875 -4.15625 C 2.269531 -4.15625 2.085938 -4.125 1.921875 -4.0625 C 1.765625 -4.007812 1.628906 -3.910156 1.515625 -3.765625 C 1.410156 -3.628906 1.328125 -3.441406 1.265625 -3.203125 C 1.210938 -2.972656 1.1875 -2.679688 1.1875 -2.328125 C 1.1875 -1.960938 1.21875 -1.660156 1.28125 -1.421875 C 1.34375 -1.191406 1.425781 -1.003906 1.53125 -0.859375 C 1.644531 -0.722656 1.773438 -0.625 1.921875 -0.5625 C 2.078125 -0.507812 2.242188 -0.484375 2.421875 -0.484375 C 2.617188 -0.484375 2.796875 -0.507812 2.953125 -0.5625 C 3.117188 -0.625 3.253906 -0.722656 3.359375 -0.859375 C 3.472656 -1.003906 3.5625 -1.191406 3.625 -1.421875 C 3.6875 -1.660156 3.71875 -1.960938 3.71875 -2.328125 Z M 3.71875 -2.328125 \"/>\n",
       "</symbol>\n",
       "<symbol overflow=\"visible\" id=\"glyph0-7\">\n",
       "<path style=\"stroke:none;\" d=\"M 3.546875 0 L 3.546875 -2.953125 C 3.546875 -3.171875 3.523438 -3.351562 3.484375 -3.5 C 3.453125 -3.65625 3.398438 -3.78125 3.328125 -3.875 C 3.253906 -3.96875 3.15625 -4.035156 3.03125 -4.078125 C 2.914062 -4.117188 2.765625 -4.140625 2.578125 -4.140625 C 2.398438 -4.140625 2.238281 -4.101562 2.09375 -4.03125 C 1.945312 -3.96875 1.820312 -3.875 1.71875 -3.75 C 1.613281 -3.632812 1.53125 -3.488281 1.46875 -3.3125 C 1.414062 -3.132812 1.390625 -2.925781 1.390625 -2.6875 L 1.390625 0 L 0.609375 0 L 0.609375 -3.65625 C 0.609375 -3.75 0.609375 -3.847656 0.609375 -3.953125 C 0.609375 -4.066406 0.601562 -4.171875 0.59375 -4.265625 C 0.59375 -4.359375 0.59375 -4.441406 0.59375 -4.515625 C 0.59375 -4.585938 0.585938 -4.628906 0.578125 -4.640625 L 1.3125 -4.640625 C 1.3125 -4.628906 1.3125 -4.59375 1.3125 -4.53125 C 1.320312 -4.46875 1.328125 -4.394531 1.328125 -4.3125 C 1.335938 -4.226562 1.34375 -4.144531 1.34375 -4.0625 C 1.34375 -3.976562 1.34375 -3.910156 1.34375 -3.859375 L 1.359375 -3.859375 C 1.429688 -3.992188 1.507812 -4.113281 1.59375 -4.21875 C 1.6875 -4.320312 1.789062 -4.410156 1.90625 -4.484375 C 2.03125 -4.566406 2.164062 -4.628906 2.3125 -4.671875 C 2.46875 -4.710938 2.644531 -4.734375 2.84375 -4.734375 C 3.101562 -4.734375 3.328125 -4.703125 3.515625 -4.640625 C 3.703125 -4.578125 3.851562 -4.476562 3.96875 -4.34375 C 4.09375 -4.21875 4.179688 -4.050781 4.234375 -3.84375 C 4.296875 -3.632812 4.328125 -3.382812 4.328125 -3.09375 L 4.328125 0 Z M 3.546875 0 \"/>\n",
       "</symbol>\n",
       "<symbol overflow=\"visible\" id=\"glyph0-8\">\n",
       "<path style=\"stroke:none;\" d=\"M 0.203125 0 L 0.203125 -0.59375 L 3.046875 -4.046875 L 0.375 -4.046875 L 0.375 -4.640625 L 3.921875 -4.640625 L 3.921875 -4.0625 L 1.078125 -0.59375 L 4.078125 -0.59375 L 4.078125 0 Z M 0.203125 0 \"/>\n",
       "</symbol>\n",
       "<symbol overflow=\"visible\" id=\"glyph0-9\">\n",
       "<path style=\"stroke:none;\" d=\"M 1.1875 -2.15625 C 1.1875 -1.914062 1.207031 -1.691406 1.25 -1.484375 C 1.300781 -1.285156 1.378906 -1.109375 1.484375 -0.953125 C 1.597656 -0.804688 1.734375 -0.691406 1.890625 -0.609375 C 2.054688 -0.535156 2.253906 -0.5 2.484375 -0.5 C 2.816406 -0.5 3.082031 -0.5625 3.28125 -0.6875 C 3.488281 -0.820312 3.628906 -0.992188 3.703125 -1.203125 L 4.375 -1.015625 C 4.320312 -0.890625 4.253906 -0.757812 4.171875 -0.625 C 4.085938 -0.488281 3.972656 -0.367188 3.828125 -0.265625 C 3.679688 -0.160156 3.5 -0.078125 3.28125 -0.015625 C 3.0625 0.046875 2.796875 0.078125 2.484375 0.078125 C 1.796875 0.078125 1.269531 -0.125 0.90625 -0.53125 C 0.550781 -0.9375 0.375 -1.546875 0.375 -2.359375 C 0.375 -2.785156 0.425781 -3.148438 0.53125 -3.453125 C 0.644531 -3.753906 0.796875 -4 0.984375 -4.1875 C 1.171875 -4.382812 1.390625 -4.523438 1.640625 -4.609375 C 1.890625 -4.691406 2.160156 -4.734375 2.453125 -4.734375 C 2.835938 -4.734375 3.160156 -4.671875 3.421875 -4.546875 C 3.691406 -4.421875 3.90625 -4.242188 4.0625 -4.015625 C 4.21875 -3.796875 4.328125 -3.535156 4.390625 -3.234375 C 4.460938 -2.929688 4.5 -2.609375 4.5 -2.265625 L 4.5 -2.15625 Z M 3.703125 -2.75 C 3.660156 -3.238281 3.535156 -3.59375 3.328125 -3.8125 C 3.117188 -4.039062 2.820312 -4.15625 2.4375 -4.15625 C 2.3125 -4.15625 2.175781 -4.132812 2.03125 -4.09375 C 1.894531 -4.050781 1.765625 -3.976562 1.640625 -3.875 C 1.515625 -3.769531 1.410156 -3.625 1.328125 -3.4375 C 1.253906 -3.257812 1.207031 -3.03125 1.1875 -2.75 Z M 3.703125 -2.75 \"/>\n",
       "</symbol>\n",
       "<symbol overflow=\"visible\" id=\"glyph0-10\">\n",
       "<path style=\"stroke:none;\" d=\"M 0.4375 -3.046875 C 0.4375 -3.523438 0.5 -3.953125 0.625 -4.328125 C 0.757812 -4.710938 0.953125 -5.035156 1.203125 -5.296875 C 1.453125 -5.566406 1.765625 -5.773438 2.140625 -5.921875 C 2.515625 -6.066406 2.953125 -6.140625 3.453125 -6.140625 C 3.828125 -6.140625 4.15625 -6.101562 4.4375 -6.03125 C 4.71875 -5.96875 4.957031 -5.875 5.15625 -5.75 C 5.363281 -5.632812 5.539062 -5.488281 5.6875 -5.3125 C 5.832031 -5.132812 5.953125 -4.9375 6.046875 -4.71875 L 5.265625 -4.484375 C 5.191406 -4.628906 5.101562 -4.765625 5 -4.890625 C 4.894531 -5.015625 4.769531 -5.117188 4.625 -5.203125 C 4.476562 -5.285156 4.304688 -5.347656 4.109375 -5.390625 C 3.910156 -5.441406 3.6875 -5.46875 3.4375 -5.46875 C 3.0625 -5.46875 2.738281 -5.410156 2.46875 -5.296875 C 2.207031 -5.179688 1.984375 -5.019531 1.796875 -4.8125 C 1.617188 -4.601562 1.488281 -4.347656 1.40625 -4.046875 C 1.320312 -3.742188 1.28125 -3.410156 1.28125 -3.046875 C 1.28125 -2.691406 1.328125 -2.363281 1.421875 -2.0625 C 1.515625 -1.757812 1.65625 -1.492188 1.84375 -1.265625 C 2.03125 -1.046875 2.257812 -0.875 2.53125 -0.75 C 2.8125 -0.632812 3.128906 -0.578125 3.484375 -0.578125 C 3.722656 -0.578125 3.941406 -0.597656 4.140625 -0.640625 C 4.347656 -0.679688 4.53125 -0.734375 4.6875 -0.796875 C 4.851562 -0.859375 5 -0.925781 5.125 -1 C 5.25 -1.082031 5.347656 -1.164062 5.421875 -1.25 L 5.421875 -2.34375 L 3.625 -2.34375 L 3.625 -3.03125 L 6.1875 -3.03125 L 6.1875 -0.9375 C 6.050781 -0.800781 5.890625 -0.671875 5.703125 -0.546875 C 5.523438 -0.421875 5.320312 -0.3125 5.09375 -0.21875 C 4.875 -0.125 4.628906 -0.0507812 4.359375 0 C 4.085938 0.0507812 3.796875 0.078125 3.484375 0.078125 C 2.984375 0.078125 2.539062 0.00390625 2.15625 -0.140625 C 1.769531 -0.296875 1.453125 -0.515625 1.203125 -0.796875 C 0.953125 -1.078125 0.757812 -1.410156 0.625 -1.796875 C 0.5 -2.179688 0.4375 -2.597656 0.4375 -3.046875 Z M 0.4375 -3.046875 \"/>\n",
       "</symbol>\n",
       "<symbol overflow=\"visible\" id=\"glyph0-11\">\n",
       "<path style=\"stroke:none;\" d=\"M 0.59375 0 L 0.59375 -6.375 L 1.359375 -6.375 L 1.359375 0 Z M 0.59375 0 \"/>\n",
       "</symbol>\n",
       "<symbol overflow=\"visible\" id=\"glyph0-12\">\n",
       "<path style=\"stroke:none;\" d=\"M 3.53125 -0.75 C 3.382812 -0.445312 3.191406 -0.234375 2.953125 -0.109375 C 2.722656 0.015625 2.429688 0.078125 2.078125 0.078125 C 1.492188 0.078125 1.0625 -0.113281 0.78125 -0.5 C 0.507812 -0.894531 0.375 -1.492188 0.375 -2.296875 C 0.375 -3.921875 0.941406 -4.734375 2.078125 -4.734375 C 2.429688 -4.734375 2.722656 -4.664062 2.953125 -4.53125 C 3.191406 -4.40625 3.382812 -4.203125 3.53125 -3.921875 C 3.53125 -3.953125 3.53125 -4 3.53125 -4.0625 C 3.53125 -4.125 3.53125 -4.1875 3.53125 -4.25 C 3.53125 -4.320312 3.53125 -4.382812 3.53125 -4.4375 C 3.53125 -4.5 3.53125 -4.546875 3.53125 -4.578125 L 3.53125 -6.375 L 4.296875 -6.375 L 4.296875 -0.953125 C 4.296875 -0.847656 4.296875 -0.742188 4.296875 -0.640625 C 4.296875 -0.535156 4.296875 -0.4375 4.296875 -0.34375 C 4.304688 -0.257812 4.3125 -0.1875 4.3125 -0.125 C 4.320312 -0.0625 4.328125 -0.0195312 4.328125 0 L 3.59375 0 C 3.582031 -0.03125 3.570312 -0.0703125 3.5625 -0.125 C 3.5625 -0.175781 3.554688 -0.234375 3.546875 -0.296875 C 3.546875 -0.367188 3.546875 -0.441406 3.546875 -0.515625 C 3.546875 -0.597656 3.546875 -0.675781 3.546875 -0.75 Z M 1.1875 -2.328125 C 1.1875 -2.003906 1.203125 -1.726562 1.234375 -1.5 C 1.273438 -1.269531 1.335938 -1.082031 1.421875 -0.9375 C 1.515625 -0.789062 1.628906 -0.679688 1.765625 -0.609375 C 1.910156 -0.546875 2.082031 -0.515625 2.28125 -0.515625 C 2.476562 -0.515625 2.65625 -0.546875 2.8125 -0.609375 C 2.96875 -0.671875 3.097656 -0.773438 3.203125 -0.921875 C 3.304688 -1.078125 3.382812 -1.269531 3.4375 -1.5 C 3.5 -1.738281 3.53125 -2.03125 3.53125 -2.375 C 3.53125 -2.707031 3.5 -2.988281 3.4375 -3.21875 C 3.382812 -3.445312 3.304688 -3.628906 3.203125 -3.765625 C 3.097656 -3.910156 2.96875 -4.007812 2.8125 -4.0625 C 2.65625 -4.125 2.476562 -4.15625 2.28125 -4.15625 C 2.09375 -4.15625 1.929688 -4.125 1.796875 -4.0625 C 1.660156 -4 1.546875 -3.894531 1.453125 -3.75 C 1.359375 -3.601562 1.289062 -3.410156 1.25 -3.171875 C 1.207031 -2.941406 1.1875 -2.660156 1.1875 -2.328125 Z M 1.1875 -2.328125 \"/>\n",
       "</symbol>\n",
       "<symbol overflow=\"visible\" id=\"glyph0-13\">\n",
       "<path style=\"stroke:none;\" d=\"M 5.46875 -1.671875 C 5.46875 -1.410156 5.414062 -1.171875 5.3125 -0.953125 C 5.21875 -0.742188 5.066406 -0.5625 4.859375 -0.40625 C 4.648438 -0.25 4.390625 -0.128906 4.078125 -0.046875 C 3.765625 0.0351562 3.394531 0.078125 2.96875 0.078125 C 2.207031 0.078125 1.617188 -0.0507812 1.203125 -0.3125 C 0.785156 -0.570312 0.519531 -0.953125 0.40625 -1.453125 L 1.1875 -1.609375 C 1.226562 -1.453125 1.289062 -1.304688 1.375 -1.171875 C 1.457031 -1.046875 1.566406 -0.9375 1.703125 -0.84375 C 1.847656 -0.75 2.023438 -0.675781 2.234375 -0.625 C 2.453125 -0.570312 2.707031 -0.546875 3 -0.546875 C 3.238281 -0.546875 3.457031 -0.566406 3.65625 -0.609375 C 3.863281 -0.648438 4.039062 -0.710938 4.1875 -0.796875 C 4.332031 -0.890625 4.445312 -1.003906 4.53125 -1.140625 C 4.613281 -1.273438 4.65625 -1.4375 4.65625 -1.625 C 4.65625 -1.820312 4.609375 -1.984375 4.515625 -2.109375 C 4.421875 -2.234375 4.289062 -2.332031 4.125 -2.40625 C 3.96875 -2.488281 3.773438 -2.554688 3.546875 -2.609375 C 3.328125 -2.671875 3.078125 -2.734375 2.796875 -2.796875 C 2.628906 -2.828125 2.457031 -2.863281 2.28125 -2.90625 C 2.113281 -2.957031 1.953125 -3.015625 1.796875 -3.078125 C 1.640625 -3.140625 1.492188 -3.210938 1.359375 -3.296875 C 1.222656 -3.378906 1.101562 -3.476562 1 -3.59375 C 0.90625 -3.707031 0.828125 -3.835938 0.765625 -3.984375 C 0.710938 -4.140625 0.6875 -4.316406 0.6875 -4.515625 C 0.6875 -4.804688 0.742188 -5.050781 0.859375 -5.25 C 0.972656 -5.457031 1.132812 -5.628906 1.34375 -5.765625 C 1.550781 -5.898438 1.789062 -5.992188 2.0625 -6.046875 C 2.34375 -6.109375 2.648438 -6.140625 2.984375 -6.140625 C 3.359375 -6.140625 3.675781 -6.109375 3.9375 -6.046875 C 4.207031 -5.992188 4.429688 -5.90625 4.609375 -5.78125 C 4.796875 -5.664062 4.941406 -5.519531 5.046875 -5.34375 C 5.160156 -5.175781 5.253906 -4.976562 5.328125 -4.75 L 4.515625 -4.609375 C 4.472656 -4.753906 4.414062 -4.882812 4.34375 -5 C 4.269531 -5.113281 4.171875 -5.207031 4.046875 -5.28125 C 3.921875 -5.363281 3.769531 -5.425781 3.59375 -5.46875 C 3.414062 -5.507812 3.207031 -5.53125 2.96875 -5.53125 C 2.6875 -5.53125 2.453125 -5.503906 2.265625 -5.453125 C 2.078125 -5.398438 1.921875 -5.328125 1.796875 -5.234375 C 1.679688 -5.148438 1.597656 -5.050781 1.546875 -4.9375 C 1.503906 -4.820312 1.484375 -4.695312 1.484375 -4.5625 C 1.484375 -4.382812 1.523438 -4.238281 1.609375 -4.125 C 1.703125 -4.007812 1.828125 -3.910156 1.984375 -3.828125 C 2.140625 -3.753906 2.316406 -3.691406 2.515625 -3.640625 C 2.722656 -3.585938 2.941406 -3.535156 3.171875 -3.484375 C 3.359375 -3.441406 3.539062 -3.394531 3.71875 -3.34375 C 3.90625 -3.300781 4.082031 -3.25 4.25 -3.1875 C 4.425781 -3.125 4.585938 -3.050781 4.734375 -2.96875 C 4.878906 -2.894531 5.003906 -2.796875 5.109375 -2.671875 C 5.222656 -2.546875 5.3125 -2.398438 5.375 -2.234375 C 5.4375 -2.078125 5.46875 -1.890625 5.46875 -1.671875 Z M 5.46875 -1.671875 \"/>\n",
       "</symbol>\n",
       "<symbol overflow=\"visible\" id=\"glyph0-14\">\n",
       "<path style=\"stroke:none;\" d=\"M 0.59375 -5.640625 L 0.59375 -6.375 L 1.359375 -6.375 L 1.359375 -5.640625 Z M 0.59375 0 L 0.59375 -4.640625 L 1.359375 -4.640625 L 1.359375 0 Z M 0.59375 0 \"/>\n",
       "</symbol>\n",
       "<symbol overflow=\"visible\" id=\"glyph0-15\">\n",
       "<path style=\"stroke:none;\" d=\"M 2.640625 0 L 1.71875 0 L 0.03125 -4.640625 L 0.859375 -4.640625 L 1.875 -1.625 C 1.894531 -1.5625 1.914062 -1.484375 1.9375 -1.390625 C 1.96875 -1.304688 2 -1.210938 2.03125 -1.109375 C 2.0625 -1.015625 2.085938 -0.921875 2.109375 -0.828125 C 2.128906 -0.742188 2.148438 -0.671875 2.171875 -0.609375 C 2.191406 -0.671875 2.210938 -0.742188 2.234375 -0.828125 C 2.265625 -0.921875 2.289062 -1.015625 2.3125 -1.109375 C 2.34375 -1.203125 2.375 -1.289062 2.40625 -1.375 C 2.4375 -1.46875 2.460938 -1.546875 2.484375 -1.609375 L 3.546875 -4.640625 L 4.375 -4.640625 Z M 2.640625 0 \"/>\n",
       "</symbol>\n",
       "<symbol overflow=\"visible\" id=\"glyph0-16\">\n",
       "<path style=\"stroke:none;\" d=\"M 4.640625 0 L 1.40625 -5.15625 C 1.414062 -5.007812 1.425781 -4.867188 1.4375 -4.734375 C 1.4375 -4.617188 1.4375 -4.492188 1.4375 -4.359375 C 1.445312 -4.234375 1.453125 -4.117188 1.453125 -4.015625 L 1.453125 0 L 0.71875 0 L 0.71875 -6.046875 L 1.671875 -6.046875 L 4.953125 -0.859375 C 4.941406 -1.003906 4.929688 -1.144531 4.921875 -1.28125 C 4.910156 -1.40625 4.898438 -1.535156 4.890625 -1.671875 C 4.890625 -1.816406 4.890625 -1.953125 4.890625 -2.078125 L 4.890625 -6.046875 L 5.640625 -6.046875 L 5.640625 0 Z M 4.640625 0 \"/>\n",
       "</symbol>\n",
       "<symbol overflow=\"visible\" id=\"glyph0-17\">\n",
       "<path style=\"stroke:none;\" d=\"M 5.015625 0 L 4.328125 -1.765625 L 1.5625 -1.765625 L 0.875 0 L 0.015625 0 L 2.484375 -6.046875 L 3.421875 -6.046875 L 5.84375 0 Z M 3.296875 -4.40625 C 3.253906 -4.519531 3.210938 -4.632812 3.171875 -4.75 C 3.128906 -4.875 3.09375 -4.984375 3.0625 -5.078125 C 3.03125 -5.171875 3.003906 -5.25 2.984375 -5.3125 C 2.960938 -5.375 2.945312 -5.414062 2.9375 -5.4375 C 2.9375 -5.414062 2.925781 -5.375 2.90625 -5.3125 C 2.882812 -5.25 2.859375 -5.164062 2.828125 -5.0625 C 2.796875 -4.96875 2.757812 -4.859375 2.71875 -4.734375 C 2.675781 -4.617188 2.628906 -4.507812 2.578125 -4.40625 L 1.8125 -2.40625 L 4.078125 -2.40625 Z M 3.296875 -4.40625 \"/>\n",
       "</symbol>\n",
       "<symbol overflow=\"visible\" id=\"glyph0-18\">\n",
       "<path style=\"stroke:none;\" d=\"M 1.546875 -5.375 L 1.546875 -3.125 L 4.921875 -3.125 L 4.921875 -2.453125 L 1.546875 -2.453125 L 1.546875 0 L 0.71875 0 L 0.71875 -6.046875 L 5.015625 -6.046875 L 5.015625 -5.375 Z M 1.546875 -5.375 \"/>\n",
       "</symbol>\n",
       "<symbol overflow=\"visible\" id=\"glyph0-19\">\n",
       "<path style=\"stroke:none;\" d=\"M 5.875 0 L 5.875 -4.03125 C 5.875 -4.175781 5.875 -4.328125 5.875 -4.484375 C 5.875 -4.640625 5.878906 -4.78125 5.890625 -4.90625 C 5.890625 -5.050781 5.894531 -5.191406 5.90625 -5.328125 C 5.863281 -5.179688 5.820312 -5.035156 5.78125 -4.890625 C 5.738281 -4.765625 5.695312 -4.632812 5.65625 -4.5 C 5.613281 -4.363281 5.570312 -4.238281 5.53125 -4.125 L 3.96875 0 L 3.390625 0 L 1.796875 -4.125 C 1.785156 -4.164062 1.769531 -4.210938 1.75 -4.265625 C 1.726562 -4.328125 1.707031 -4.390625 1.6875 -4.453125 C 1.664062 -4.515625 1.644531 -4.578125 1.625 -4.640625 C 1.601562 -4.710938 1.582031 -4.785156 1.5625 -4.859375 C 1.507812 -5.003906 1.460938 -5.160156 1.421875 -5.328125 C 1.421875 -5.160156 1.425781 -5 1.4375 -4.84375 C 1.4375 -4.707031 1.4375 -4.566406 1.4375 -4.421875 C 1.445312 -4.273438 1.453125 -4.144531 1.453125 -4.03125 L 1.453125 0 L 0.71875 0 L 0.71875 -6.046875 L 1.796875 -6.046875 L 3.40625 -1.859375 C 3.425781 -1.796875 3.453125 -1.71875 3.484375 -1.625 C 3.515625 -1.539062 3.539062 -1.453125 3.5625 -1.359375 C 3.59375 -1.265625 3.617188 -1.175781 3.640625 -1.09375 C 3.660156 -1.007812 3.675781 -0.941406 3.6875 -0.890625 C 3.6875 -0.941406 3.695312 -1.007812 3.71875 -1.09375 C 3.75 -1.175781 3.78125 -1.265625 3.8125 -1.359375 C 3.84375 -1.453125 3.867188 -1.539062 3.890625 -1.625 C 3.921875 -1.71875 3.945312 -1.796875 3.96875 -1.859375 L 5.546875 -6.046875 L 6.609375 -6.046875 L 6.609375 0 Z M 5.875 0 \"/>\n",
       "</symbol>\n",
       "<symbol overflow=\"visible\" id=\"glyph1-0\">\n",
       "<path style=\"stroke:none;\" d=\"M 0.359375 0 L 0.359375 -7.328125 L 3.28125 -7.328125 L 3.28125 0 Z M 0.734375 -0.359375 L 2.921875 -0.359375 L 2.921875 -6.96875 L 0.734375 -6.96875 Z M 0.734375 -0.359375 \"/>\n",
       "</symbol>\n",
       "<symbol overflow=\"visible\" id=\"glyph1-1\">\n",
       "<path style=\"stroke:none;\" d=\"M 7.34375 0 L 7.34375 -5.046875 C 7.34375 -5.234375 7.34375 -5.421875 7.34375 -5.609375 C 7.34375 -5.796875 7.347656 -5.96875 7.359375 -6.125 C 7.367188 -6.3125 7.378906 -6.488281 7.390625 -6.65625 C 7.335938 -6.476562 7.285156 -6.300781 7.234375 -6.125 C 7.179688 -5.96875 7.128906 -5.800781 7.078125 -5.625 C 7.023438 -5.445312 6.96875 -5.289062 6.90625 -5.15625 L 4.953125 0 L 4.234375 0 L 2.25 -5.15625 C 2.226562 -5.207031 2.207031 -5.269531 2.1875 -5.34375 C 2.164062 -5.414062 2.140625 -5.488281 2.109375 -5.5625 C 2.085938 -5.644531 2.0625 -5.726562 2.03125 -5.8125 C 2.007812 -5.90625 1.984375 -5.988281 1.953125 -6.0625 C 1.890625 -6.257812 1.832031 -6.457031 1.78125 -6.65625 C 1.78125 -6.457031 1.785156 -6.257812 1.796875 -6.0625 C 1.804688 -5.894531 1.8125 -5.71875 1.8125 -5.53125 C 1.8125 -5.351562 1.8125 -5.191406 1.8125 -5.046875 L 1.8125 0 L 0.90625 0 L 0.90625 -7.5625 L 2.25 -7.5625 L 4.265625 -2.328125 C 4.285156 -2.253906 4.3125 -2.160156 4.34375 -2.046875 C 4.382812 -1.929688 4.421875 -1.8125 4.453125 -1.6875 C 4.484375 -1.570312 4.515625 -1.460938 4.546875 -1.359375 C 4.578125 -1.253906 4.597656 -1.175781 4.609375 -1.125 C 4.617188 -1.175781 4.632812 -1.253906 4.65625 -1.359375 C 4.6875 -1.472656 4.71875 -1.585938 4.75 -1.703125 C 4.789062 -1.816406 4.828125 -1.929688 4.859375 -2.046875 C 4.898438 -2.160156 4.9375 -2.253906 4.96875 -2.328125 L 6.9375 -7.5625 L 8.265625 -7.5625 L 8.265625 0 Z M 7.34375 0 \"/>\n",
       "</symbol>\n",
       "<symbol overflow=\"visible\" id=\"glyph1-2\">\n",
       "<path style=\"stroke:none;\" d=\"M 1.484375 -2.703125 C 1.484375 -2.398438 1.515625 -2.117188 1.578125 -1.859375 C 1.640625 -1.609375 1.734375 -1.390625 1.859375 -1.203125 C 1.992188 -1.015625 2.160156 -0.867188 2.359375 -0.765625 C 2.566406 -0.671875 2.816406 -0.625 3.109375 -0.625 C 3.523438 -0.625 3.859375 -0.707031 4.109375 -0.875 C 4.359375 -1.039062 4.53125 -1.253906 4.625 -1.515625 L 5.46875 -1.265625 C 5.40625 -1.109375 5.316406 -0.945312 5.203125 -0.78125 C 5.097656 -0.613281 4.953125 -0.460938 4.765625 -0.328125 C 4.585938 -0.203125 4.363281 -0.0976562 4.09375 -0.015625 C 3.820312 0.0664062 3.492188 0.109375 3.109375 0.109375 C 2.242188 0.109375 1.585938 -0.144531 1.140625 -0.65625 C 0.691406 -1.164062 0.46875 -1.925781 0.46875 -2.9375 C 0.46875 -3.488281 0.535156 -3.953125 0.671875 -4.328125 C 0.804688 -4.703125 0.988281 -5.007812 1.21875 -5.25 C 1.457031 -5.488281 1.734375 -5.660156 2.046875 -5.765625 C 2.367188 -5.867188 2.707031 -5.921875 3.0625 -5.921875 C 3.550781 -5.921875 3.957031 -5.84375 4.28125 -5.6875 C 4.613281 -5.53125 4.878906 -5.3125 5.078125 -5.03125 C 5.273438 -4.75 5.414062 -4.421875 5.5 -4.046875 C 5.582031 -3.671875 5.625 -3.265625 5.625 -2.828125 L 5.625 -2.703125 Z M 4.625 -3.4375 C 4.570312 -4.050781 4.414062 -4.5 4.15625 -4.78125 C 3.90625 -5.0625 3.535156 -5.203125 3.046875 -5.203125 C 2.890625 -5.203125 2.722656 -5.175781 2.546875 -5.125 C 2.367188 -5.070312 2.203125 -4.976562 2.046875 -4.84375 C 1.898438 -4.71875 1.773438 -4.539062 1.671875 -4.3125 C 1.566406 -4.082031 1.507812 -3.789062 1.5 -3.4375 Z M 4.625 -3.4375 \"/>\n",
       "</symbol>\n",
       "<symbol overflow=\"visible\" id=\"glyph1-3\">\n",
       "<path style=\"stroke:none;\" d=\"M 4.40625 -0.9375 C 4.226562 -0.5625 3.988281 -0.289062 3.6875 -0.125 C 3.394531 0.03125 3.03125 0.109375 2.59375 0.109375 C 1.863281 0.109375 1.328125 -0.132812 0.984375 -0.625 C 0.640625 -1.125 0.46875 -1.875 0.46875 -2.875 C 0.46875 -4.90625 1.175781 -5.921875 2.59375 -5.921875 C 3.039062 -5.921875 3.410156 -5.835938 3.703125 -5.671875 C 3.992188 -5.515625 4.226562 -5.257812 4.40625 -4.90625 L 4.421875 -4.90625 C 4.421875 -4.945312 4.421875 -5.003906 4.421875 -5.078125 C 4.421875 -5.148438 4.414062 -5.226562 4.40625 -5.3125 C 4.40625 -5.40625 4.40625 -5.488281 4.40625 -5.5625 C 4.40625 -5.632812 4.40625 -5.6875 4.40625 -5.71875 L 4.40625 -7.96875 L 5.375 -7.96875 L 5.375 -1.203125 C 5.375 -1.054688 5.375 -0.921875 5.375 -0.796875 C 5.375 -0.671875 5.375 -0.550781 5.375 -0.4375 C 5.382812 -0.332031 5.390625 -0.238281 5.390625 -0.15625 C 5.398438 -0.0820312 5.40625 -0.03125 5.40625 0 L 4.484375 0 C 4.472656 -0.03125 4.460938 -0.078125 4.453125 -0.140625 C 4.453125 -0.210938 4.445312 -0.289062 4.4375 -0.375 C 4.4375 -0.46875 4.4375 -0.5625 4.4375 -0.65625 C 4.4375 -0.75 4.4375 -0.84375 4.4375 -0.9375 Z M 1.484375 -2.90625 C 1.484375 -2.507812 1.503906 -2.164062 1.546875 -1.875 C 1.597656 -1.59375 1.675781 -1.359375 1.78125 -1.171875 C 1.894531 -0.984375 2.035156 -0.847656 2.203125 -0.765625 C 2.378906 -0.679688 2.59375 -0.640625 2.84375 -0.640625 C 3.101562 -0.640625 3.328125 -0.679688 3.515625 -0.765625 C 3.710938 -0.847656 3.875 -0.976562 4 -1.15625 C 4.132812 -1.34375 4.234375 -1.582031 4.296875 -1.875 C 4.367188 -2.175781 4.40625 -2.539062 4.40625 -2.96875 C 4.40625 -3.382812 4.367188 -3.734375 4.296875 -4.015625 C 4.234375 -4.304688 4.132812 -4.535156 4 -4.703125 C 3.875 -4.878906 3.710938 -5.003906 3.515625 -5.078125 C 3.328125 -5.160156 3.109375 -5.203125 2.859375 -5.203125 C 2.617188 -5.203125 2.410156 -5.160156 2.234375 -5.078125 C 2.066406 -4.992188 1.925781 -4.859375 1.8125 -4.671875 C 1.695312 -4.492188 1.613281 -4.257812 1.5625 -3.96875 C 1.507812 -3.675781 1.484375 -3.320312 1.484375 -2.90625 Z M 1.484375 -2.90625 \"/>\n",
       "</symbol>\n",
       "<symbol overflow=\"visible\" id=\"glyph1-4\">\n",
       "<path style=\"stroke:none;\" d=\"M 2.21875 0.109375 C 1.632812 0.109375 1.195312 -0.0390625 0.90625 -0.34375 C 0.613281 -0.65625 0.46875 -1.082031 0.46875 -1.625 C 0.46875 -2.007812 0.539062 -2.320312 0.6875 -2.5625 C 0.832031 -2.8125 1.019531 -3.003906 1.25 -3.140625 C 1.488281 -3.285156 1.757812 -3.382812 2.0625 -3.4375 C 2.363281 -3.488281 2.664062 -3.519531 2.96875 -3.53125 L 4.28125 -3.546875 L 4.28125 -3.859375 C 4.28125 -4.097656 4.253906 -4.300781 4.203125 -4.46875 C 4.148438 -4.644531 4.070312 -4.78125 3.96875 -4.875 C 3.863281 -4.976562 3.734375 -5.054688 3.578125 -5.109375 C 3.429688 -5.160156 3.25 -5.1875 3.03125 -5.1875 C 2.84375 -5.1875 2.671875 -5.171875 2.515625 -5.140625 C 2.367188 -5.117188 2.238281 -5.070312 2.125 -5 C 2.019531 -4.925781 1.929688 -4.828125 1.859375 -4.703125 C 1.796875 -4.585938 1.753906 -4.441406 1.734375 -4.265625 L 0.71875 -4.34375 C 0.757812 -4.570312 0.828125 -4.78125 0.921875 -4.96875 C 1.023438 -5.164062 1.171875 -5.332031 1.359375 -5.46875 C 1.546875 -5.613281 1.773438 -5.722656 2.046875 -5.796875 C 2.328125 -5.878906 2.664062 -5.921875 3.0625 -5.921875 C 3.789062 -5.921875 4.335938 -5.753906 4.703125 -5.421875 C 5.078125 -5.085938 5.265625 -4.601562 5.265625 -3.96875 L 5.265625 -1.46875 C 5.265625 -1.175781 5.300781 -0.957031 5.375 -0.8125 C 5.445312 -0.664062 5.585938 -0.59375 5.796875 -0.59375 C 5.847656 -0.59375 5.898438 -0.597656 5.953125 -0.609375 C 6.015625 -0.617188 6.070312 -0.628906 6.125 -0.640625 L 6.125 -0.03125 C 6 0 5.875 0.0195312 5.75 0.03125 C 5.632812 0.0390625 5.507812 0.046875 5.375 0.046875 C 5.1875 0.046875 5.023438 0.0234375 4.890625 -0.015625 C 4.765625 -0.0664062 4.660156 -0.140625 4.578125 -0.234375 C 4.492188 -0.335938 4.429688 -0.460938 4.390625 -0.609375 C 4.347656 -0.753906 4.320312 -0.921875 4.3125 -1.109375 L 4.28125 -1.109375 C 4.175781 -0.921875 4.0625 -0.75 3.9375 -0.59375 C 3.8125 -0.445312 3.664062 -0.320312 3.5 -0.21875 C 3.34375 -0.113281 3.15625 -0.0351562 2.9375 0.015625 C 2.726562 0.078125 2.488281 0.109375 2.21875 0.109375 Z M 2.4375 -0.625 C 2.75 -0.625 3.019531 -0.675781 3.25 -0.78125 C 3.476562 -0.894531 3.671875 -1.039062 3.828125 -1.21875 C 3.984375 -1.394531 4.097656 -1.585938 4.171875 -1.796875 C 4.242188 -2.003906 4.28125 -2.203125 4.28125 -2.390625 L 4.28125 -2.875 L 3.21875 -2.84375 C 2.988281 -2.84375 2.765625 -2.828125 2.546875 -2.796875 C 2.335938 -2.765625 2.148438 -2.703125 1.984375 -2.609375 C 1.828125 -2.523438 1.703125 -2.398438 1.609375 -2.234375 C 1.515625 -2.078125 1.46875 -1.867188 1.46875 -1.609375 C 1.46875 -1.296875 1.550781 -1.050781 1.71875 -0.875 C 1.882812 -0.707031 2.125 -0.625 2.4375 -0.625 Z M 2.4375 -0.625 \"/>\n",
       "</symbol>\n",
       "<symbol overflow=\"visible\" id=\"glyph1-5\">\n",
       "<path style=\"stroke:none;\" d=\"M 0.734375 0 L 0.734375 -7.96875 L 1.703125 -7.96875 L 1.703125 0 Z M 0.734375 0 \"/>\n",
       "</symbol>\n",
       "<symbol overflow=\"visible\" id=\"glyph1-6\">\n",
       "<path style=\"stroke:none;\" d=\"M 6.828125 -2.09375 C 6.828125 -1.769531 6.765625 -1.472656 6.640625 -1.203125 C 6.523438 -0.941406 6.335938 -0.710938 6.078125 -0.515625 C 5.816406 -0.316406 5.488281 -0.160156 5.09375 -0.046875 C 4.707031 0.0546875 4.242188 0.109375 3.703125 0.109375 C 2.765625 0.109375 2.03125 -0.0507812 1.5 -0.375 C 0.976562 -0.707031 0.644531 -1.1875 0.5 -1.8125 L 1.5 -2.015625 C 1.539062 -1.816406 1.613281 -1.632812 1.71875 -1.46875 C 1.820312 -1.3125 1.960938 -1.175781 2.140625 -1.0625 C 2.316406 -0.945312 2.535156 -0.851562 2.796875 -0.78125 C 3.066406 -0.71875 3.382812 -0.6875 3.75 -0.6875 C 4.050781 -0.6875 4.328125 -0.710938 4.578125 -0.765625 C 4.835938 -0.816406 5.054688 -0.894531 5.234375 -1 C 5.421875 -1.113281 5.5625 -1.253906 5.65625 -1.421875 C 5.757812 -1.597656 5.8125 -1.800781 5.8125 -2.03125 C 5.8125 -2.28125 5.753906 -2.484375 5.640625 -2.640625 C 5.535156 -2.796875 5.378906 -2.921875 5.171875 -3.015625 C 4.960938 -3.117188 4.71875 -3.203125 4.4375 -3.265625 C 4.15625 -3.335938 3.84375 -3.410156 3.5 -3.484375 C 3.289062 -3.535156 3.078125 -3.585938 2.859375 -3.640625 C 2.648438 -3.703125 2.445312 -3.769531 2.25 -3.84375 C 2.050781 -3.914062 1.863281 -4.003906 1.6875 -4.109375 C 1.519531 -4.210938 1.375 -4.335938 1.25 -4.484375 C 1.125 -4.628906 1.023438 -4.796875 0.953125 -4.984375 C 0.890625 -5.179688 0.859375 -5.40625 0.859375 -5.65625 C 0.859375 -6.007812 0.929688 -6.316406 1.078125 -6.578125 C 1.222656 -6.835938 1.421875 -7.046875 1.671875 -7.203125 C 1.929688 -7.367188 2.234375 -7.488281 2.578125 -7.5625 C 2.929688 -7.644531 3.316406 -7.6875 3.734375 -7.6875 C 4.203125 -7.6875 4.601562 -7.644531 4.9375 -7.5625 C 5.269531 -7.488281 5.550781 -7.378906 5.78125 -7.234375 C 6.007812 -7.085938 6.191406 -6.90625 6.328125 -6.6875 C 6.460938 -6.476562 6.570312 -6.226562 6.65625 -5.9375 L 5.640625 -5.765625 C 5.585938 -5.941406 5.515625 -6.101562 5.421875 -6.25 C 5.328125 -6.394531 5.203125 -6.515625 5.046875 -6.609375 C 4.898438 -6.703125 4.710938 -6.773438 4.484375 -6.828125 C 4.265625 -6.878906 4.007812 -6.90625 3.71875 -6.90625 C 3.363281 -6.90625 3.066406 -6.875 2.828125 -6.8125 C 2.585938 -6.75 2.394531 -6.660156 2.25 -6.546875 C 2.113281 -6.441406 2.015625 -6.316406 1.953125 -6.171875 C 1.890625 -6.035156 1.859375 -5.878906 1.859375 -5.703125 C 1.859375 -5.484375 1.910156 -5.300781 2.015625 -5.15625 C 2.128906 -5.007812 2.28125 -4.882812 2.46875 -4.78125 C 2.664062 -4.6875 2.890625 -4.609375 3.140625 -4.546875 C 3.398438 -4.484375 3.675781 -4.421875 3.96875 -4.359375 C 4.195312 -4.304688 4.425781 -4.25 4.65625 -4.1875 C 4.882812 -4.132812 5.101562 -4.066406 5.3125 -3.984375 C 5.53125 -3.910156 5.726562 -3.820312 5.90625 -3.71875 C 6.09375 -3.613281 6.253906 -3.484375 6.390625 -3.328125 C 6.523438 -3.179688 6.628906 -3.003906 6.703125 -2.796875 C 6.785156 -2.597656 6.828125 -2.363281 6.828125 -2.09375 Z M 6.828125 -2.09375 \"/>\n",
       "</symbol>\n",
       "<symbol overflow=\"visible\" id=\"glyph1-7\">\n",
       "<path style=\"stroke:none;\" d=\"M 4.296875 0 L 2.734375 -2.390625 L 1.171875 0 L 0.125 0 L 2.1875 -2.984375 L 0.21875 -5.8125 L 1.296875 -5.8125 L 2.734375 -3.546875 L 4.171875 -5.8125 L 5.265625 -5.8125 L 3.28125 -3 L 5.375 0 Z M 4.296875 0 \"/>\n",
       "</symbol>\n",
       "<symbol overflow=\"visible\" id=\"glyph2-0\">\n",
       "<path style=\"stroke:none;\" d=\"M 0 -0.359375 L -7.328125 -0.359375 L -7.328125 -3.28125 L 0 -3.28125 Z M -0.359375 -0.734375 L -0.359375 -2.921875 L -6.96875 -2.921875 L -6.96875 -0.734375 Z M -0.359375 -0.734375 \"/>\n",
       "</symbol>\n",
       "<symbol overflow=\"visible\" id=\"glyph2-1\">\n",
       "<path style=\"stroke:none;\" d=\"M -2.9375 -1.484375 C -2.601562 -1.484375 -2.296875 -1.503906 -2.015625 -1.546875 C -1.734375 -1.597656 -1.488281 -1.679688 -1.28125 -1.796875 C -1.082031 -1.910156 -0.925781 -2.0625 -0.8125 -2.25 C -0.707031 -2.4375 -0.65625 -2.664062 -0.65625 -2.9375 C -0.65625 -3.28125 -0.75 -3.566406 -0.9375 -3.796875 C -1.125 -4.035156 -1.410156 -4.179688 -1.796875 -4.234375 L -1.734375 -5.203125 C -1.492188 -5.171875 -1.257812 -5.101562 -1.03125 -5 C -0.8125 -4.894531 -0.617188 -4.75 -0.453125 -4.5625 C -0.285156 -4.375 -0.148438 -4.144531 -0.046875 -3.875 C 0.0546875 -3.613281 0.109375 -3.3125 0.109375 -2.96875 C 0.109375 -2.507812 0.03125 -2.117188 -0.125 -1.796875 C -0.28125 -1.484375 -0.492188 -1.226562 -0.765625 -1.03125 C -1.035156 -0.832031 -1.351562 -0.6875 -1.71875 -0.59375 C -2.082031 -0.507812 -2.476562 -0.46875 -2.90625 -0.46875 C -3.300781 -0.46875 -3.644531 -0.5 -3.9375 -0.5625 C -4.238281 -0.625 -4.5 -0.710938 -4.71875 -0.828125 C -4.945312 -0.953125 -5.132812 -1.09375 -5.28125 -1.25 C -5.4375 -1.40625 -5.5625 -1.570312 -5.65625 -1.75 C -5.75 -1.9375 -5.816406 -2.128906 -5.859375 -2.328125 C -5.898438 -2.535156 -5.921875 -2.742188 -5.921875 -2.953125 C -5.921875 -3.285156 -5.875 -3.578125 -5.78125 -3.828125 C -5.695312 -4.085938 -5.578125 -4.304688 -5.421875 -4.484375 C -5.265625 -4.671875 -5.078125 -4.820312 -4.859375 -4.9375 C -4.648438 -5.050781 -4.425781 -5.128906 -4.1875 -5.171875 L -4.109375 -4.1875 C -4.429688 -4.132812 -4.6875 -4.003906 -4.875 -3.796875 C -5.0625 -3.597656 -5.15625 -3.3125 -5.15625 -2.9375 C -5.15625 -2.65625 -5.109375 -2.421875 -5.015625 -2.234375 C -4.929688 -2.054688 -4.796875 -1.910156 -4.609375 -1.796875 C -4.421875 -1.679688 -4.1875 -1.597656 -3.90625 -1.546875 C -3.632812 -1.503906 -3.3125 -1.484375 -2.9375 -1.484375 Z M -2.9375 -1.484375 \"/>\n",
       "</symbol>\n",
       "<symbol overflow=\"visible\" id=\"glyph2-2\">\n",
       "<path style=\"stroke:none;\" d=\"M -2.90625 -5.65625 C -1.894531 -5.65625 -1.140625 -5.429688 -0.640625 -4.984375 C -0.140625 -4.535156 0.109375 -3.882812 0.109375 -3.03125 C 0.109375 -2.625 0.046875 -2.257812 -0.078125 -1.9375 C -0.203125 -1.625 -0.390625 -1.359375 -0.640625 -1.140625 C -0.890625 -0.921875 -1.203125 -0.753906 -1.578125 -0.640625 C -1.953125 -0.523438 -2.394531 -0.46875 -2.90625 -0.46875 C -4.914062 -0.46875 -5.921875 -1.332031 -5.921875 -3.0625 C -5.921875 -3.519531 -5.859375 -3.910156 -5.734375 -4.234375 C -5.609375 -4.566406 -5.421875 -4.835938 -5.171875 -5.046875 C -4.921875 -5.253906 -4.601562 -5.40625 -4.21875 -5.5 C -3.84375 -5.601562 -3.40625 -5.65625 -2.90625 -5.65625 Z M -2.90625 -4.640625 C -3.363281 -4.640625 -3.738281 -4.601562 -4.03125 -4.53125 C -4.320312 -4.46875 -4.554688 -4.367188 -4.734375 -4.234375 C -4.910156 -4.097656 -5.03125 -3.929688 -5.09375 -3.734375 C -5.164062 -3.546875 -5.203125 -3.328125 -5.203125 -3.078125 C -5.203125 -2.835938 -5.164062 -2.613281 -5.09375 -2.40625 C -5.019531 -2.207031 -4.894531 -2.039062 -4.71875 -1.90625 C -4.539062 -1.769531 -4.304688 -1.664062 -4.015625 -1.59375 C -3.722656 -1.519531 -3.351562 -1.484375 -2.90625 -1.484375 C -2.457031 -1.484375 -2.082031 -1.519531 -1.78125 -1.59375 C -1.488281 -1.675781 -1.253906 -1.785156 -1.078125 -1.921875 C -0.910156 -2.054688 -0.789062 -2.21875 -0.71875 -2.40625 C -0.644531 -2.59375 -0.609375 -2.800781 -0.609375 -3.03125 C -0.609375 -3.269531 -0.640625 -3.488281 -0.703125 -3.6875 C -0.773438 -3.894531 -0.898438 -4.066406 -1.078125 -4.203125 C -1.253906 -4.347656 -1.488281 -4.457031 -1.78125 -4.53125 C -2.082031 -4.601562 -2.457031 -4.640625 -2.90625 -4.640625 Z M -2.90625 -4.640625 \"/>\n",
       "</symbol>\n",
       "<symbol overflow=\"visible\" id=\"glyph2-3\">\n",
       "<path style=\"stroke:none;\" d=\"M -5.8125 -1.6875 L -2.125 -1.6875 C -1.84375 -1.6875 -1.609375 -1.707031 -1.421875 -1.75 C -1.234375 -1.789062 -1.078125 -1.859375 -0.953125 -1.953125 C -0.835938 -2.046875 -0.753906 -2.164062 -0.703125 -2.3125 C -0.660156 -2.46875 -0.640625 -2.660156 -0.640625 -2.890625 C -0.640625 -3.117188 -0.675781 -3.320312 -0.75 -3.5 C -0.832031 -3.6875 -0.953125 -3.84375 -1.109375 -3.96875 C -1.265625 -4.101562 -1.453125 -4.207031 -1.671875 -4.28125 C -1.898438 -4.351562 -2.15625 -4.390625 -2.4375 -4.390625 L -5.8125 -4.390625 L -5.8125 -5.359375 L -1.234375 -5.359375 C -1.117188 -5.359375 -0.992188 -5.359375 -0.859375 -5.359375 C -0.722656 -5.359375 -0.59375 -5.359375 -0.46875 -5.359375 C -0.351562 -5.367188 -0.25 -5.375 -0.15625 -5.375 C -0.0703125 -5.375 -0.0195312 -5.378906 0 -5.390625 L 0 -4.46875 C -0.0195312 -4.46875 -0.0664062 -4.460938 -0.140625 -4.453125 C -0.222656 -4.453125 -0.3125 -4.445312 -0.40625 -4.4375 C -0.507812 -4.4375 -0.613281 -4.4375 -0.71875 -4.4375 C -0.832031 -4.4375 -0.925781 -4.4375 -1 -4.4375 L -1 -4.421875 C -0.820312 -4.328125 -0.664062 -4.222656 -0.53125 -4.109375 C -0.394531 -3.992188 -0.28125 -3.863281 -0.1875 -3.71875 C -0.09375 -3.570312 -0.0195312 -3.40625 0.03125 -3.21875 C 0.0820312 -3.03125 0.109375 -2.8125 0.109375 -2.5625 C 0.109375 -2.238281 0.0703125 -1.957031 0 -1.71875 C -0.0820312 -1.488281 -0.207031 -1.296875 -0.375 -1.140625 C -0.539062 -0.992188 -0.75 -0.882812 -1 -0.8125 C -1.257812 -0.75 -1.570312 -0.71875 -1.9375 -0.71875 L -5.8125 -0.71875 Z M -5.8125 -1.6875 \"/>\n",
       "</symbol>\n",
       "<symbol overflow=\"visible\" id=\"glyph2-4\">\n",
       "<path style=\"stroke:none;\" d=\"M 0 -4.4375 L -3.6875 -4.4375 C -3.96875 -4.4375 -4.203125 -4.414062 -4.390625 -4.375 C -4.578125 -4.332031 -4.726562 -4.265625 -4.84375 -4.171875 C -4.96875 -4.078125 -5.050781 -3.953125 -5.09375 -3.796875 C -5.144531 -3.648438 -5.171875 -3.460938 -5.171875 -3.234375 C -5.171875 -3.003906 -5.128906 -2.796875 -5.046875 -2.609375 C -4.972656 -2.429688 -4.859375 -2.273438 -4.703125 -2.140625 C -4.546875 -2.003906 -4.351562 -1.898438 -4.125 -1.828125 C -3.90625 -1.765625 -3.65625 -1.734375 -3.375 -1.734375 L 0 -1.734375 L 0 -0.765625 L -4.578125 -0.765625 C -4.691406 -0.765625 -4.816406 -0.757812 -4.953125 -0.75 C -5.085938 -0.75 -5.210938 -0.75 -5.328125 -0.75 C -5.453125 -0.75 -5.554688 -0.742188 -5.640625 -0.734375 C -5.734375 -0.734375 -5.789062 -0.734375 -5.8125 -0.734375 L -5.8125 -1.640625 C -5.789062 -1.648438 -5.738281 -1.65625 -5.65625 -1.65625 C -5.582031 -1.65625 -5.492188 -1.65625 -5.390625 -1.65625 C -5.296875 -1.664062 -5.191406 -1.671875 -5.078125 -1.671875 C -4.972656 -1.679688 -4.882812 -1.6875 -4.8125 -1.6875 L -4.8125 -1.703125 C -4.988281 -1.796875 -5.144531 -1.894531 -5.28125 -2 C -5.414062 -2.113281 -5.53125 -2.242188 -5.625 -2.390625 C -5.71875 -2.535156 -5.789062 -2.703125 -5.84375 -2.890625 C -5.894531 -3.085938 -5.921875 -3.3125 -5.921875 -3.5625 C -5.921875 -3.882812 -5.878906 -4.160156 -5.796875 -4.390625 C -5.722656 -4.628906 -5.601562 -4.820312 -5.4375 -4.96875 C -5.269531 -5.113281 -5.054688 -5.222656 -4.796875 -5.296875 C -4.535156 -5.367188 -4.226562 -5.40625 -3.875 -5.40625 L 0 -5.40625 Z M 0 -4.4375 \"/>\n",
       "</symbol>\n",
       "<symbol overflow=\"visible\" id=\"glyph2-5\">\n",
       "<path style=\"stroke:none;\" d=\"M -0.046875 -2.96875 C -0.00390625 -2.820312 0.0234375 -2.671875 0.046875 -2.515625 C 0.078125 -2.367188 0.09375 -2.195312 0.09375 -2 C 0.09375 -1.226562 -0.347656 -0.84375 -1.234375 -0.84375 L -5.109375 -0.84375 L -5.109375 -0.171875 L -5.8125 -0.171875 L -5.8125 -0.875 L -7.109375 -1.15625 L -7.109375 -1.8125 L -5.8125 -1.8125 L -5.8125 -2.875 L -5.109375 -2.875 L -5.109375 -1.8125 L -1.4375 -1.8125 C -1.15625 -1.8125 -0.957031 -1.851562 -0.84375 -1.9375 C -0.738281 -2.03125 -0.6875 -2.191406 -0.6875 -2.421875 C -0.6875 -2.515625 -0.691406 -2.601562 -0.703125 -2.6875 C -0.710938 -2.769531 -0.726562 -2.863281 -0.75 -2.96875 Z M -0.046875 -2.96875 \"/>\n",
       "</symbol>\n",
       "</g>\n",
       "<clipPath id=\"clip1\">\n",
       "  <path d=\"M 38.152344 5.480469 L 446.84375 5.480469 L 446.84375 471.851562 L 38.152344 471.851562 Z M 38.152344 5.480469 \"/>\n",
       "</clipPath>\n",
       "<clipPath id=\"clip2\">\n",
       "  <path d=\"M 38.152344 377 L 446.84375 377 L 446.84375 379 L 38.152344 379 Z M 38.152344 377 \"/>\n",
       "</clipPath>\n",
       "<clipPath id=\"clip3\">\n",
       "  <path d=\"M 38.152344 232 L 446.84375 232 L 446.84375 234 L 38.152344 234 Z M 38.152344 232 \"/>\n",
       "</clipPath>\n",
       "<clipPath id=\"clip4\">\n",
       "  <path d=\"M 38.152344 87 L 446.84375 87 L 446.84375 88 L 38.152344 88 Z M 38.152344 87 \"/>\n",
       "</clipPath>\n",
       "<clipPath id=\"clip5\">\n",
       "  <path d=\"M 38.152344 450 L 446.84375 450 L 446.84375 452 L 38.152344 452 Z M 38.152344 450 \"/>\n",
       "</clipPath>\n",
       "<clipPath id=\"clip6\">\n",
       "  <path d=\"M 38.152344 304 L 446.84375 304 L 446.84375 306 L 38.152344 306 Z M 38.152344 304 \"/>\n",
       "</clipPath>\n",
       "<clipPath id=\"clip7\">\n",
       "  <path d=\"M 38.152344 159 L 446.84375 159 L 446.84375 161 L 38.152344 161 Z M 38.152344 159 \"/>\n",
       "</clipPath>\n",
       "<clipPath id=\"clip8\">\n",
       "  <path d=\"M 38.152344 14 L 446.84375 14 L 446.84375 16 L 38.152344 16 Z M 38.152344 14 \"/>\n",
       "</clipPath>\n",
       "<clipPath id=\"clip9\">\n",
       "  <path d=\"M 96 5.480469 L 98 5.480469 L 98 471.851562 L 96 471.851562 Z M 96 5.480469 \"/>\n",
       "</clipPath>\n",
       "<clipPath id=\"clip10\">\n",
       "  <path d=\"M 193 5.480469 L 195 5.480469 L 195 471.851562 L 193 471.851562 Z M 193 5.480469 \"/>\n",
       "</clipPath>\n",
       "<clipPath id=\"clip11\">\n",
       "  <path d=\"M 290 5.480469 L 292 5.480469 L 292 471.851562 L 290 471.851562 Z M 290 5.480469 \"/>\n",
       "</clipPath>\n",
       "<clipPath id=\"clip12\">\n",
       "  <path d=\"M 387 5.480469 L 389 5.480469 L 389 471.851562 L 387 471.851562 Z M 387 5.480469 \"/>\n",
       "</clipPath>\n",
       "</defs>\n",
       "<g id=\"surface591\">\n",
       "<rect x=\"0\" y=\"0\" width=\"504\" height=\"504\" style=\"fill:rgb(100%,100%,100%);fill-opacity:1;stroke:none;\"/>\n",
       "<rect x=\"0\" y=\"0\" width=\"504\" height=\"504\" style=\"fill:rgb(100%,100%,100%);fill-opacity:1;stroke:none;\"/>\n",
       "<path style=\"fill:none;stroke-width:1.066978;stroke-linecap:round;stroke-linejoin:round;stroke:rgb(100%,100%,100%);stroke-opacity:1;stroke-miterlimit:10;\" d=\"M 0 504 L 504 504 L 504 0 L 0 0 Z M 0 504 \"/>\n",
       "<g clip-path=\"url(#clip1)\" clip-rule=\"nonzero\">\n",
       "<path style=\" stroke:none;fill-rule:nonzero;fill:rgb(92.156863%,92.156863%,92.156863%);fill-opacity:1;\" d=\"M 38.152344 471.847656 L 446.84375 471.847656 L 446.84375 5.476562 L 38.152344 5.476562 Z M 38.152344 471.847656 \"/>\n",
       "</g>\n",
       "<g clip-path=\"url(#clip2)\" clip-rule=\"nonzero\">\n",
       "<path style=\"fill:none;stroke-width:0.533489;stroke-linecap:butt;stroke-linejoin:round;stroke:rgb(100%,100%,100%);stroke-opacity:1;stroke-miterlimit:10;\" d=\"M 38.152344 378.050781 L 446.84375 378.050781 \"/>\n",
       "</g>\n",
       "<g clip-path=\"url(#clip3)\" clip-rule=\"nonzero\">\n",
       "<path style=\"fill:none;stroke-width:0.533489;stroke-linecap:butt;stroke-linejoin:round;stroke:rgb(100%,100%,100%);stroke-opacity:1;stroke-miterlimit:10;\" d=\"M 38.152344 232.855469 L 446.84375 232.855469 \"/>\n",
       "</g>\n",
       "<g clip-path=\"url(#clip4)\" clip-rule=\"nonzero\">\n",
       "<path style=\"fill:none;stroke-width:0.533489;stroke-linecap:butt;stroke-linejoin:round;stroke:rgb(100%,100%,100%);stroke-opacity:1;stroke-miterlimit:10;\" d=\"M 38.152344 87.660156 L 446.84375 87.660156 \"/>\n",
       "</g>\n",
       "<g clip-path=\"url(#clip5)\" clip-rule=\"nonzero\">\n",
       "<path style=\"fill:none;stroke-width:1.066978;stroke-linecap:butt;stroke-linejoin:round;stroke:rgb(100%,100%,100%);stroke-opacity:1;stroke-miterlimit:10;\" d=\"M 38.152344 450.652344 L 446.84375 450.652344 \"/>\n",
       "</g>\n",
       "<g clip-path=\"url(#clip6)\" clip-rule=\"nonzero\">\n",
       "<path style=\"fill:none;stroke-width:1.066978;stroke-linecap:butt;stroke-linejoin:round;stroke:rgb(100%,100%,100%);stroke-opacity:1;stroke-miterlimit:10;\" d=\"M 38.152344 305.453125 L 446.84375 305.453125 \"/>\n",
       "</g>\n",
       "<g clip-path=\"url(#clip7)\" clip-rule=\"nonzero\">\n",
       "<path style=\"fill:none;stroke-width:1.066978;stroke-linecap:butt;stroke-linejoin:round;stroke:rgb(100%,100%,100%);stroke-opacity:1;stroke-miterlimit:10;\" d=\"M 38.152344 160.257812 L 446.84375 160.257812 \"/>\n",
       "</g>\n",
       "<g clip-path=\"url(#clip8)\" clip-rule=\"nonzero\">\n",
       "<path style=\"fill:none;stroke-width:1.066978;stroke-linecap:butt;stroke-linejoin:round;stroke:rgb(100%,100%,100%);stroke-opacity:1;stroke-miterlimit:10;\" d=\"M 38.152344 15.0625 L 446.84375 15.0625 \"/>\n",
       "</g>\n",
       "<g clip-path=\"url(#clip9)\" clip-rule=\"nonzero\">\n",
       "<path style=\"fill:none;stroke-width:1.066978;stroke-linecap:butt;stroke-linejoin:round;stroke:rgb(100%,100%,100%);stroke-opacity:1;stroke-miterlimit:10;\" d=\"M 96.535156 471.847656 L 96.535156 5.480469 \"/>\n",
       "</g>\n",
       "<g clip-path=\"url(#clip10)\" clip-rule=\"nonzero\">\n",
       "<path style=\"fill:none;stroke-width:1.066978;stroke-linecap:butt;stroke-linejoin:round;stroke:rgb(100%,100%,100%);stroke-opacity:1;stroke-miterlimit:10;\" d=\"M 193.84375 471.847656 L 193.84375 5.480469 \"/>\n",
       "</g>\n",
       "<g clip-path=\"url(#clip11)\" clip-rule=\"nonzero\">\n",
       "<path style=\"fill:none;stroke-width:1.066978;stroke-linecap:butt;stroke-linejoin:round;stroke:rgb(100%,100%,100%);stroke-opacity:1;stroke-miterlimit:10;\" d=\"M 291.152344 471.847656 L 291.152344 5.480469 \"/>\n",
       "</g>\n",
       "<g clip-path=\"url(#clip12)\" clip-rule=\"nonzero\">\n",
       "<path style=\"fill:none;stroke-width:1.066978;stroke-linecap:butt;stroke-linejoin:round;stroke:rgb(100%,100%,100%);stroke-opacity:1;stroke-miterlimit:10;\" d=\"M 388.457031 471.847656 L 388.457031 5.480469 \"/>\n",
       "</g>\n",
       "<path style=\" stroke:none;fill-rule:nonzero;fill:rgb(97.254902%,46.27451%,42.745098%);fill-opacity:1;\" d=\"M 52.746094 450.652344 L 140.324219 450.652344 L 140.324219 447.75 L 52.746094 447.75 Z M 52.746094 450.652344 \"/>\n",
       "<path style=\" stroke:none;fill-rule:nonzero;fill:rgb(97.254902%,46.27451%,42.745098%);fill-opacity:1;\" d=\"M 150.054688 450.652344 L 237.632812 450.652344 L 237.632812 447.75 L 150.054688 447.75 Z M 150.054688 450.652344 \"/>\n",
       "<path style=\" stroke:none;fill-rule:nonzero;fill:rgb(0%,74.901961%,76.862745%);fill-opacity:1;\" d=\"M 247.363281 450.652344 L 334.941406 450.652344 L 334.941406 444.84375 L 247.363281 444.84375 Z M 247.363281 450.652344 \"/>\n",
       "<path style=\" stroke:none;fill-rule:nonzero;fill:rgb(97.254902%,46.27451%,42.745098%);fill-opacity:1;\" d=\"M 344.671875 125.410156 L 432.25 125.410156 L 432.25 26.675781 L 344.671875 26.675781 Z M 344.671875 125.410156 \"/>\n",
       "<path style=\" stroke:none;fill-rule:nonzero;fill:rgb(0%,74.901961%,76.862745%);fill-opacity:1;\" d=\"M 344.671875 450.652344 L 432.25 450.652344 L 432.25 125.414062 L 344.671875 125.414062 Z M 344.671875 450.652344 \"/>\n",
       "<g style=\"fill:rgb(30.196078%,30.196078%,30.196078%);fill-opacity:1;\">\n",
       "  <use xlink:href=\"#glyph0-1\" x=\"28.21875\" y=\"454.118164\"/>\n",
       "</g>\n",
       "<g style=\"fill:rgb(30.196078%,30.196078%,30.196078%);fill-opacity:1;\">\n",
       "  <use xlink:href=\"#glyph0-2\" x=\"23.21875\" y=\"308.918945\"/>\n",
       "  <use xlink:href=\"#glyph0-1\" x=\"28.21875\" y=\"308.918945\"/>\n",
       "</g>\n",
       "<g style=\"fill:rgb(30.196078%,30.196078%,30.196078%);fill-opacity:1;\">\n",
       "  <use xlink:href=\"#glyph0-3\" x=\"18.21875\" y=\"163.723633\"/>\n",
       "  <use xlink:href=\"#glyph0-1\" x=\"23.21875\" y=\"163.723633\"/>\n",
       "  <use xlink:href=\"#glyph0-1\" x=\"28.21875\" y=\"163.723633\"/>\n",
       "</g>\n",
       "<g style=\"fill:rgb(30.196078%,30.196078%,30.196078%);fill-opacity:1;\">\n",
       "  <use xlink:href=\"#glyph0-3\" x=\"18.21875\" y=\"18.52832\"/>\n",
       "  <use xlink:href=\"#glyph0-2\" x=\"23.21875\" y=\"18.52832\"/>\n",
       "  <use xlink:href=\"#glyph0-1\" x=\"28.21875\" y=\"18.52832\"/>\n",
       "</g>\n",
       "<path style=\"fill:none;stroke-width:1.066978;stroke-linecap:butt;stroke-linejoin:round;stroke:rgb(20%,20%,20%);stroke-opacity:1;stroke-miterlimit:10;\" d=\"M 35.410156 450.652344 L 38.152344 450.652344 \"/>\n",
       "<path style=\"fill:none;stroke-width:1.066978;stroke-linecap:butt;stroke-linejoin:round;stroke:rgb(20%,20%,20%);stroke-opacity:1;stroke-miterlimit:10;\" d=\"M 35.410156 305.453125 L 38.152344 305.453125 \"/>\n",
       "<path style=\"fill:none;stroke-width:1.066978;stroke-linecap:butt;stroke-linejoin:round;stroke:rgb(20%,20%,20%);stroke-opacity:1;stroke-miterlimit:10;\" d=\"M 35.410156 160.257812 L 38.152344 160.257812 \"/>\n",
       "<path style=\"fill:none;stroke-width:1.066978;stroke-linecap:butt;stroke-linejoin:round;stroke:rgb(20%,20%,20%);stroke-opacity:1;stroke-miterlimit:10;\" d=\"M 35.410156 15.0625 L 38.152344 15.0625 \"/>\n",
       "<path style=\"fill:none;stroke-width:1.066978;stroke-linecap:butt;stroke-linejoin:round;stroke:rgb(20%,20%,20%);stroke-opacity:1;stroke-miterlimit:10;\" d=\"M 96.535156 474.589844 L 96.535156 471.847656 \"/>\n",
       "<path style=\"fill:none;stroke-width:1.066978;stroke-linecap:butt;stroke-linejoin:round;stroke:rgb(20%,20%,20%);stroke-opacity:1;stroke-miterlimit:10;\" d=\"M 193.84375 474.589844 L 193.84375 471.847656 \"/>\n",
       "<path style=\"fill:none;stroke-width:1.066978;stroke-linecap:butt;stroke-linejoin:round;stroke:rgb(20%,20%,20%);stroke-opacity:1;stroke-miterlimit:10;\" d=\"M 291.152344 474.589844 L 291.152344 471.847656 \"/>\n",
       "<path style=\"fill:none;stroke-width:1.066978;stroke-linecap:butt;stroke-linejoin:round;stroke:rgb(20%,20%,20%);stroke-opacity:1;stroke-miterlimit:10;\" d=\"M 388.457031 474.589844 L 388.457031 471.847656 \"/>\n",
       "<g style=\"fill:rgb(30.196078%,30.196078%,30.196078%);fill-opacity:1;\">\n",
       "  <use xlink:href=\"#glyph0-4\" x=\"82.535156\" y=\"483.74707\"/>\n",
       "  <use xlink:href=\"#glyph0-5\" x=\"88.535156\" y=\"483.74707\"/>\n",
       "  <use xlink:href=\"#glyph0-6\" x=\"91.535156\" y=\"483.74707\"/>\n",
       "  <use xlink:href=\"#glyph0-7\" x=\"96.535156\" y=\"483.74707\"/>\n",
       "  <use xlink:href=\"#glyph0-8\" x=\"101.535156\" y=\"483.74707\"/>\n",
       "  <use xlink:href=\"#glyph0-9\" x=\"105.535156\" y=\"483.74707\"/>\n",
       "</g>\n",
       "<g style=\"fill:rgb(30.196078%,30.196078%,30.196078%);fill-opacity:1;\">\n",
       "  <use xlink:href=\"#glyph0-10\" x=\"184.34375\" y=\"483.74707\"/>\n",
       "  <use xlink:href=\"#glyph0-6\" x=\"191.34375\" y=\"483.74707\"/>\n",
       "  <use xlink:href=\"#glyph0-11\" x=\"196.34375\" y=\"483.74707\"/>\n",
       "  <use xlink:href=\"#glyph0-12\" x=\"198.34375\" y=\"483.74707\"/>\n",
       "</g>\n",
       "<g style=\"fill:rgb(30.196078%,30.196078%,30.196078%);fill-opacity:1;\">\n",
       "  <use xlink:href=\"#glyph0-13\" x=\"280.152344\" y=\"483.74707\"/>\n",
       "  <use xlink:href=\"#glyph0-14\" x=\"286.152344\" y=\"483.74707\"/>\n",
       "  <use xlink:href=\"#glyph0-11\" x=\"288.152344\" y=\"483.74707\"/>\n",
       "  <use xlink:href=\"#glyph0-15\" x=\"290.152344\" y=\"483.74707\"/>\n",
       "  <use xlink:href=\"#glyph0-9\" x=\"294.152344\" y=\"483.74707\"/>\n",
       "  <use xlink:href=\"#glyph0-5\" x=\"299.152344\" y=\"483.74707\"/>\n",
       "</g>\n",
       "<g style=\"fill:rgb(30.196078%,30.196078%,30.196078%);fill-opacity:1;\">\n",
       "  <use xlink:href=\"#glyph0-16\" x=\"382.457031\" y=\"483.74707\"/>\n",
       "  <use xlink:href=\"#glyph0-17\" x=\"388.457031\" y=\"483.74707\"/>\n",
       "</g>\n",
       "<g style=\"fill:rgb(0%,0%,0%);fill-opacity:1;\">\n",
       "  <use xlink:href=\"#glyph1-1\" x=\"227.996094\" y=\"496.477539\"/>\n",
       "  <use xlink:href=\"#glyph1-2\" x=\"236.996094\" y=\"496.477539\"/>\n",
       "  <use xlink:href=\"#glyph1-3\" x=\"242.996094\" y=\"496.477539\"/>\n",
       "  <use xlink:href=\"#glyph1-4\" x=\"248.996094\" y=\"496.477539\"/>\n",
       "  <use xlink:href=\"#glyph1-5\" x=\"254.996094\" y=\"496.477539\"/>\n",
       "</g>\n",
       "<g style=\"fill:rgb(0%,0%,0%);fill-opacity:1;\">\n",
       "  <use xlink:href=\"#glyph2-1\" x=\"13.438477\" y=\"252.164062\"/>\n",
       "  <use xlink:href=\"#glyph2-2\" x=\"13.438477\" y=\"246.164062\"/>\n",
       "  <use xlink:href=\"#glyph2-3\" x=\"13.438477\" y=\"240.164062\"/>\n",
       "  <use xlink:href=\"#glyph2-4\" x=\"13.438477\" y=\"234.164062\"/>\n",
       "  <use xlink:href=\"#glyph2-5\" x=\"13.438477\" y=\"228.164062\"/>\n",
       "</g>\n",
       "<path style=\" stroke:none;fill-rule:nonzero;fill:rgb(100%,100%,100%);fill-opacity:1;\" d=\"M 457.800781 269.164062 L 498.519531 269.164062 L 498.519531 208.164062 L 457.800781 208.164062 Z M 457.800781 269.164062 \"/>\n",
       "<g style=\"fill:rgb(0%,0%,0%);fill-opacity:1;\">\n",
       "  <use xlink:href=\"#glyph1-6\" x=\"463.28125\" y=\"222.602539\"/>\n",
       "  <use xlink:href=\"#glyph1-2\" x=\"470.28125\" y=\"222.602539\"/>\n",
       "  <use xlink:href=\"#glyph1-7\" x=\"476.28125\" y=\"222.602539\"/>\n",
       "</g>\n",
       "<path style=\" stroke:none;fill-rule:nonzero;fill:rgb(94.901961%,94.901961%,94.901961%);fill-opacity:1;\" d=\"M 463.28125 246.402344 L 480.5625 246.402344 L 480.5625 229.121094 L 463.28125 229.121094 Z M 463.28125 246.402344 \"/>\n",
       "<path style=\" stroke:none;fill-rule:nonzero;fill:rgb(97.254902%,46.27451%,42.745098%);fill-opacity:1;\" d=\"M 463.992188 245.695312 L 479.855469 245.695312 L 479.855469 229.832031 L 463.992188 229.832031 Z M 463.992188 245.695312 \"/>\n",
       "<path style=\" stroke:none;fill-rule:nonzero;fill:rgb(94.901961%,94.901961%,94.901961%);fill-opacity:1;\" d=\"M 463.28125 263.683594 L 480.5625 263.683594 L 480.5625 246.402344 L 463.28125 246.402344 Z M 463.28125 263.683594 \"/>\n",
       "<path style=\" stroke:none;fill-rule:nonzero;fill:rgb(0%,74.901961%,76.862745%);fill-opacity:1;\" d=\"M 463.992188 262.976562 L 479.855469 262.976562 L 479.855469 247.113281 L 463.992188 247.113281 Z M 463.992188 262.976562 \"/>\n",
       "<g style=\"fill:rgb(0%,0%,0%);fill-opacity:1;\">\n",
       "  <use xlink:href=\"#glyph0-18\" x=\"486.042969\" y=\"241.231445\"/>\n",
       "</g>\n",
       "<g style=\"fill:rgb(0%,0%,0%);fill-opacity:1;\">\n",
       "  <use xlink:href=\"#glyph0-19\" x=\"486.042969\" y=\"258.508789\"/>\n",
       "</g>\n",
       "</g>\n",
       "</svg>\n"
      ],
      "text/plain": [
       "plot without title"
      ]
     },
     "metadata": {
      "application/pdf": {
       "height": 420,
       "width": 420
      },
      "image/jpeg": {
       "height": 420,
       "width": 420
      },
      "image/png": {
       "height": 420,
       "width": 420
      },
      "image/svg+xml": {
       "height": 420,
       "isolated": true,
       "width": 420
      }
     },
     "output_type": "display_data"
    }
   ],
   "source": [
    "contingency_table <- gymnast_sample |> \n",
    "                    group_by(Sex, Medal) |> \n",
    "                    tally() |>\n",
    "                    spread(Medal, n)\n",
    "\n",
    "bar_graph <- gymnast_sample |>\n",
    "             ggplot(aes(x = Medal , fill = Sex)) +\n",
    "             geom_bar(stat = \"count\")\n",
    "\n",
    "bar_graph\n",
    "contingency_table"
   ]
  },
  {
   "cell_type": "markdown",
   "id": "7c2dc4e8-64fd-4f95-95b6-db673c6f83b7",
   "metadata": {
    "tags": []
   },
   "source": [
    "## Methods : Plan"
   ]
  },
  {
   "cell_type": "code",
   "execution_count": null,
   "id": "7088aec2-13c4-4a9a-a73d-230beccf63ec",
   "metadata": {},
   "outputs": [],
   "source": []
  },
  {
   "cell_type": "markdown",
   "id": "8acdafa8-50cf-455f-9266-3baafd772925",
   "metadata": {},
   "source": [
    "## References"
   ]
  },
  {
   "cell_type": "markdown",
   "id": "a6506e54-1af6-4a12-9377-086ac4386222",
   "metadata": {},
   "source": [
    "(References: 
Langham-Walsh, E., Gottwald, V., & Hardy, J. (2021). Relative age effect? no “flipping” way! apparatus dependent inverse relative age effects in elite, women’s Artistic Gymnastics. PLOS ONE, 16(6). https://doi.org/10.1371/journal.pone.0253656 
Bongard, V., McDermott, A. Y., Dallal, G. E., & Schaefer, E. J. (2007). Effects of age and gender on physical performance. AGE, 29(2-3), 77–85. https://doi.org/10.1007/s11357-007-9034-z ,
    "\n",
    "\n",
    

   ]
  },
  {
   "cell_type": "code",
   "execution_count": null,
   "id": "18a33e8f-4fb7-43eb-8ea3-99dccb9aed32",
   "metadata": {},
   "outputs": [],
   "source": []
  }
 ],
 "metadata": {
  "kernelspec": {
   "display_name": "R",
   "language": "R",
   "name": "ir"
  },
  "language_info": {
   "codemirror_mode": "r",
   "file_extension": ".r",
   "mimetype": "text/x-r-source",
   "name": "R",
   "pygments_lexer": "r",
   "version": "4.1.3"
  }
 },
 "nbformat": 4,
 "nbformat_minor": 5
}
