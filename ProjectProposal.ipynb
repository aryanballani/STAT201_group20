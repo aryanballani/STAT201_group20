{
 "cells": [
  {
   "cell_type": "markdown",
   "id": "541572c9-a4eb-4043-ae50-296d6634c877",
   "metadata": {},
   "source": [
    "# Project Proposal"
   ]
  },
  {
   "cell_type": "markdown",
   "id": "cf152fec-7685-4ab2-a695-3ae867160c53",
   "metadata": {},
   "source": [
    "## Gender's relation to proportion of Gymnastics Medals in Olympic"
   ]
  },
  {
   "cell_type": "markdown",
   "id": "86c3f1fa-5c84-440f-b302-684de4c57abf",
   "metadata": {},
   "source": [
    "## Introduction"
   ]
  },
  {
   "cell_type": "markdown",
   "id": "d5e60b2a-4500-494e-9944-aa1ddc46f9f9",
   "metadata": {},
   "source": [
    "For this project we will be using “120 years of Olympic history: athletes and results” data set found on Kaggle. https://www.kaggle.com/datasets/heesoo37/120-years-of-olympic-history-athletes-and-results \n",
    "The original data set was scraped from https://www.sports-reference.com/. Forman, S. (2000). Sports reference . Sports stats, fast, easy, and up-to-date. Retrieved November 4, 2022, from https://www.sports-reference.com/ \n",
    "\n",
    "The data set contains 271116 rows that correspond to individual athletes that have competed in an Olympic event and 15 columns (ID, Name, Sex, Age, Height, Weight, Team, NOC, Games, Year, Season, City, Sport, Event, Medal). \n",
    "\n",
    "For our research question, we will be investigating the how Gender affects the proportion of people ages 20-30 who won an Olympic medal in gymnastics from the year 1912 and onwards. BMI is used to categorize individuals as underweight (BMI <18.5), normal weight (BMI= 18.5–24.9), overweight (BMI= 25–29.9) or obese (BMI >30), based on the parameters weight and height. Previous research shows that lower BMI was related with better performance but was negatively affected once BMI became very low. Further studies show that smaller gymnists with high strength to mass ratios have greater potential for performing skills involving whole-body rotations. "
   ]
  },
  {
   "cell_type": "markdown",
   "id": "2ce6525d-f61b-417e-9d23-ad40bb745414",
   "metadata": {},
   "source": [
    "## Prelimenary Results"
   ]
  },
  {
   "cell_type": "markdown",
   "id": "741f8d44-3ec0-4e7f-9777-8c978c231c9a",
   "metadata": {},
   "source": [
    "We have first downloaded the data set from Kaggle. https://www.kaggle.com/datasets/heesoo37/120-years-of-olympic-history-athletes-and-results ."
   ]
  },
  {
   "cell_type": "markdown",
   "id": "760d1295-1251-49ad-9be8-76fc143db64b",
   "metadata": {},
   "source": [
    "Here, we load all the libraries that we might need to clean, wrangle and visualise the data."
   ]
  },
  {
   "cell_type": "code",
   "execution_count": 73,
   "id": "e7b91e2c-9314-4f85-829c-2525b8f66621",
   "metadata": {},
   "outputs": [],
   "source": [
    "library(cowplot)\n",
    "library(datateachr)\n",
    "library(dplyr)\n",
    "library(digest)\n",
    "library(infer)\n",
    "library(repr)\n",
    "library(taxyvr)\n",
    "library(tidyverse)\n",
    "options(repr.matrix.max.rows = 6)"
   ]
  },
  {
   "cell_type": "markdown",
   "id": "39a9c764-2d19-47bc-84bb-072c9b42817d",
   "metadata": {
    "tags": []
   },
   "source": [
    "We used read_csv to load the data which was downloaded from kaggle and then uploaded into the jupyter notebook folder (and then pushed to the github repository)."
   ]
  },
  {
   "cell_type": "code",
   "execution_count": 3,
   "id": "8d583572-94ee-40ed-bd33-2343970fbd9e",
   "metadata": {},
   "outputs": [
    {
     "name": "stderr",
     "output_type": "stream",
     "text": [
      "\u001b[1mRows: \u001b[22m\u001b[34m271116\u001b[39m \u001b[1mColumns: \u001b[22m\u001b[34m15\u001b[39m\n",
      "\u001b[36m──\u001b[39m \u001b[1mColumn specification\u001b[22m \u001b[36m────────────────────────────────────────────────────────\u001b[39m\n",
      "\u001b[1mDelimiter:\u001b[22m \",\"\n",
      "\u001b[31mchr\u001b[39m (10): Name, Sex, Team, NOC, Games, Season, City, Sport, Event, Medal\n",
      "\u001b[32mdbl\u001b[39m  (5): ID, Age, Height, Weight, Year\n",
      "\n",
      "\u001b[36mℹ\u001b[39m Use `spec()` to retrieve the full column specification for this data.\n",
      "\u001b[36mℹ\u001b[39m Specify the column types or set `show_col_types = FALSE` to quiet this message.\n"
     ]
    },
    {
     "data": {
      "text/html": [
       "<table class=\"dataframe\">\n",
       "<caption>A tibble: 6 × 15</caption>\n",
       "<thead>\n",
       "\t<tr><th scope=col>ID</th><th scope=col>Name</th><th scope=col>Sex</th><th scope=col>Age</th><th scope=col>Height</th><th scope=col>Weight</th><th scope=col>Team</th><th scope=col>NOC</th><th scope=col>Games</th><th scope=col>Year</th><th scope=col>Season</th><th scope=col>City</th><th scope=col>Sport</th><th scope=col>Event</th><th scope=col>Medal</th></tr>\n",
       "\t<tr><th scope=col>&lt;dbl&gt;</th><th scope=col>&lt;chr&gt;</th><th scope=col>&lt;chr&gt;</th><th scope=col>&lt;dbl&gt;</th><th scope=col>&lt;dbl&gt;</th><th scope=col>&lt;dbl&gt;</th><th scope=col>&lt;chr&gt;</th><th scope=col>&lt;chr&gt;</th><th scope=col>&lt;chr&gt;</th><th scope=col>&lt;dbl&gt;</th><th scope=col>&lt;chr&gt;</th><th scope=col>&lt;chr&gt;</th><th scope=col>&lt;chr&gt;</th><th scope=col>&lt;chr&gt;</th><th scope=col>&lt;chr&gt;</th></tr>\n",
       "</thead>\n",
       "<tbody>\n",
       "\t<tr><td>1</td><td>A Dijiang               </td><td>M</td><td>24</td><td>180</td><td>80</td><td>China         </td><td>CHN</td><td>1992 Summer</td><td>1992</td><td>Summer</td><td>Barcelona</td><td>Basketball   </td><td>Basketball Men's Basketball       </td><td>NA  </td></tr>\n",
       "\t<tr><td>2</td><td>A Lamusi                </td><td>M</td><td>23</td><td>170</td><td>60</td><td>China         </td><td>CHN</td><td>2012 Summer</td><td>2012</td><td>Summer</td><td>London   </td><td>Judo         </td><td>Judo Men's Extra-Lightweight      </td><td>NA  </td></tr>\n",
       "\t<tr><td>3</td><td>Gunnar Nielsen Aaby     </td><td>M</td><td>24</td><td> NA</td><td>NA</td><td>Denmark       </td><td>DEN</td><td>1920 Summer</td><td>1920</td><td>Summer</td><td>Antwerpen</td><td>Football     </td><td>Football Men's Football           </td><td>NA  </td></tr>\n",
       "\t<tr><td>4</td><td>Edgar Lindenau Aabye    </td><td>M</td><td>34</td><td> NA</td><td>NA</td><td>Denmark/Sweden</td><td>DEN</td><td>1900 Summer</td><td>1900</td><td>Summer</td><td>Paris    </td><td>Tug-Of-War   </td><td>Tug-Of-War Men's Tug-Of-War       </td><td>Gold</td></tr>\n",
       "\t<tr><td>5</td><td>Christine Jacoba Aaftink</td><td>F</td><td>21</td><td>185</td><td>82</td><td>Netherlands   </td><td>NED</td><td>1988 Winter</td><td>1988</td><td>Winter</td><td>Calgary  </td><td>Speed Skating</td><td>Speed Skating Women's 500 metres  </td><td>NA  </td></tr>\n",
       "\t<tr><td>5</td><td>Christine Jacoba Aaftink</td><td>F</td><td>21</td><td>185</td><td>82</td><td>Netherlands   </td><td>NED</td><td>1988 Winter</td><td>1988</td><td>Winter</td><td>Calgary  </td><td>Speed Skating</td><td>Speed Skating Women's 1,000 metres</td><td>NA  </td></tr>\n",
       "</tbody>\n",
       "</table>\n"
      ],
      "text/latex": [
       "A tibble: 6 × 15\n",
       "\\begin{tabular}{lllllllllllllll}\n",
       " ID & Name & Sex & Age & Height & Weight & Team & NOC & Games & Year & Season & City & Sport & Event & Medal\\\\\n",
       " <dbl> & <chr> & <chr> & <dbl> & <dbl> & <dbl> & <chr> & <chr> & <chr> & <dbl> & <chr> & <chr> & <chr> & <chr> & <chr>\\\\\n",
       "\\hline\n",
       "\t 1 & A Dijiang                & M & 24 & 180 & 80 & China          & CHN & 1992 Summer & 1992 & Summer & Barcelona & Basketball    & Basketball Men's Basketball        & NA  \\\\\n",
       "\t 2 & A Lamusi                 & M & 23 & 170 & 60 & China          & CHN & 2012 Summer & 2012 & Summer & London    & Judo          & Judo Men's Extra-Lightweight       & NA  \\\\\n",
       "\t 3 & Gunnar Nielsen Aaby      & M & 24 &  NA & NA & Denmark        & DEN & 1920 Summer & 1920 & Summer & Antwerpen & Football      & Football Men's Football            & NA  \\\\\n",
       "\t 4 & Edgar Lindenau Aabye     & M & 34 &  NA & NA & Denmark/Sweden & DEN & 1900 Summer & 1900 & Summer & Paris     & Tug-Of-War    & Tug-Of-War Men's Tug-Of-War        & Gold\\\\\n",
       "\t 5 & Christine Jacoba Aaftink & F & 21 & 185 & 82 & Netherlands    & NED & 1988 Winter & 1988 & Winter & Calgary   & Speed Skating & Speed Skating Women's 500 metres   & NA  \\\\\n",
       "\t 5 & Christine Jacoba Aaftink & F & 21 & 185 & 82 & Netherlands    & NED & 1988 Winter & 1988 & Winter & Calgary   & Speed Skating & Speed Skating Women's 1,000 metres & NA  \\\\\n",
       "\\end{tabular}\n"
      ],
      "text/markdown": [
       "\n",
       "A tibble: 6 × 15\n",
       "\n",
       "| ID &lt;dbl&gt; | Name &lt;chr&gt; | Sex &lt;chr&gt; | Age &lt;dbl&gt; | Height &lt;dbl&gt; | Weight &lt;dbl&gt; | Team &lt;chr&gt; | NOC &lt;chr&gt; | Games &lt;chr&gt; | Year &lt;dbl&gt; | Season &lt;chr&gt; | City &lt;chr&gt; | Sport &lt;chr&gt; | Event &lt;chr&gt; | Medal &lt;chr&gt; |\n",
       "|---|---|---|---|---|---|---|---|---|---|---|---|---|---|---|\n",
       "| 1 | A Dijiang                | M | 24 | 180 | 80 | China          | CHN | 1992 Summer | 1992 | Summer | Barcelona | Basketball    | Basketball Men's Basketball        | NA   |\n",
       "| 2 | A Lamusi                 | M | 23 | 170 | 60 | China          | CHN | 2012 Summer | 2012 | Summer | London    | Judo          | Judo Men's Extra-Lightweight       | NA   |\n",
       "| 3 | Gunnar Nielsen Aaby      | M | 24 |  NA | NA | Denmark        | DEN | 1920 Summer | 1920 | Summer | Antwerpen | Football      | Football Men's Football            | NA   |\n",
       "| 4 | Edgar Lindenau Aabye     | M | 34 |  NA | NA | Denmark/Sweden | DEN | 1900 Summer | 1900 | Summer | Paris     | Tug-Of-War    | Tug-Of-War Men's Tug-Of-War        | Gold |\n",
       "| 5 | Christine Jacoba Aaftink | F | 21 | 185 | 82 | Netherlands    | NED | 1988 Winter | 1988 | Winter | Calgary   | Speed Skating | Speed Skating Women's 500 metres   | NA   |\n",
       "| 5 | Christine Jacoba Aaftink | F | 21 | 185 | 82 | Netherlands    | NED | 1988 Winter | 1988 | Winter | Calgary   | Speed Skating | Speed Skating Women's 1,000 metres | NA   |\n",
       "\n"
      ],
      "text/plain": [
       "  ID Name                     Sex Age Height Weight Team           NOC\n",
       "1 1  A Dijiang                M   24  180    80     China          CHN\n",
       "2 2  A Lamusi                 M   23  170    60     China          CHN\n",
       "3 3  Gunnar Nielsen Aaby      M   24   NA    NA     Denmark        DEN\n",
       "4 4  Edgar Lindenau Aabye     M   34   NA    NA     Denmark/Sweden DEN\n",
       "5 5  Christine Jacoba Aaftink F   21  185    82     Netherlands    NED\n",
       "6 5  Christine Jacoba Aaftink F   21  185    82     Netherlands    NED\n",
       "  Games       Year Season City      Sport        \n",
       "1 1992 Summer 1992 Summer Barcelona Basketball   \n",
       "2 2012 Summer 2012 Summer London    Judo         \n",
       "3 1920 Summer 1920 Summer Antwerpen Football     \n",
       "4 1900 Summer 1900 Summer Paris     Tug-Of-War   \n",
       "5 1988 Winter 1988 Winter Calgary   Speed Skating\n",
       "6 1988 Winter 1988 Winter Calgary   Speed Skating\n",
       "  Event                              Medal\n",
       "1 Basketball Men's Basketball        NA   \n",
       "2 Judo Men's Extra-Lightweight       NA   \n",
       "3 Football Men's Football            NA   \n",
       "4 Tug-Of-War Men's Tug-Of-War        Gold \n",
       "5 Speed Skating Women's 500 metres   NA   \n",
       "6 Speed Skating Women's 1,000 metres NA   "
      ]
     },
     "metadata": {},
     "output_type": "display_data"
    }
   ],
   "source": [
    "olympic_data <- read_csv(\"athlete_events.csv\")\n",
    "head(olympic_data)"
   ]
  },
  {
   "cell_type": "markdown",
   "id": "0066dc5a-b11b-4348-997e-94106e9dcee6",
   "metadata": {},
   "source": [
    "For our inferential study we are going to look at the data from the year 1912 and onwards.\n",
    "\n",
    "Since, we only want to assess the proportion of Gymnasts who won a medal in the Olympics in the event Gymnastics Men's/Women's Individual All-Around, we are going to filter the data so we only have the Gymnastics data. Furthermore, we are only selecting the columns we require for our study."
   ]
  },
  {
   "cell_type": "code",
   "execution_count": 38,
   "id": "79b9a7cf-2455-4e22-9422-06aed47934c5",
   "metadata": {},
   "outputs": [
    {
     "data": {
      "text/html": [
       "3579"
      ],
      "text/latex": [
       "3579"
      ],
      "text/markdown": [
       "3579"
      ],
      "text/plain": [
       "[1] 3579"
      ]
     },
     "metadata": {},
     "output_type": "display_data"
    },
    {
     "data": {
      "text/html": [
       "<table class=\"dataframe\">\n",
       "<caption>A tibble: 6 × 3</caption>\n",
       "<thead>\n",
       "\t<tr><th scope=col>Sex</th><th scope=col>Age</th><th scope=col>Medal</th></tr>\n",
       "\t<tr><th scope=col>&lt;chr&gt;</th><th scope=col>&lt;dbl&gt;</th><th scope=col>&lt;chr&gt;</th></tr>\n",
       "</thead>\n",
       "<tbody>\n",
       "\t<tr><td>M</td><td>28</td><td>Bronze</td></tr>\n",
       "\t<tr><td>M</td><td>32</td><td>NA    </td></tr>\n",
       "\t<tr><td>M</td><td>23</td><td>NA    </td></tr>\n",
       "\t<tr><td>M</td><td>19</td><td>NA    </td></tr>\n",
       "\t<tr><td>M</td><td>22</td><td>NA    </td></tr>\n",
       "\t<tr><td>F</td><td>19</td><td>NA    </td></tr>\n",
       "</tbody>\n",
       "</table>\n"
      ],
      "text/latex": [
       "A tibble: 6 × 3\n",
       "\\begin{tabular}{lll}\n",
       " Sex & Age & Medal\\\\\n",
       " <chr> & <dbl> & <chr>\\\\\n",
       "\\hline\n",
       "\t M & 28 & Bronze\\\\\n",
       "\t M & 32 & NA    \\\\\n",
       "\t M & 23 & NA    \\\\\n",
       "\t M & 19 & NA    \\\\\n",
       "\t M & 22 & NA    \\\\\n",
       "\t F & 19 & NA    \\\\\n",
       "\\end{tabular}\n"
      ],
      "text/markdown": [
       "\n",
       "A tibble: 6 × 3\n",
       "\n",
       "| Sex &lt;chr&gt; | Age &lt;dbl&gt; | Medal &lt;chr&gt; |\n",
       "|---|---|---|\n",
       "| M | 28 | Bronze |\n",
       "| M | 32 | NA     |\n",
       "| M | 23 | NA     |\n",
       "| M | 19 | NA     |\n",
       "| M | 22 | NA     |\n",
       "| F | 19 | NA     |\n",
       "\n"
      ],
      "text/plain": [
       "  Sex Age Medal \n",
       "1 M   28  Bronze\n",
       "2 M   32  NA    \n",
       "3 M   23  NA    \n",
       "4 M   19  NA    \n",
       "5 M   22  NA    \n",
       "6 F   19  NA    "
      ]
     },
     "metadata": {},
     "output_type": "display_data"
    }
   ],
   "source": [
    "gymnast_data <- olympic_data |> \n",
    "                        filter(Year >= 1912) |> \n",
    "                        filter(!is.na(Age)) |>\n",
    "                        filter(Sport == \"Gymnastics\" & (Event == \"Gymnastics Men's Individual All-Around\" | Event == \"Gymnastics Women's Individual All-Around\")) |>\n",
    "                        select(Sex , Age, Medal)\n",
    "nrow(gymnast_data)\n",
    "head(gymnast_data)"
   ]
  },
  {
   "cell_type": "markdown",
   "id": "8e9ed345-2974-4158-b55d-443bad3f6ce4",
   "metadata": {},
   "source": [
    "We know that, Individuals are drawn without replacement from the population, so independence can never be achieved. Since, our population size is 3579, it is safe to take a sample of size 350 for our inferential study upon the assumption that the samples taken are independent of each other, since, we are taking the sample size to be < 10% of the population size."
   ]
  },
  {
   "cell_type": "code",
   "execution_count": 53,
   "id": "5e0e02fb-5495-43b8-a8ca-1785e7f12316",
   "metadata": {},
   "outputs": [
    {
     "data": {
      "text/html": [
       "<table class=\"dataframe\">\n",
       "<caption>A tibble: 6 × 3</caption>\n",
       "<thead>\n",
       "\t<tr><th scope=col>Sex</th><th scope=col>Age</th><th scope=col>Medal</th></tr>\n",
       "\t<tr><th scope=col>&lt;chr&gt;</th><th scope=col>&lt;dbl&gt;</th><th scope=col>&lt;chr&gt;</th></tr>\n",
       "</thead>\n",
       "<tbody>\n",
       "\t<tr><td>M</td><td>21</td><td>NA</td></tr>\n",
       "\t<tr><td>F</td><td>31</td><td>NA</td></tr>\n",
       "\t<tr><td>M</td><td>27</td><td>NA</td></tr>\n",
       "\t<tr><td>M</td><td>21</td><td>NA</td></tr>\n",
       "\t<tr><td>M</td><td>24</td><td>NA</td></tr>\n",
       "\t<tr><td>M</td><td>19</td><td>NA</td></tr>\n",
       "</tbody>\n",
       "</table>\n"
      ],
      "text/latex": [
       "A tibble: 6 × 3\n",
       "\\begin{tabular}{lll}\n",
       " Sex & Age & Medal\\\\\n",
       " <chr> & <dbl> & <chr>\\\\\n",
       "\\hline\n",
       "\t M & 21 & NA\\\\\n",
       "\t F & 31 & NA\\\\\n",
       "\t M & 27 & NA\\\\\n",
       "\t M & 21 & NA\\\\\n",
       "\t M & 24 & NA\\\\\n",
       "\t M & 19 & NA\\\\\n",
       "\\end{tabular}\n"
      ],
      "text/markdown": [
       "\n",
       "A tibble: 6 × 3\n",
       "\n",
       "| Sex &lt;chr&gt; | Age &lt;dbl&gt; | Medal &lt;chr&gt; |\n",
       "|---|---|---|\n",
       "| M | 21 | NA |\n",
       "| F | 31 | NA |\n",
       "| M | 27 | NA |\n",
       "| M | 21 | NA |\n",
       "| M | 24 | NA |\n",
       "| M | 19 | NA |\n",
       "\n"
      ],
      "text/plain": [
       "  Sex Age Medal\n",
       "1 M   21  NA   \n",
       "2 F   31  NA   \n",
       "3 M   27  NA   \n",
       "4 M   21  NA   \n",
       "5 M   24  NA   \n",
       "6 M   19  NA   "
      ]
     },
     "metadata": {},
     "output_type": "display_data"
    }
   ],
   "source": [
    "set.seed(4)\n",
    "\n",
    "gymnast_sample <- gymnast_data |> \n",
    "                  sample_n(size = 350)\n",
    "\n",
    "head(gymnast_sample)"
   ]
  },
  {
   "cell_type": "code",
   "execution_count": 95,
   "id": "d7d55c82-bdbc-4806-8dc9-bbc9adec1b08",
   "metadata": {},
   "outputs": [
    {
     "name": "stderr",
     "output_type": "stream",
     "text": [
      "\u001b[1m\u001b[22m`summarise()` has grouped output by 'Sex'. You can override using the `.groups`\n",
      "argument.\n"
     ]
    },
    {
     "data": {
      "text/html": [
       "<table class=\"dataframe\">\n",
       "<caption>A grouped_df: 8 × 4</caption>\n",
       "<thead>\n",
       "\t<tr><th scope=col>Sex</th><th scope=col>Medal</th><th scope=col>mean_Age</th><th scope=col>sd_Age</th></tr>\n",
       "\t<tr><th scope=col>&lt;chr&gt;</th><th scope=col>&lt;chr&gt;</th><th scope=col>&lt;dbl&gt;</th><th scope=col>&lt;dbl&gt;</th></tr>\n",
       "</thead>\n",
       "<tbody>\n",
       "\t<tr><td>F</td><td>Bronze</td><td>17.50000</td><td>2.121320</td></tr>\n",
       "\t<tr><td>F</td><td>Gold  </td><td>22.33333</td><td>3.511885</td></tr>\n",
       "\t<tr><td>F</td><td>Silver</td><td>24.50000</td><td>9.192388</td></tr>\n",
       "\t<tr><td>F</td><td>NA    </td><td>19.24060</td><td>3.921870</td></tr>\n",
       "\t<tr><td>M</td><td>Bronze</td><td>26.00000</td><td>2.828427</td></tr>\n",
       "\t<tr><td>M</td><td>Gold  </td><td>22.00000</td><td>1.414214</td></tr>\n",
       "\t<tr><td>M</td><td>Silver</td><td>29.00000</td><td>4.358899</td></tr>\n",
       "\t<tr><td>M</td><td>NA    </td><td>24.60099</td><td>3.814174</td></tr>\n",
       "</tbody>\n",
       "</table>\n"
      ],
      "text/latex": [
       "A grouped\\_df: 8 × 4\n",
       "\\begin{tabular}{llll}\n",
       " Sex & Medal & mean\\_Age & sd\\_Age\\\\\n",
       " <chr> & <chr> & <dbl> & <dbl>\\\\\n",
       "\\hline\n",
       "\t F & Bronze & 17.50000 & 2.121320\\\\\n",
       "\t F & Gold   & 22.33333 & 3.511885\\\\\n",
       "\t F & Silver & 24.50000 & 9.192388\\\\\n",
       "\t F & NA     & 19.24060 & 3.921870\\\\\n",
       "\t M & Bronze & 26.00000 & 2.828427\\\\\n",
       "\t M & Gold   & 22.00000 & 1.414214\\\\\n",
       "\t M & Silver & 29.00000 & 4.358899\\\\\n",
       "\t M & NA     & 24.60099 & 3.814174\\\\\n",
       "\\end{tabular}\n"
      ],
      "text/markdown": [
       "\n",
       "A grouped_df: 8 × 4\n",
       "\n",
       "| Sex &lt;chr&gt; | Medal &lt;chr&gt; | mean_Age &lt;dbl&gt; | sd_Age &lt;dbl&gt; |\n",
       "|---|---|---|---|\n",
       "| F | Bronze | 17.50000 | 2.121320 |\n",
       "| F | Gold   | 22.33333 | 3.511885 |\n",
       "| F | Silver | 24.50000 | 9.192388 |\n",
       "| F | NA     | 19.24060 | 3.921870 |\n",
       "| M | Bronze | 26.00000 | 2.828427 |\n",
       "| M | Gold   | 22.00000 | 1.414214 |\n",
       "| M | Silver | 29.00000 | 4.358899 |\n",
       "| M | NA     | 24.60099 | 3.814174 |\n",
       "\n"
      ],
      "text/plain": [
       "  Sex Medal  mean_Age sd_Age  \n",
       "1 F   Bronze 17.50000 2.121320\n",
       "2 F   Gold   22.33333 3.511885\n",
       "3 F   Silver 24.50000 9.192388\n",
       "4 F   NA     19.24060 3.921870\n",
       "5 M   Bronze 26.00000 2.828427\n",
       "6 M   Gold   22.00000 1.414214\n",
       "7 M   Silver 29.00000 4.358899\n",
       "8 M   NA     24.60099 3.814174"
      ]
     },
     "metadata": {},
     "output_type": "display_data"
    }
   ],
   "source": [
    "options(repr.matrix.max.rows = 10)\n",
    "gymnast_sample_grouped <- gymnast_sample |> \n",
    "                        group_by(Sex , Medal) |>\n",
    "                        summarise(mean_Age = mean(Age) , sd_Age = sd(Age))\n",
    "\n",
    "\n",
    "gymnast_sample_grouped"
   ]
  },
  {
   "cell_type": "code",
   "execution_count": 103,
   "id": "0430e9ff-2839-4d55-a539-0dbe23ce2490",
   "metadata": {},
   "outputs": [
    {
     "data": {
      "text/html": [
       "<table class=\"dataframe\">\n",
       "<caption>A grouped_df: 4 × 4</caption>\n",
       "<thead>\n",
       "\t<tr><th scope=col>Sex</th><th scope=col>Medal</th><th scope=col>mean_age</th><th scope=col>sd_age</th></tr>\n",
       "\t<tr><th scope=col>&lt;chr&gt;</th><th scope=col>&lt;chr&gt;</th><th scope=col>&lt;dbl&gt;</th><th scope=col>&lt;dbl&gt;</th></tr>\n",
       "</thead>\n",
       "<tbody>\n",
       "\t<tr><td>F</td><td>No </td><td>19.24060</td><td>3.921870</td></tr>\n",
       "\t<tr><td>M</td><td>No </td><td>24.60099</td><td>3.814174</td></tr>\n",
       "\t<tr><td>F</td><td>Yes</td><td>21.44444</td><td>4.941864</td></tr>\n",
       "\t<tr><td>M</td><td>Yes</td><td>25.66667</td><td>2.867180</td></tr>\n",
       "</tbody>\n",
       "</table>\n"
      ],
      "text/latex": [
       "A grouped\\_df: 4 × 4\n",
       "\\begin{tabular}{llll}\n",
       " Sex & Medal & mean\\_age & sd\\_age\\\\\n",
       " <chr> & <chr> & <dbl> & <dbl>\\\\\n",
       "\\hline\n",
       "\t F & No  & 19.24060 & 3.921870\\\\\n",
       "\t M & No  & 24.60099 & 3.814174\\\\\n",
       "\t F & Yes & 21.44444 & 4.941864\\\\\n",
       "\t M & Yes & 25.66667 & 2.867180\\\\\n",
       "\\end{tabular}\n"
      ],
      "text/markdown": [
       "\n",
       "A grouped_df: 4 × 4\n",
       "\n",
       "| Sex &lt;chr&gt; | Medal &lt;chr&gt; | mean_age &lt;dbl&gt; | sd_age &lt;dbl&gt; |\n",
       "|---|---|---|---|\n",
       "| F | No  | 19.24060 | 3.921870 |\n",
       "| M | No  | 24.60099 | 3.814174 |\n",
       "| F | Yes | 21.44444 | 4.941864 |\n",
       "| M | Yes | 25.66667 | 2.867180 |\n",
       "\n"
      ],
      "text/plain": [
       "  Sex Medal mean_age sd_age  \n",
       "1 F   No    19.24060 3.921870\n",
       "2 M   No    24.60099 3.814174\n",
       "3 F   Yes   21.44444 4.941864\n",
       "4 M   Yes   25.66667 2.867180"
      ]
     },
     "metadata": {},
     "output_type": "display_data"
    }
   ],
   "source": [
    "female_no_medal <- gymnast_sample_grouped |>\n",
    "                    filter(Sex == \"F\" , is.na(Medal))|>\n",
    "                    select(-Medal) |>\n",
    "                    mutate(Medal = \"No\", mean_age = mean_Age, sd_age = sd_Age) |>\n",
    "                    select(-mean_Age , -sd_Age)\n",
    "male_no_medal <- gymnast_sample_grouped |>\n",
    "                    filter(Sex == \"M\" , is.na(Medal))|>\n",
    "                    select(-Medal) |>\n",
    "                    mutate(Medal = \"No\", mean_age = mean_Age , sd_age = sd_Age)|>\n",
    "                    select(-mean_Age , -sd_Age)\n",
    "female_medal <- gymnast_sample_grouped |>\n",
    "                    filter(Sex == \"F\" , !is.na(Medal)) |>\n",
    "                    group_by(Sex) |>\n",
    "                    summarise(mean_age = mean(mean_Age) , sd_age = mean(sd_Age)) |>\n",
    "                    mutate(Medal = \"Yes\")\n",
    "male_medal <- gymnast_sample_grouped |>\n",
    "                    filter(Sex == \"M\" , !is.na(Medal)) |>\n",
    "                    group_by(Sex) |>\n",
    "                    summarise(mean_age = mean(mean_Age) , sd_age = mean(sd_Age))|>\n",
    "                    mutate(Medal = \"Yes\")\n",
    "\n",
    "gymnast_sample_final <- rbind(female_no_medal , male_no_medal , female_medal , male_medal)\n",
    "\n",
    "gymnast_sample_final"
   ]
  },
  {
   "cell_type": "markdown",
   "id": "cba313e7-2fc0-4047-bd32-b91d81247676",
   "metadata": {},
   "source": [
    "### Visualization"
   ]
  },
  {
   "cell_type": "markdown",
   "id": "dc8a80fe-aec7-4c24-89b6-0f1a45e04b57",
   "metadata": {},
   "source": [
    "Since, we have 2 categorical variables, for visualisation we can use Bar Graph or a contingency table. "
   ]
  },
  {
   "cell_type": "code",
   "execution_count": 96,
   "id": "d5c2d37d-b0b9-47da-8b1f-d377a3bcbfac",
   "metadata": {},
   "outputs": [
    {
     "data": {
      "text/html": [
       "<table class=\"dataframe\">\n",
       "<caption>A grouped_df: 2 × 5</caption>\n",
       "<thead>\n",
       "\t<tr><th scope=col>Sex</th><th scope=col>Bronze</th><th scope=col>Gold</th><th scope=col>Silver</th><th scope=col>&lt;NA&gt;</th></tr>\n",
       "\t<tr><th scope=col>&lt;chr&gt;</th><th scope=col>&lt;int&gt;</th><th scope=col>&lt;int&gt;</th><th scope=col>&lt;int&gt;</th><th scope=col>&lt;int&gt;</th></tr>\n",
       "</thead>\n",
       "<tbody>\n",
       "\t<tr><td>F</td><td>2</td><td>3</td><td>2</td><td>133</td></tr>\n",
       "\t<tr><td>M</td><td>2</td><td>2</td><td>3</td><td>203</td></tr>\n",
       "</tbody>\n",
       "</table>\n"
      ],
      "text/latex": [
       "A grouped\\_df: 2 × 5\n",
       "\\begin{tabular}{lllll}\n",
       " Sex & Bronze & Gold & Silver & <NA>\\\\\n",
       " <chr> & <int> & <int> & <int> & <int>\\\\\n",
       "\\hline\n",
       "\t F & 2 & 3 & 2 & 133\\\\\n",
       "\t M & 2 & 2 & 3 & 203\\\\\n",
       "\\end{tabular}\n"
      ],
      "text/markdown": [
       "\n",
       "A grouped_df: 2 × 5\n",
       "\n",
       "| Sex &lt;chr&gt; | Bronze &lt;int&gt; | Gold &lt;int&gt; | Silver &lt;int&gt; | &lt;NA&gt; &lt;int&gt; |\n",
       "|---|---|---|---|---|\n",
       "| F | 2 | 3 | 2 | 133 |\n",
       "| M | 2 | 2 | 3 | 203 |\n",
       "\n"
      ],
      "text/plain": [
       "  Sex Bronze Gold Silver <NA>\n",
       "1 F   2      3    2      133 \n",
       "2 M   2      2    3      203 "
      ]
     },
     "metadata": {},
     "output_type": "display_data"
    },
    {
     "data": {
      "application/pdf": "[encoded data removed]",
      "image/jpeg": "[encoded data removed]",
      "image/png": "[encoded data removed]",
      "image/svg+xml": [
       "<?xml version=\"1.0\" encoding=\"UTF-8\"?>\n",
       "<svg xmlns=\"http://www.w3.org/2000/svg\" xmlns:xlink=\"http://www.w3.org/1999/xlink\" width=\"504pt\" height=\"504pt\" viewBox=\"0 0 504 504\" version=\"1.1\">\n",
       "<defs>\n",
       "<g>\n",
       "<symbol overflow=\"visible\" id=\"glyph0-0\">\n",
       "<path style=\"stroke:none;\" d=\"M 0.296875 0 L 0.296875 -5.859375 L 2.625 -5.859375 L 2.625 0 Z M 0.578125 -0.296875 L 2.34375 -0.296875 L 2.34375 -5.578125 L 0.578125 -5.578125 Z M 0.578125 -0.296875 \"/>\n",
       "</symbol>\n",
       "<symbol overflow=\"visible\" id=\"glyph0-1\">\n",
       "<path style=\"stroke:none;\" d=\"M 4.546875 -3.03125 C 4.546875 -2.445312 4.488281 -1.957031 4.375 -1.5625 C 4.269531 -1.164062 4.117188 -0.84375 3.921875 -0.59375 C 3.734375 -0.351562 3.507812 -0.179688 3.25 -0.078125 C 3 0.0234375 2.726562 0.078125 2.4375 0.078125 C 2.144531 0.078125 1.867188 0.0234375 1.609375 -0.078125 C 1.359375 -0.179688 1.140625 -0.351562 0.953125 -0.59375 C 0.765625 -0.84375 0.613281 -1.164062 0.5 -1.5625 C 0.394531 -1.957031 0.34375 -2.445312 0.34375 -3.03125 C 0.34375 -3.632812 0.394531 -4.132812 0.5 -4.53125 C 0.613281 -4.9375 0.765625 -5.257812 0.953125 -5.5 C 1.140625 -5.738281 1.359375 -5.90625 1.609375 -6 C 1.867188 -6.09375 2.15625 -6.140625 2.46875 -6.140625 C 2.75 -6.140625 3.015625 -6.09375 3.265625 -6 C 3.523438 -5.90625 3.75 -5.738281 3.9375 -5.5 C 4.125 -5.257812 4.269531 -4.9375 4.375 -4.53125 C 4.488281 -4.132812 4.546875 -3.632812 4.546875 -3.03125 Z M 3.765625 -3.03125 C 3.765625 -3.507812 3.734375 -3.90625 3.671875 -4.21875 C 3.617188 -4.539062 3.535156 -4.796875 3.421875 -4.984375 C 3.304688 -5.179688 3.164062 -5.316406 3 -5.390625 C 2.84375 -5.472656 2.664062 -5.515625 2.46875 -5.515625 C 2.25 -5.515625 2.054688 -5.472656 1.890625 -5.390625 C 1.722656 -5.316406 1.582031 -5.179688 1.46875 -4.984375 C 1.351562 -4.796875 1.265625 -4.539062 1.203125 -4.21875 C 1.148438 -3.90625 1.125 -3.507812 1.125 -3.03125 C 1.125 -2.5625 1.148438 -2.164062 1.203125 -1.84375 C 1.265625 -1.53125 1.351562 -1.273438 1.46875 -1.078125 C 1.582031 -0.890625 1.71875 -0.753906 1.875 -0.671875 C 2.039062 -0.585938 2.226562 -0.546875 2.4375 -0.546875 C 2.644531 -0.546875 2.828125 -0.585938 2.984375 -0.671875 C 3.148438 -0.753906 3.289062 -0.890625 3.40625 -1.078125 C 3.519531 -1.273438 3.609375 -1.53125 3.671875 -1.84375 C 3.734375 -2.164062 3.765625 -2.5625 3.765625 -3.03125 Z M 3.765625 -3.03125 \"/>\n",
       "</symbol>\n",
       "<symbol overflow=\"visible\" id=\"glyph0-2\">\n",
       "<path style=\"stroke:none;\" d=\"M 0.671875 0 L 0.671875 -0.65625 L 2.21875 -0.65625 L 2.21875 -5.3125 L 0.84375 -4.34375 L 0.84375 -5.0625 L 2.28125 -6.046875 L 2.984375 -6.046875 L 2.984375 -0.65625 L 4.46875 -0.65625 L 4.46875 0 Z M 0.671875 0 \"/>\n",
       "</symbol>\n",
       "<symbol overflow=\"visible\" id=\"glyph0-3\">\n",
       "<path style=\"stroke:none;\" d=\"M 0.4375 0 L 0.4375 -0.546875 C 0.582031 -0.878906 0.757812 -1.171875 0.96875 -1.421875 C 1.1875 -1.679688 1.410156 -1.914062 1.640625 -2.125 C 1.867188 -2.332031 2.097656 -2.523438 2.328125 -2.703125 C 2.554688 -2.878906 2.757812 -3.054688 2.9375 -3.234375 C 3.125 -3.410156 3.273438 -3.597656 3.390625 -3.796875 C 3.503906 -3.992188 3.5625 -4.210938 3.5625 -4.453125 C 3.5625 -4.628906 3.535156 -4.78125 3.484375 -4.90625 C 3.429688 -5.039062 3.351562 -5.148438 3.25 -5.234375 C 3.15625 -5.328125 3.039062 -5.394531 2.90625 -5.4375 C 2.769531 -5.476562 2.617188 -5.5 2.453125 -5.5 C 2.296875 -5.5 2.148438 -5.476562 2.015625 -5.4375 C 1.878906 -5.394531 1.757812 -5.332031 1.65625 -5.25 C 1.550781 -5.164062 1.460938 -5.054688 1.390625 -4.921875 C 1.328125 -4.796875 1.285156 -4.648438 1.265625 -4.484375 L 0.484375 -4.5625 C 0.503906 -4.78125 0.5625 -4.984375 0.65625 -5.171875 C 0.75 -5.359375 0.878906 -5.523438 1.046875 -5.671875 C 1.210938 -5.816406 1.410156 -5.929688 1.640625 -6.015625 C 1.878906 -6.097656 2.148438 -6.140625 2.453125 -6.140625 C 2.753906 -6.140625 3.019531 -6.101562 3.25 -6.03125 C 3.488281 -5.957031 3.6875 -5.847656 3.84375 -5.703125 C 4.007812 -5.566406 4.132812 -5.394531 4.21875 -5.1875 C 4.3125 -4.988281 4.359375 -4.753906 4.359375 -4.484375 C 4.359375 -4.273438 4.320312 -4.078125 4.25 -3.890625 C 4.175781 -3.710938 4.078125 -3.539062 3.953125 -3.375 C 3.828125 -3.207031 3.6875 -3.046875 3.53125 -2.890625 C 3.375 -2.742188 3.207031 -2.59375 3.03125 -2.4375 C 2.851562 -2.289062 2.675781 -2.144531 2.5 -2 C 2.320312 -1.863281 2.15625 -1.722656 2 -1.578125 C 1.84375 -1.429688 1.703125 -1.28125 1.578125 -1.125 C 1.453125 -0.976562 1.359375 -0.820312 1.296875 -0.65625 L 4.453125 -0.65625 L 4.453125 0 Z M 0.4375 0 \"/>\n",
       "</symbol>\n",
       "<symbol overflow=\"visible\" id=\"glyph0-4\">\n",
       "<path style=\"stroke:none;\" d=\"M 4.5 -1.671875 C 4.5 -1.390625 4.453125 -1.140625 4.359375 -0.921875 C 4.273438 -0.703125 4.144531 -0.519531 3.96875 -0.375 C 3.800781 -0.226562 3.585938 -0.113281 3.328125 -0.03125 C 3.078125 0.0390625 2.785156 0.078125 2.453125 0.078125 C 2.078125 0.078125 1.757812 0.0351562 1.5 -0.046875 C 1.25 -0.140625 1.039062 -0.265625 0.875 -0.421875 C 0.707031 -0.578125 0.582031 -0.75 0.5 -0.9375 C 0.414062 -1.132812 0.359375 -1.34375 0.328125 -1.5625 L 1.140625 -1.625 C 1.160156 -1.46875 1.203125 -1.320312 1.265625 -1.1875 C 1.328125 -1.0625 1.410156 -0.945312 1.515625 -0.84375 C 1.617188 -0.75 1.75 -0.675781 1.90625 -0.625 C 2.0625 -0.570312 2.242188 -0.546875 2.453125 -0.546875 C 2.835938 -0.546875 3.140625 -0.640625 3.359375 -0.828125 C 3.585938 -1.023438 3.703125 -1.316406 3.703125 -1.703125 C 3.703125 -1.921875 3.648438 -2.097656 3.546875 -2.234375 C 3.453125 -2.367188 3.332031 -2.472656 3.1875 -2.546875 C 3.039062 -2.628906 2.878906 -2.679688 2.703125 -2.703125 C 2.523438 -2.734375 2.363281 -2.75 2.21875 -2.75 L 1.78125 -2.75 L 1.78125 -3.421875 L 2.203125 -3.421875 C 2.347656 -3.421875 2.5 -3.429688 2.65625 -3.453125 C 2.820312 -3.484375 2.96875 -3.535156 3.09375 -3.609375 C 3.226562 -3.691406 3.335938 -3.800781 3.421875 -3.9375 C 3.503906 -4.070312 3.546875 -4.242188 3.546875 -4.453125 C 3.546875 -4.773438 3.445312 -5.03125 3.25 -5.21875 C 3.0625 -5.40625 2.78125 -5.5 2.40625 -5.5 C 2.070312 -5.5 1.796875 -5.410156 1.578125 -5.234375 C 1.367188 -5.066406 1.25 -4.820312 1.21875 -4.5 L 0.4375 -4.5625 C 0.46875 -4.832031 0.539062 -5.066406 0.65625 -5.265625 C 0.769531 -5.460938 0.914062 -5.625 1.09375 -5.75 C 1.269531 -5.882812 1.46875 -5.984375 1.6875 -6.046875 C 1.914062 -6.109375 2.160156 -6.140625 2.421875 -6.140625 C 2.753906 -6.140625 3.039062 -6.097656 3.28125 -6.015625 C 3.53125 -5.929688 3.734375 -5.816406 3.890625 -5.671875 C 4.046875 -5.523438 4.160156 -5.351562 4.234375 -5.15625 C 4.304688 -4.96875 4.34375 -4.765625 4.34375 -4.546875 C 4.34375 -4.367188 4.316406 -4.203125 4.265625 -4.046875 C 4.210938 -3.890625 4.132812 -3.75 4.03125 -3.625 C 3.9375 -3.5 3.804688 -3.390625 3.640625 -3.296875 C 3.484375 -3.210938 3.296875 -3.148438 3.078125 -3.109375 L 3.078125 -3.09375 C 3.316406 -3.0625 3.523438 -3.003906 3.703125 -2.921875 C 3.890625 -2.835938 4.039062 -2.734375 4.15625 -2.609375 C 4.269531 -2.484375 4.351562 -2.335938 4.40625 -2.171875 C 4.46875 -2.015625 4.5 -1.847656 4.5 -1.671875 Z M 4.5 -1.671875 \"/>\n",
       "</symbol>\n",
       "<symbol overflow=\"visible\" id=\"glyph0-5\">\n",
       "<path style=\"stroke:none;\" d=\"M 5.40625 -1.703125 C 5.40625 -1.398438 5.34375 -1.140625 5.21875 -0.921875 C 5.101562 -0.703125 4.941406 -0.523438 4.734375 -0.390625 C 4.535156 -0.253906 4.300781 -0.15625 4.03125 -0.09375 C 3.757812 -0.03125 3.472656 0 3.171875 0 L 0.71875 0 L 0.71875 -6.046875 L 2.921875 -6.046875 C 3.253906 -6.046875 3.550781 -6.019531 3.8125 -5.96875 C 4.082031 -5.914062 4.304688 -5.828125 4.484375 -5.703125 C 4.671875 -5.585938 4.8125 -5.4375 4.90625 -5.25 C 5 -5.0625 5.046875 -4.835938 5.046875 -4.578125 C 5.046875 -4.410156 5.019531 -4.253906 4.96875 -4.109375 C 4.925781 -3.960938 4.859375 -3.828125 4.765625 -3.703125 C 4.671875 -3.578125 4.550781 -3.46875 4.40625 -3.375 C 4.257812 -3.289062 4.09375 -3.226562 3.90625 -3.1875 C 4.144531 -3.164062 4.359375 -3.113281 4.546875 -3.03125 C 4.734375 -2.945312 4.890625 -2.835938 5.015625 -2.703125 C 5.140625 -2.578125 5.234375 -2.425781 5.296875 -2.25 C 5.367188 -2.082031 5.40625 -1.898438 5.40625 -1.703125 Z M 4.234375 -4.484375 C 4.234375 -4.804688 4.117188 -5.035156 3.890625 -5.171875 C 3.671875 -5.316406 3.347656 -5.390625 2.921875 -5.390625 L 1.546875 -5.390625 L 1.546875 -3.484375 L 2.921875 -3.484375 C 3.160156 -3.484375 3.363281 -3.503906 3.53125 -3.546875 C 3.695312 -3.597656 3.832031 -3.664062 3.9375 -3.75 C 4.039062 -3.84375 4.113281 -3.945312 4.15625 -4.0625 C 4.207031 -4.1875 4.234375 -4.328125 4.234375 -4.484375 Z M 4.578125 -1.765625 C 4.578125 -1.960938 4.539062 -2.128906 4.46875 -2.265625 C 4.394531 -2.398438 4.289062 -2.507812 4.15625 -2.59375 C 4.03125 -2.675781 3.875 -2.738281 3.6875 -2.78125 C 3.507812 -2.820312 3.304688 -2.84375 3.078125 -2.84375 L 1.546875 -2.84375 L 1.546875 -0.65625 L 3.140625 -0.65625 C 3.347656 -0.65625 3.539062 -0.671875 3.71875 -0.703125 C 3.894531 -0.742188 4.046875 -0.804688 4.171875 -0.890625 C 4.296875 -0.972656 4.394531 -1.085938 4.46875 -1.234375 C 4.539062 -1.378906 4.578125 -1.554688 4.578125 -1.765625 Z M 4.578125 -1.765625 \"/>\n",
       "</symbol>\n",
       "<symbol overflow=\"visible\" id=\"glyph0-6\">\n",
       "<path style=\"stroke:none;\" d=\"M 0.609375 0 L 0.609375 -3.5625 C 0.609375 -3.664062 0.609375 -3.765625 0.609375 -3.859375 C 0.609375 -3.960938 0.601562 -4.0625 0.59375 -4.15625 C 0.59375 -4.25 0.59375 -4.335938 0.59375 -4.421875 C 0.59375 -4.503906 0.585938 -4.578125 0.578125 -4.640625 L 1.3125 -4.640625 C 1.3125 -4.578125 1.3125 -4.503906 1.3125 -4.421875 C 1.320312 -4.335938 1.328125 -4.25 1.328125 -4.15625 C 1.335938 -4.070312 1.34375 -3.988281 1.34375 -3.90625 C 1.34375 -3.820312 1.34375 -3.753906 1.34375 -3.703125 L 1.359375 -3.703125 C 1.421875 -3.878906 1.476562 -4.03125 1.53125 -4.15625 C 1.59375 -4.289062 1.664062 -4.398438 1.75 -4.484375 C 1.832031 -4.566406 1.929688 -4.628906 2.046875 -4.671875 C 2.160156 -4.710938 2.300781 -4.734375 2.46875 -4.734375 C 2.53125 -4.734375 2.585938 -4.726562 2.640625 -4.71875 C 2.703125 -4.707031 2.75 -4.695312 2.78125 -4.6875 L 2.78125 -3.984375 C 2.726562 -3.992188 2.664062 -4.003906 2.59375 -4.015625 C 2.53125 -4.023438 2.457031 -4.03125 2.375 -4.03125 C 2.195312 -4.03125 2.046875 -3.988281 1.921875 -3.90625 C 1.796875 -3.820312 1.691406 -3.707031 1.609375 -3.5625 C 1.535156 -3.425781 1.476562 -3.257812 1.4375 -3.0625 C 1.40625 -2.863281 1.390625 -2.648438 1.390625 -2.421875 L 1.390625 0 Z M 0.609375 0 \"/>\n",
       "</symbol>\n",
       "<symbol overflow=\"visible\" id=\"glyph0-7\">\n",
       "<path style=\"stroke:none;\" d=\"M 4.515625 -2.328125 C 4.515625 -1.515625 4.335938 -0.910156 3.984375 -0.515625 C 3.628906 -0.117188 3.109375 0.078125 2.421875 0.078125 C 2.097656 0.078125 1.804688 0.03125 1.546875 -0.0625 C 1.296875 -0.15625 1.082031 -0.300781 0.90625 -0.5 C 0.738281 -0.707031 0.609375 -0.960938 0.515625 -1.265625 C 0.421875 -1.566406 0.375 -1.921875 0.375 -2.328125 C 0.375 -3.929688 1.066406 -4.734375 2.453125 -4.734375 C 2.816406 -4.734375 3.128906 -4.679688 3.390625 -4.578125 C 3.648438 -4.484375 3.863281 -4.332031 4.03125 -4.125 C 4.195312 -3.925781 4.316406 -3.675781 4.390625 -3.375 C 4.472656 -3.070312 4.515625 -2.722656 4.515625 -2.328125 Z M 3.71875 -2.328125 C 3.71875 -2.691406 3.6875 -2.988281 3.625 -3.21875 C 3.570312 -3.457031 3.488281 -3.644531 3.375 -3.78125 C 3.269531 -3.925781 3.140625 -4.023438 2.984375 -4.078125 C 2.828125 -4.128906 2.65625 -4.15625 2.46875 -4.15625 C 2.269531 -4.15625 2.085938 -4.125 1.921875 -4.0625 C 1.765625 -4.007812 1.628906 -3.910156 1.515625 -3.765625 C 1.410156 -3.628906 1.328125 -3.441406 1.265625 -3.203125 C 1.210938 -2.972656 1.1875 -2.679688 1.1875 -2.328125 C 1.1875 -1.960938 1.21875 -1.660156 1.28125 -1.421875 C 1.34375 -1.191406 1.425781 -1.003906 1.53125 -0.859375 C 1.644531 -0.722656 1.773438 -0.625 1.921875 -0.5625 C 2.078125 -0.507812 2.242188 -0.484375 2.421875 -0.484375 C 2.617188 -0.484375 2.796875 -0.507812 2.953125 -0.5625 C 3.117188 -0.625 3.253906 -0.722656 3.359375 -0.859375 C 3.472656 -1.003906 3.5625 -1.191406 3.625 -1.421875 C 3.6875 -1.660156 3.71875 -1.960938 3.71875 -2.328125 Z M 3.71875 -2.328125 \"/>\n",
       "</symbol>\n",
       "<symbol overflow=\"visible\" id=\"glyph0-8\">\n",
       "<path style=\"stroke:none;\" d=\"M 3.546875 0 L 3.546875 -2.953125 C 3.546875 -3.171875 3.523438 -3.351562 3.484375 -3.5 C 3.453125 -3.65625 3.398438 -3.78125 3.328125 -3.875 C 3.253906 -3.96875 3.15625 -4.035156 3.03125 -4.078125 C 2.914062 -4.117188 2.765625 -4.140625 2.578125 -4.140625 C 2.398438 -4.140625 2.238281 -4.101562 2.09375 -4.03125 C 1.945312 -3.96875 1.820312 -3.875 1.71875 -3.75 C 1.613281 -3.632812 1.53125 -3.488281 1.46875 -3.3125 C 1.414062 -3.132812 1.390625 -2.925781 1.390625 -2.6875 L 1.390625 0 L 0.609375 0 L 0.609375 -3.65625 C 0.609375 -3.75 0.609375 -3.847656 0.609375 -3.953125 C 0.609375 -4.066406 0.601562 -4.171875 0.59375 -4.265625 C 0.59375 -4.359375 0.59375 -4.441406 0.59375 -4.515625 C 0.59375 -4.585938 0.585938 -4.628906 0.578125 -4.640625 L 1.3125 -4.640625 C 1.3125 -4.628906 1.3125 -4.59375 1.3125 -4.53125 C 1.320312 -4.46875 1.328125 -4.394531 1.328125 -4.3125 C 1.335938 -4.226562 1.34375 -4.144531 1.34375 -4.0625 C 1.34375 -3.976562 1.34375 -3.910156 1.34375 -3.859375 L 1.359375 -3.859375 C 1.429688 -3.992188 1.507812 -4.113281 1.59375 -4.21875 C 1.6875 -4.320312 1.789062 -4.410156 1.90625 -4.484375 C 2.03125 -4.566406 2.164062 -4.628906 2.3125 -4.671875 C 2.46875 -4.710938 2.644531 -4.734375 2.84375 -4.734375 C 3.101562 -4.734375 3.328125 -4.703125 3.515625 -4.640625 C 3.703125 -4.578125 3.851562 -4.476562 3.96875 -4.34375 C 4.09375 -4.21875 4.179688 -4.050781 4.234375 -3.84375 C 4.296875 -3.632812 4.328125 -3.382812 4.328125 -3.09375 L 4.328125 0 Z M 3.546875 0 \"/>\n",
       "</symbol>\n",
       "<symbol overflow=\"visible\" id=\"glyph0-9\">\n",
       "<path style=\"stroke:none;\" d=\"M 0.203125 0 L 0.203125 -0.59375 L 3.046875 -4.046875 L 0.375 -4.046875 L 0.375 -4.640625 L 3.921875 -4.640625 L 3.921875 -4.0625 L 1.078125 -0.59375 L 4.078125 -0.59375 L 4.078125 0 Z M 0.203125 0 \"/>\n",
       "</symbol>\n",
       "<symbol overflow=\"visible\" id=\"glyph0-10\">\n",
       "<path style=\"stroke:none;\" d=\"M 1.1875 -2.15625 C 1.1875 -1.914062 1.207031 -1.691406 1.25 -1.484375 C 1.300781 -1.285156 1.378906 -1.109375 1.484375 -0.953125 C 1.597656 -0.804688 1.734375 -0.691406 1.890625 -0.609375 C 2.054688 -0.535156 2.253906 -0.5 2.484375 -0.5 C 2.816406 -0.5 3.082031 -0.5625 3.28125 -0.6875 C 3.488281 -0.820312 3.628906 -0.992188 3.703125 -1.203125 L 4.375 -1.015625 C 4.320312 -0.890625 4.253906 -0.757812 4.171875 -0.625 C 4.085938 -0.488281 3.972656 -0.367188 3.828125 -0.265625 C 3.679688 -0.160156 3.5 -0.078125 3.28125 -0.015625 C 3.0625 0.046875 2.796875 0.078125 2.484375 0.078125 C 1.796875 0.078125 1.269531 -0.125 0.90625 -0.53125 C 0.550781 -0.9375 0.375 -1.546875 0.375 -2.359375 C 0.375 -2.785156 0.425781 -3.148438 0.53125 -3.453125 C 0.644531 -3.753906 0.796875 -4 0.984375 -4.1875 C 1.171875 -4.382812 1.390625 -4.523438 1.640625 -4.609375 C 1.890625 -4.691406 2.160156 -4.734375 2.453125 -4.734375 C 2.835938 -4.734375 3.160156 -4.671875 3.421875 -4.546875 C 3.691406 -4.421875 3.90625 -4.242188 4.0625 -4.015625 C 4.21875 -3.796875 4.328125 -3.535156 4.390625 -3.234375 C 4.460938 -2.929688 4.5 -2.609375 4.5 -2.265625 L 4.5 -2.15625 Z M 3.703125 -2.75 C 3.660156 -3.238281 3.535156 -3.59375 3.328125 -3.8125 C 3.117188 -4.039062 2.820312 -4.15625 2.4375 -4.15625 C 2.3125 -4.15625 2.175781 -4.132812 2.03125 -4.09375 C 1.894531 -4.050781 1.765625 -3.976562 1.640625 -3.875 C 1.515625 -3.769531 1.410156 -3.625 1.328125 -3.4375 C 1.253906 -3.257812 1.207031 -3.03125 1.1875 -2.75 Z M 3.703125 -2.75 \"/>\n",
       "</symbol>\n",
       "<symbol overflow=\"visible\" id=\"glyph0-11\">\n",
       "<path style=\"stroke:none;\" d=\"M 0.4375 -3.046875 C 0.4375 -3.523438 0.5 -3.953125 0.625 -4.328125 C 0.757812 -4.710938 0.953125 -5.035156 1.203125 -5.296875 C 1.453125 -5.566406 1.765625 -5.773438 2.140625 -5.921875 C 2.515625 -6.066406 2.953125 -6.140625 3.453125 -6.140625 C 3.828125 -6.140625 4.15625 -6.101562 4.4375 -6.03125 C 4.71875 -5.96875 4.957031 -5.875 5.15625 -5.75 C 5.363281 -5.632812 5.539062 -5.488281 5.6875 -5.3125 C 5.832031 -5.132812 5.953125 -4.9375 6.046875 -4.71875 L 5.265625 -4.484375 C 5.191406 -4.628906 5.101562 -4.765625 5 -4.890625 C 4.894531 -5.015625 4.769531 -5.117188 4.625 -5.203125 C 4.476562 -5.285156 4.304688 -5.347656 4.109375 -5.390625 C 3.910156 -5.441406 3.6875 -5.46875 3.4375 -5.46875 C 3.0625 -5.46875 2.738281 -5.410156 2.46875 -5.296875 C 2.207031 -5.179688 1.984375 -5.019531 1.796875 -4.8125 C 1.617188 -4.601562 1.488281 -4.347656 1.40625 -4.046875 C 1.320312 -3.742188 1.28125 -3.410156 1.28125 -3.046875 C 1.28125 -2.691406 1.328125 -2.363281 1.421875 -2.0625 C 1.515625 -1.757812 1.65625 -1.492188 1.84375 -1.265625 C 2.03125 -1.046875 2.257812 -0.875 2.53125 -0.75 C 2.8125 -0.632812 3.128906 -0.578125 3.484375 -0.578125 C 3.722656 -0.578125 3.941406 -0.597656 4.140625 -0.640625 C 4.347656 -0.679688 4.53125 -0.734375 4.6875 -0.796875 C 4.851562 -0.859375 5 -0.925781 5.125 -1 C 5.25 -1.082031 5.347656 -1.164062 5.421875 -1.25 L 5.421875 -2.34375 L 3.625 -2.34375 L 3.625 -3.03125 L 6.1875 -3.03125 L 6.1875 -0.9375 C 6.050781 -0.800781 5.890625 -0.671875 5.703125 -0.546875 C 5.523438 -0.421875 5.320312 -0.3125 5.09375 -0.21875 C 4.875 -0.125 4.628906 -0.0507812 4.359375 0 C 4.085938 0.0507812 3.796875 0.078125 3.484375 0.078125 C 2.984375 0.078125 2.539062 0.00390625 2.15625 -0.140625 C 1.769531 -0.296875 1.453125 -0.515625 1.203125 -0.796875 C 0.953125 -1.078125 0.757812 -1.410156 0.625 -1.796875 C 0.5 -2.179688 0.4375 -2.597656 0.4375 -3.046875 Z M 0.4375 -3.046875 \"/>\n",
       "</symbol>\n",
       "<symbol overflow=\"visible\" id=\"glyph0-12\">\n",
       "<path style=\"stroke:none;\" d=\"M 0.59375 0 L 0.59375 -6.375 L 1.359375 -6.375 L 1.359375 0 Z M 0.59375 0 \"/>\n",
       "</symbol>\n",
       "<symbol overflow=\"visible\" id=\"glyph0-13\">\n",
       "<path style=\"stroke:none;\" d=\"M 3.53125 -0.75 C 3.382812 -0.445312 3.191406 -0.234375 2.953125 -0.109375 C 2.722656 0.015625 2.429688 0.078125 2.078125 0.078125 C 1.492188 0.078125 1.0625 -0.113281 0.78125 -0.5 C 0.507812 -0.894531 0.375 -1.492188 0.375 -2.296875 C 0.375 -3.921875 0.941406 -4.734375 2.078125 -4.734375 C 2.429688 -4.734375 2.722656 -4.664062 2.953125 -4.53125 C 3.191406 -4.40625 3.382812 -4.203125 3.53125 -3.921875 C 3.53125 -3.953125 3.53125 -4 3.53125 -4.0625 C 3.53125 -4.125 3.53125 -4.1875 3.53125 -4.25 C 3.53125 -4.320312 3.53125 -4.382812 3.53125 -4.4375 C 3.53125 -4.5 3.53125 -4.546875 3.53125 -4.578125 L 3.53125 -6.375 L 4.296875 -6.375 L 4.296875 -0.953125 C 4.296875 -0.847656 4.296875 -0.742188 4.296875 -0.640625 C 4.296875 -0.535156 4.296875 -0.4375 4.296875 -0.34375 C 4.304688 -0.257812 4.3125 -0.1875 4.3125 -0.125 C 4.320312 -0.0625 4.328125 -0.0195312 4.328125 0 L 3.59375 0 C 3.582031 -0.03125 3.570312 -0.0703125 3.5625 -0.125 C 3.5625 -0.175781 3.554688 -0.234375 3.546875 -0.296875 C 3.546875 -0.367188 3.546875 -0.441406 3.546875 -0.515625 C 3.546875 -0.597656 3.546875 -0.675781 3.546875 -0.75 Z M 1.1875 -2.328125 C 1.1875 -2.003906 1.203125 -1.726562 1.234375 -1.5 C 1.273438 -1.269531 1.335938 -1.082031 1.421875 -0.9375 C 1.515625 -0.789062 1.628906 -0.679688 1.765625 -0.609375 C 1.910156 -0.546875 2.082031 -0.515625 2.28125 -0.515625 C 2.476562 -0.515625 2.65625 -0.546875 2.8125 -0.609375 C 2.96875 -0.671875 3.097656 -0.773438 3.203125 -0.921875 C 3.304688 -1.078125 3.382812 -1.269531 3.4375 -1.5 C 3.5 -1.738281 3.53125 -2.03125 3.53125 -2.375 C 3.53125 -2.707031 3.5 -2.988281 3.4375 -3.21875 C 3.382812 -3.445312 3.304688 -3.628906 3.203125 -3.765625 C 3.097656 -3.910156 2.96875 -4.007812 2.8125 -4.0625 C 2.65625 -4.125 2.476562 -4.15625 2.28125 -4.15625 C 2.09375 -4.15625 1.929688 -4.125 1.796875 -4.0625 C 1.660156 -4 1.546875 -3.894531 1.453125 -3.75 C 1.359375 -3.601562 1.289062 -3.410156 1.25 -3.171875 C 1.207031 -2.941406 1.1875 -2.660156 1.1875 -2.328125 Z M 1.1875 -2.328125 \"/>\n",
       "</symbol>\n",
       "<symbol overflow=\"visible\" id=\"glyph0-14\">\n",
       "<path style=\"stroke:none;\" d=\"M 5.46875 -1.671875 C 5.46875 -1.410156 5.414062 -1.171875 5.3125 -0.953125 C 5.21875 -0.742188 5.066406 -0.5625 4.859375 -0.40625 C 4.648438 -0.25 4.390625 -0.128906 4.078125 -0.046875 C 3.765625 0.0351562 3.394531 0.078125 2.96875 0.078125 C 2.207031 0.078125 1.617188 -0.0507812 1.203125 -0.3125 C 0.785156 -0.570312 0.519531 -0.953125 0.40625 -1.453125 L 1.1875 -1.609375 C 1.226562 -1.453125 1.289062 -1.304688 1.375 -1.171875 C 1.457031 -1.046875 1.566406 -0.9375 1.703125 -0.84375 C 1.847656 -0.75 2.023438 -0.675781 2.234375 -0.625 C 2.453125 -0.570312 2.707031 -0.546875 3 -0.546875 C 3.238281 -0.546875 3.457031 -0.566406 3.65625 -0.609375 C 3.863281 -0.648438 4.039062 -0.710938 4.1875 -0.796875 C 4.332031 -0.890625 4.445312 -1.003906 4.53125 -1.140625 C 4.613281 -1.273438 4.65625 -1.4375 4.65625 -1.625 C 4.65625 -1.820312 4.609375 -1.984375 4.515625 -2.109375 C 4.421875 -2.234375 4.289062 -2.332031 4.125 -2.40625 C 3.96875 -2.488281 3.773438 -2.554688 3.546875 -2.609375 C 3.328125 -2.671875 3.078125 -2.734375 2.796875 -2.796875 C 2.628906 -2.828125 2.457031 -2.863281 2.28125 -2.90625 C 2.113281 -2.957031 1.953125 -3.015625 1.796875 -3.078125 C 1.640625 -3.140625 1.492188 -3.210938 1.359375 -3.296875 C 1.222656 -3.378906 1.101562 -3.476562 1 -3.59375 C 0.90625 -3.707031 0.828125 -3.835938 0.765625 -3.984375 C 0.710938 -4.140625 0.6875 -4.316406 0.6875 -4.515625 C 0.6875 -4.804688 0.742188 -5.050781 0.859375 -5.25 C 0.972656 -5.457031 1.132812 -5.628906 1.34375 -5.765625 C 1.550781 -5.898438 1.789062 -5.992188 2.0625 -6.046875 C 2.34375 -6.109375 2.648438 -6.140625 2.984375 -6.140625 C 3.359375 -6.140625 3.675781 -6.109375 3.9375 -6.046875 C 4.207031 -5.992188 4.429688 -5.90625 4.609375 -5.78125 C 4.796875 -5.664062 4.941406 -5.519531 5.046875 -5.34375 C 5.160156 -5.175781 5.253906 -4.976562 5.328125 -4.75 L 4.515625 -4.609375 C 4.472656 -4.753906 4.414062 -4.882812 4.34375 -5 C 4.269531 -5.113281 4.171875 -5.207031 4.046875 -5.28125 C 3.921875 -5.363281 3.769531 -5.425781 3.59375 -5.46875 C 3.414062 -5.507812 3.207031 -5.53125 2.96875 -5.53125 C 2.6875 -5.53125 2.453125 -5.503906 2.265625 -5.453125 C 2.078125 -5.398438 1.921875 -5.328125 1.796875 -5.234375 C 1.679688 -5.148438 1.597656 -5.050781 1.546875 -4.9375 C 1.503906 -4.820312 1.484375 -4.695312 1.484375 -4.5625 C 1.484375 -4.382812 1.523438 -4.238281 1.609375 -4.125 C 1.703125 -4.007812 1.828125 -3.910156 1.984375 -3.828125 C 2.140625 -3.753906 2.316406 -3.691406 2.515625 -3.640625 C 2.722656 -3.585938 2.941406 -3.535156 3.171875 -3.484375 C 3.359375 -3.441406 3.539062 -3.394531 3.71875 -3.34375 C 3.90625 -3.300781 4.082031 -3.25 4.25 -3.1875 C 4.425781 -3.125 4.585938 -3.050781 4.734375 -2.96875 C 4.878906 -2.894531 5.003906 -2.796875 5.109375 -2.671875 C 5.222656 -2.546875 5.3125 -2.398438 5.375 -2.234375 C 5.4375 -2.078125 5.46875 -1.890625 5.46875 -1.671875 Z M 5.46875 -1.671875 \"/>\n",
       "</symbol>\n",
       "<symbol overflow=\"visible\" id=\"glyph0-15\">\n",
       "<path style=\"stroke:none;\" d=\"M 0.59375 -5.640625 L 0.59375 -6.375 L 1.359375 -6.375 L 1.359375 -5.640625 Z M 0.59375 0 L 0.59375 -4.640625 L 1.359375 -4.640625 L 1.359375 0 Z M 0.59375 0 \"/>\n",
       "</symbol>\n",
       "<symbol overflow=\"visible\" id=\"glyph0-16\">\n",
       "<path style=\"stroke:none;\" d=\"M 2.640625 0 L 1.71875 0 L 0.03125 -4.640625 L 0.859375 -4.640625 L 1.875 -1.625 C 1.894531 -1.5625 1.914062 -1.484375 1.9375 -1.390625 C 1.96875 -1.304688 2 -1.210938 2.03125 -1.109375 C 2.0625 -1.015625 2.085938 -0.921875 2.109375 -0.828125 C 2.128906 -0.742188 2.148438 -0.671875 2.171875 -0.609375 C 2.191406 -0.671875 2.210938 -0.742188 2.234375 -0.828125 C 2.265625 -0.921875 2.289062 -1.015625 2.3125 -1.109375 C 2.34375 -1.203125 2.375 -1.289062 2.40625 -1.375 C 2.4375 -1.46875 2.460938 -1.546875 2.484375 -1.609375 L 3.546875 -4.640625 L 4.375 -4.640625 Z M 2.640625 0 \"/>\n",
       "</symbol>\n",
       "<symbol overflow=\"visible\" id=\"glyph0-17\">\n",
       "<path style=\"stroke:none;\" d=\"M 4.640625 0 L 1.40625 -5.15625 C 1.414062 -5.007812 1.425781 -4.867188 1.4375 -4.734375 C 1.4375 -4.617188 1.4375 -4.492188 1.4375 -4.359375 C 1.445312 -4.234375 1.453125 -4.117188 1.453125 -4.015625 L 1.453125 0 L 0.71875 0 L 0.71875 -6.046875 L 1.671875 -6.046875 L 4.953125 -0.859375 C 4.941406 -1.003906 4.929688 -1.144531 4.921875 -1.28125 C 4.910156 -1.40625 4.898438 -1.535156 4.890625 -1.671875 C 4.890625 -1.816406 4.890625 -1.953125 4.890625 -2.078125 L 4.890625 -6.046875 L 5.640625 -6.046875 L 5.640625 0 Z M 4.640625 0 \"/>\n",
       "</symbol>\n",
       "<symbol overflow=\"visible\" id=\"glyph0-18\">\n",
       "<path style=\"stroke:none;\" d=\"M 5.015625 0 L 4.328125 -1.765625 L 1.5625 -1.765625 L 0.875 0 L 0.015625 0 L 2.484375 -6.046875 L 3.421875 -6.046875 L 5.84375 0 Z M 3.296875 -4.40625 C 3.253906 -4.519531 3.210938 -4.632812 3.171875 -4.75 C 3.128906 -4.875 3.09375 -4.984375 3.0625 -5.078125 C 3.03125 -5.171875 3.003906 -5.25 2.984375 -5.3125 C 2.960938 -5.375 2.945312 -5.414062 2.9375 -5.4375 C 2.9375 -5.414062 2.925781 -5.375 2.90625 -5.3125 C 2.882812 -5.25 2.859375 -5.164062 2.828125 -5.0625 C 2.796875 -4.96875 2.757812 -4.859375 2.71875 -4.734375 C 2.675781 -4.617188 2.628906 -4.507812 2.578125 -4.40625 L 1.8125 -2.40625 L 4.078125 -2.40625 Z M 3.296875 -4.40625 \"/>\n",
       "</symbol>\n",
       "<symbol overflow=\"visible\" id=\"glyph0-19\">\n",
       "<path style=\"stroke:none;\" d=\"M 1.546875 -5.375 L 1.546875 -3.125 L 4.921875 -3.125 L 4.921875 -2.453125 L 1.546875 -2.453125 L 1.546875 0 L 0.71875 0 L 0.71875 -6.046875 L 5.015625 -6.046875 L 5.015625 -5.375 Z M 1.546875 -5.375 \"/>\n",
       "</symbol>\n",
       "<symbol overflow=\"visible\" id=\"glyph0-20\">\n",
       "<path style=\"stroke:none;\" d=\"M 5.875 0 L 5.875 -4.03125 C 5.875 -4.175781 5.875 -4.328125 5.875 -4.484375 C 5.875 -4.640625 5.878906 -4.78125 5.890625 -4.90625 C 5.890625 -5.050781 5.894531 -5.191406 5.90625 -5.328125 C 5.863281 -5.179688 5.820312 -5.035156 5.78125 -4.890625 C 5.738281 -4.765625 5.695312 -4.632812 5.65625 -4.5 C 5.613281 -4.363281 5.570312 -4.238281 5.53125 -4.125 L 3.96875 0 L 3.390625 0 L 1.796875 -4.125 C 1.785156 -4.164062 1.769531 -4.210938 1.75 -4.265625 C 1.726562 -4.328125 1.707031 -4.390625 1.6875 -4.453125 C 1.664062 -4.515625 1.644531 -4.578125 1.625 -4.640625 C 1.601562 -4.710938 1.582031 -4.785156 1.5625 -4.859375 C 1.507812 -5.003906 1.460938 -5.160156 1.421875 -5.328125 C 1.421875 -5.160156 1.425781 -5 1.4375 -4.84375 C 1.4375 -4.707031 1.4375 -4.566406 1.4375 -4.421875 C 1.445312 -4.273438 1.453125 -4.144531 1.453125 -4.03125 L 1.453125 0 L 0.71875 0 L 0.71875 -6.046875 L 1.796875 -6.046875 L 3.40625 -1.859375 C 3.425781 -1.796875 3.453125 -1.71875 3.484375 -1.625 C 3.515625 -1.539062 3.539062 -1.453125 3.5625 -1.359375 C 3.59375 -1.265625 3.617188 -1.175781 3.640625 -1.09375 C 3.660156 -1.007812 3.675781 -0.941406 3.6875 -0.890625 C 3.6875 -0.941406 3.695312 -1.007812 3.71875 -1.09375 C 3.75 -1.175781 3.78125 -1.265625 3.8125 -1.359375 C 3.84375 -1.453125 3.867188 -1.539062 3.890625 -1.625 C 3.921875 -1.71875 3.945312 -1.796875 3.96875 -1.859375 L 5.546875 -6.046875 L 6.609375 -6.046875 L 6.609375 0 Z M 5.875 0 \"/>\n",
       "</symbol>\n",
       "<symbol overflow=\"visible\" id=\"glyph1-0\">\n",
       "<path style=\"stroke:none;\" d=\"M 0.359375 0 L 0.359375 -7.328125 L 3.28125 -7.328125 L 3.28125 0 Z M 0.734375 -0.359375 L 2.921875 -0.359375 L 2.921875 -6.96875 L 0.734375 -6.96875 Z M 0.734375 -0.359375 \"/>\n",
       "</symbol>\n",
       "<symbol overflow=\"visible\" id=\"glyph1-1\">\n",
       "<path style=\"stroke:none;\" d=\"M 7.34375 0 L 7.34375 -5.046875 C 7.34375 -5.234375 7.34375 -5.421875 7.34375 -5.609375 C 7.34375 -5.796875 7.347656 -5.96875 7.359375 -6.125 C 7.367188 -6.3125 7.378906 -6.488281 7.390625 -6.65625 C 7.335938 -6.476562 7.285156 -6.300781 7.234375 -6.125 C 7.179688 -5.96875 7.128906 -5.800781 7.078125 -5.625 C 7.023438 -5.445312 6.96875 -5.289062 6.90625 -5.15625 L 4.953125 0 L 4.234375 0 L 2.25 -5.15625 C 2.226562 -5.207031 2.207031 -5.269531 2.1875 -5.34375 C 2.164062 -5.414062 2.140625 -5.488281 2.109375 -5.5625 C 2.085938 -5.644531 2.0625 -5.726562 2.03125 -5.8125 C 2.007812 -5.90625 1.984375 -5.988281 1.953125 -6.0625 C 1.890625 -6.257812 1.832031 -6.457031 1.78125 -6.65625 C 1.78125 -6.457031 1.785156 -6.257812 1.796875 -6.0625 C 1.804688 -5.894531 1.8125 -5.71875 1.8125 -5.53125 C 1.8125 -5.351562 1.8125 -5.191406 1.8125 -5.046875 L 1.8125 0 L 0.90625 0 L 0.90625 -7.5625 L 2.25 -7.5625 L 4.265625 -2.328125 C 4.285156 -2.253906 4.3125 -2.160156 4.34375 -2.046875 C 4.382812 -1.929688 4.421875 -1.8125 4.453125 -1.6875 C 4.484375 -1.570312 4.515625 -1.460938 4.546875 -1.359375 C 4.578125 -1.253906 4.597656 -1.175781 4.609375 -1.125 C 4.617188 -1.175781 4.632812 -1.253906 4.65625 -1.359375 C 4.6875 -1.472656 4.71875 -1.585938 4.75 -1.703125 C 4.789062 -1.816406 4.828125 -1.929688 4.859375 -2.046875 C 4.898438 -2.160156 4.9375 -2.253906 4.96875 -2.328125 L 6.9375 -7.5625 L 8.265625 -7.5625 L 8.265625 0 Z M 7.34375 0 \"/>\n",
       "</symbol>\n",
       "<symbol overflow=\"visible\" id=\"glyph1-2\">\n",
       "<path style=\"stroke:none;\" d=\"M 1.484375 -2.703125 C 1.484375 -2.398438 1.515625 -2.117188 1.578125 -1.859375 C 1.640625 -1.609375 1.734375 -1.390625 1.859375 -1.203125 C 1.992188 -1.015625 2.160156 -0.867188 2.359375 -0.765625 C 2.566406 -0.671875 2.816406 -0.625 3.109375 -0.625 C 3.523438 -0.625 3.859375 -0.707031 4.109375 -0.875 C 4.359375 -1.039062 4.53125 -1.253906 4.625 -1.515625 L 5.46875 -1.265625 C 5.40625 -1.109375 5.316406 -0.945312 5.203125 -0.78125 C 5.097656 -0.613281 4.953125 -0.460938 4.765625 -0.328125 C 4.585938 -0.203125 4.363281 -0.0976562 4.09375 -0.015625 C 3.820312 0.0664062 3.492188 0.109375 3.109375 0.109375 C 2.242188 0.109375 1.585938 -0.144531 1.140625 -0.65625 C 0.691406 -1.164062 0.46875 -1.925781 0.46875 -2.9375 C 0.46875 -3.488281 0.535156 -3.953125 0.671875 -4.328125 C 0.804688 -4.703125 0.988281 -5.007812 1.21875 -5.25 C 1.457031 -5.488281 1.734375 -5.660156 2.046875 -5.765625 C 2.367188 -5.867188 2.707031 -5.921875 3.0625 -5.921875 C 3.550781 -5.921875 3.957031 -5.84375 4.28125 -5.6875 C 4.613281 -5.53125 4.878906 -5.3125 5.078125 -5.03125 C 5.273438 -4.75 5.414062 -4.421875 5.5 -4.046875 C 5.582031 -3.671875 5.625 -3.265625 5.625 -2.828125 L 5.625 -2.703125 Z M 4.625 -3.4375 C 4.570312 -4.050781 4.414062 -4.5 4.15625 -4.78125 C 3.90625 -5.0625 3.535156 -5.203125 3.046875 -5.203125 C 2.890625 -5.203125 2.722656 -5.175781 2.546875 -5.125 C 2.367188 -5.070312 2.203125 -4.976562 2.046875 -4.84375 C 1.898438 -4.71875 1.773438 -4.539062 1.671875 -4.3125 C 1.566406 -4.082031 1.507812 -3.789062 1.5 -3.4375 Z M 4.625 -3.4375 \"/>\n",
       "</symbol>\n",
       "<symbol overflow=\"visible\" id=\"glyph1-3\">\n",
       "<path style=\"stroke:none;\" d=\"M 4.40625 -0.9375 C 4.226562 -0.5625 3.988281 -0.289062 3.6875 -0.125 C 3.394531 0.03125 3.03125 0.109375 2.59375 0.109375 C 1.863281 0.109375 1.328125 -0.132812 0.984375 -0.625 C 0.640625 -1.125 0.46875 -1.875 0.46875 -2.875 C 0.46875 -4.90625 1.175781 -5.921875 2.59375 -5.921875 C 3.039062 -5.921875 3.410156 -5.835938 3.703125 -5.671875 C 3.992188 -5.515625 4.226562 -5.257812 4.40625 -4.90625 L 4.421875 -4.90625 C 4.421875 -4.945312 4.421875 -5.003906 4.421875 -5.078125 C 4.421875 -5.148438 4.414062 -5.226562 4.40625 -5.3125 C 4.40625 -5.40625 4.40625 -5.488281 4.40625 -5.5625 C 4.40625 -5.632812 4.40625 -5.6875 4.40625 -5.71875 L 4.40625 -7.96875 L 5.375 -7.96875 L 5.375 -1.203125 C 5.375 -1.054688 5.375 -0.921875 5.375 -0.796875 C 5.375 -0.671875 5.375 -0.550781 5.375 -0.4375 C 5.382812 -0.332031 5.390625 -0.238281 5.390625 -0.15625 C 5.398438 -0.0820312 5.40625 -0.03125 5.40625 0 L 4.484375 0 C 4.472656 -0.03125 4.460938 -0.078125 4.453125 -0.140625 C 4.453125 -0.210938 4.445312 -0.289062 4.4375 -0.375 C 4.4375 -0.46875 4.4375 -0.5625 4.4375 -0.65625 C 4.4375 -0.75 4.4375 -0.84375 4.4375 -0.9375 Z M 1.484375 -2.90625 C 1.484375 -2.507812 1.503906 -2.164062 1.546875 -1.875 C 1.597656 -1.59375 1.675781 -1.359375 1.78125 -1.171875 C 1.894531 -0.984375 2.035156 -0.847656 2.203125 -0.765625 C 2.378906 -0.679688 2.59375 -0.640625 2.84375 -0.640625 C 3.101562 -0.640625 3.328125 -0.679688 3.515625 -0.765625 C 3.710938 -0.847656 3.875 -0.976562 4 -1.15625 C 4.132812 -1.34375 4.234375 -1.582031 4.296875 -1.875 C 4.367188 -2.175781 4.40625 -2.539062 4.40625 -2.96875 C 4.40625 -3.382812 4.367188 -3.734375 4.296875 -4.015625 C 4.234375 -4.304688 4.132812 -4.535156 4 -4.703125 C 3.875 -4.878906 3.710938 -5.003906 3.515625 -5.078125 C 3.328125 -5.160156 3.109375 -5.203125 2.859375 -5.203125 C 2.617188 -5.203125 2.410156 -5.160156 2.234375 -5.078125 C 2.066406 -4.992188 1.925781 -4.859375 1.8125 -4.671875 C 1.695312 -4.492188 1.613281 -4.257812 1.5625 -3.96875 C 1.507812 -3.675781 1.484375 -3.320312 1.484375 -2.90625 Z M 1.484375 -2.90625 \"/>\n",
       "</symbol>\n",
       "<symbol overflow=\"visible\" id=\"glyph1-4\">\n",
       "<path style=\"stroke:none;\" d=\"M 2.21875 0.109375 C 1.632812 0.109375 1.195312 -0.0390625 0.90625 -0.34375 C 0.613281 -0.65625 0.46875 -1.082031 0.46875 -1.625 C 0.46875 -2.007812 0.539062 -2.320312 0.6875 -2.5625 C 0.832031 -2.8125 1.019531 -3.003906 1.25 -3.140625 C 1.488281 -3.285156 1.757812 -3.382812 2.0625 -3.4375 C 2.363281 -3.488281 2.664062 -3.519531 2.96875 -3.53125 L 4.28125 -3.546875 L 4.28125 -3.859375 C 4.28125 -4.097656 4.253906 -4.300781 4.203125 -4.46875 C 4.148438 -4.644531 4.070312 -4.78125 3.96875 -4.875 C 3.863281 -4.976562 3.734375 -5.054688 3.578125 -5.109375 C 3.429688 -5.160156 3.25 -5.1875 3.03125 -5.1875 C 2.84375 -5.1875 2.671875 -5.171875 2.515625 -5.140625 C 2.367188 -5.117188 2.238281 -5.070312 2.125 -5 C 2.019531 -4.925781 1.929688 -4.828125 1.859375 -4.703125 C 1.796875 -4.585938 1.753906 -4.441406 1.734375 -4.265625 L 0.71875 -4.34375 C 0.757812 -4.570312 0.828125 -4.78125 0.921875 -4.96875 C 1.023438 -5.164062 1.171875 -5.332031 1.359375 -5.46875 C 1.546875 -5.613281 1.773438 -5.722656 2.046875 -5.796875 C 2.328125 -5.878906 2.664062 -5.921875 3.0625 -5.921875 C 3.789062 -5.921875 4.335938 -5.753906 4.703125 -5.421875 C 5.078125 -5.085938 5.265625 -4.601562 5.265625 -3.96875 L 5.265625 -1.46875 C 5.265625 -1.175781 5.300781 -0.957031 5.375 -0.8125 C 5.445312 -0.664062 5.585938 -0.59375 5.796875 -0.59375 C 5.847656 -0.59375 5.898438 -0.597656 5.953125 -0.609375 C 6.015625 -0.617188 6.070312 -0.628906 6.125 -0.640625 L 6.125 -0.03125 C 6 0 5.875 0.0195312 5.75 0.03125 C 5.632812 0.0390625 5.507812 0.046875 5.375 0.046875 C 5.1875 0.046875 5.023438 0.0234375 4.890625 -0.015625 C 4.765625 -0.0664062 4.660156 -0.140625 4.578125 -0.234375 C 4.492188 -0.335938 4.429688 -0.460938 4.390625 -0.609375 C 4.347656 -0.753906 4.320312 -0.921875 4.3125 -1.109375 L 4.28125 -1.109375 C 4.175781 -0.921875 4.0625 -0.75 3.9375 -0.59375 C 3.8125 -0.445312 3.664062 -0.320312 3.5 -0.21875 C 3.34375 -0.113281 3.15625 -0.0351562 2.9375 0.015625 C 2.726562 0.078125 2.488281 0.109375 2.21875 0.109375 Z M 2.4375 -0.625 C 2.75 -0.625 3.019531 -0.675781 3.25 -0.78125 C 3.476562 -0.894531 3.671875 -1.039062 3.828125 -1.21875 C 3.984375 -1.394531 4.097656 -1.585938 4.171875 -1.796875 C 4.242188 -2.003906 4.28125 -2.203125 4.28125 -2.390625 L 4.28125 -2.875 L 3.21875 -2.84375 C 2.988281 -2.84375 2.765625 -2.828125 2.546875 -2.796875 C 2.335938 -2.765625 2.148438 -2.703125 1.984375 -2.609375 C 1.828125 -2.523438 1.703125 -2.398438 1.609375 -2.234375 C 1.515625 -2.078125 1.46875 -1.867188 1.46875 -1.609375 C 1.46875 -1.296875 1.550781 -1.050781 1.71875 -0.875 C 1.882812 -0.707031 2.125 -0.625 2.4375 -0.625 Z M 2.4375 -0.625 \"/>\n",
       "</symbol>\n",
       "<symbol overflow=\"visible\" id=\"glyph1-5\">\n",
       "<path style=\"stroke:none;\" d=\"M 0.734375 0 L 0.734375 -7.96875 L 1.703125 -7.96875 L 1.703125 0 Z M 0.734375 0 \"/>\n",
       "</symbol>\n",
       "<symbol overflow=\"visible\" id=\"glyph1-6\">\n",
       "<path style=\"stroke:none;\" d=\"M 6.828125 -2.09375 C 6.828125 -1.769531 6.765625 -1.472656 6.640625 -1.203125 C 6.523438 -0.941406 6.335938 -0.710938 6.078125 -0.515625 C 5.816406 -0.316406 5.488281 -0.160156 5.09375 -0.046875 C 4.707031 0.0546875 4.242188 0.109375 3.703125 0.109375 C 2.765625 0.109375 2.03125 -0.0507812 1.5 -0.375 C 0.976562 -0.707031 0.644531 -1.1875 0.5 -1.8125 L 1.5 -2.015625 C 1.539062 -1.816406 1.613281 -1.632812 1.71875 -1.46875 C 1.820312 -1.3125 1.960938 -1.175781 2.140625 -1.0625 C 2.316406 -0.945312 2.535156 -0.851562 2.796875 -0.78125 C 3.066406 -0.71875 3.382812 -0.6875 3.75 -0.6875 C 4.050781 -0.6875 4.328125 -0.710938 4.578125 -0.765625 C 4.835938 -0.816406 5.054688 -0.894531 5.234375 -1 C 5.421875 -1.113281 5.5625 -1.253906 5.65625 -1.421875 C 5.757812 -1.597656 5.8125 -1.800781 5.8125 -2.03125 C 5.8125 -2.28125 5.753906 -2.484375 5.640625 -2.640625 C 5.535156 -2.796875 5.378906 -2.921875 5.171875 -3.015625 C 4.960938 -3.117188 4.71875 -3.203125 4.4375 -3.265625 C 4.15625 -3.335938 3.84375 -3.410156 3.5 -3.484375 C 3.289062 -3.535156 3.078125 -3.585938 2.859375 -3.640625 C 2.648438 -3.703125 2.445312 -3.769531 2.25 -3.84375 C 2.050781 -3.914062 1.863281 -4.003906 1.6875 -4.109375 C 1.519531 -4.210938 1.375 -4.335938 1.25 -4.484375 C 1.125 -4.628906 1.023438 -4.796875 0.953125 -4.984375 C 0.890625 -5.179688 0.859375 -5.40625 0.859375 -5.65625 C 0.859375 -6.007812 0.929688 -6.316406 1.078125 -6.578125 C 1.222656 -6.835938 1.421875 -7.046875 1.671875 -7.203125 C 1.929688 -7.367188 2.234375 -7.488281 2.578125 -7.5625 C 2.929688 -7.644531 3.316406 -7.6875 3.734375 -7.6875 C 4.203125 -7.6875 4.601562 -7.644531 4.9375 -7.5625 C 5.269531 -7.488281 5.550781 -7.378906 5.78125 -7.234375 C 6.007812 -7.085938 6.191406 -6.90625 6.328125 -6.6875 C 6.460938 -6.476562 6.570312 -6.226562 6.65625 -5.9375 L 5.640625 -5.765625 C 5.585938 -5.941406 5.515625 -6.101562 5.421875 -6.25 C 5.328125 -6.394531 5.203125 -6.515625 5.046875 -6.609375 C 4.898438 -6.703125 4.710938 -6.773438 4.484375 -6.828125 C 4.265625 -6.878906 4.007812 -6.90625 3.71875 -6.90625 C 3.363281 -6.90625 3.066406 -6.875 2.828125 -6.8125 C 2.585938 -6.75 2.394531 -6.660156 2.25 -6.546875 C 2.113281 -6.441406 2.015625 -6.316406 1.953125 -6.171875 C 1.890625 -6.035156 1.859375 -5.878906 1.859375 -5.703125 C 1.859375 -5.484375 1.910156 -5.300781 2.015625 -5.15625 C 2.128906 -5.007812 2.28125 -4.882812 2.46875 -4.78125 C 2.664062 -4.6875 2.890625 -4.609375 3.140625 -4.546875 C 3.398438 -4.484375 3.675781 -4.421875 3.96875 -4.359375 C 4.195312 -4.304688 4.425781 -4.25 4.65625 -4.1875 C 4.882812 -4.132812 5.101562 -4.066406 5.3125 -3.984375 C 5.53125 -3.910156 5.726562 -3.820312 5.90625 -3.71875 C 6.09375 -3.613281 6.253906 -3.484375 6.390625 -3.328125 C 6.523438 -3.179688 6.628906 -3.003906 6.703125 -2.796875 C 6.785156 -2.597656 6.828125 -2.363281 6.828125 -2.09375 Z M 6.828125 -2.09375 \"/>\n",
       "</symbol>\n",
       "<symbol overflow=\"visible\" id=\"glyph1-7\">\n",
       "<path style=\"stroke:none;\" d=\"M 4.296875 0 L 2.734375 -2.390625 L 1.171875 0 L 0.125 0 L 2.1875 -2.984375 L 0.21875 -5.8125 L 1.296875 -5.8125 L 2.734375 -3.546875 L 4.171875 -5.8125 L 5.265625 -5.8125 L 3.28125 -3 L 5.375 0 Z M 4.296875 0 \"/>\n",
       "</symbol>\n",
       "<symbol overflow=\"visible\" id=\"glyph2-0\">\n",
       "<path style=\"stroke:none;\" d=\"M 0 -0.359375 L -7.328125 -0.359375 L -7.328125 -3.28125 L 0 -3.28125 Z M -0.359375 -0.734375 L -0.359375 -2.921875 L -6.96875 -2.921875 L -6.96875 -0.734375 Z M -0.359375 -0.734375 \"/>\n",
       "</symbol>\n",
       "<symbol overflow=\"visible\" id=\"glyph2-1\">\n",
       "<path style=\"stroke:none;\" d=\"M -2.9375 -1.484375 C -2.601562 -1.484375 -2.296875 -1.503906 -2.015625 -1.546875 C -1.734375 -1.597656 -1.488281 -1.679688 -1.28125 -1.796875 C -1.082031 -1.910156 -0.925781 -2.0625 -0.8125 -2.25 C -0.707031 -2.4375 -0.65625 -2.664062 -0.65625 -2.9375 C -0.65625 -3.28125 -0.75 -3.566406 -0.9375 -3.796875 C -1.125 -4.035156 -1.410156 -4.179688 -1.796875 -4.234375 L -1.734375 -5.203125 C -1.492188 -5.171875 -1.257812 -5.101562 -1.03125 -5 C -0.8125 -4.894531 -0.617188 -4.75 -0.453125 -4.5625 C -0.285156 -4.375 -0.148438 -4.144531 -0.046875 -3.875 C 0.0546875 -3.613281 0.109375 -3.3125 0.109375 -2.96875 C 0.109375 -2.507812 0.03125 -2.117188 -0.125 -1.796875 C -0.28125 -1.484375 -0.492188 -1.226562 -0.765625 -1.03125 C -1.035156 -0.832031 -1.351562 -0.6875 -1.71875 -0.59375 C -2.082031 -0.507812 -2.476562 -0.46875 -2.90625 -0.46875 C -3.300781 -0.46875 -3.644531 -0.5 -3.9375 -0.5625 C -4.238281 -0.625 -4.5 -0.710938 -4.71875 -0.828125 C -4.945312 -0.953125 -5.132812 -1.09375 -5.28125 -1.25 C -5.4375 -1.40625 -5.5625 -1.570312 -5.65625 -1.75 C -5.75 -1.9375 -5.816406 -2.128906 -5.859375 -2.328125 C -5.898438 -2.535156 -5.921875 -2.742188 -5.921875 -2.953125 C -5.921875 -3.285156 -5.875 -3.578125 -5.78125 -3.828125 C -5.695312 -4.085938 -5.578125 -4.304688 -5.421875 -4.484375 C -5.265625 -4.671875 -5.078125 -4.820312 -4.859375 -4.9375 C -4.648438 -5.050781 -4.425781 -5.128906 -4.1875 -5.171875 L -4.109375 -4.1875 C -4.429688 -4.132812 -4.6875 -4.003906 -4.875 -3.796875 C -5.0625 -3.597656 -5.15625 -3.3125 -5.15625 -2.9375 C -5.15625 -2.65625 -5.109375 -2.421875 -5.015625 -2.234375 C -4.929688 -2.054688 -4.796875 -1.910156 -4.609375 -1.796875 C -4.421875 -1.679688 -4.1875 -1.597656 -3.90625 -1.546875 C -3.632812 -1.503906 -3.3125 -1.484375 -2.9375 -1.484375 Z M -2.9375 -1.484375 \"/>\n",
       "</symbol>\n",
       "<symbol overflow=\"visible\" id=\"glyph2-2\">\n",
       "<path style=\"stroke:none;\" d=\"M -2.90625 -5.65625 C -1.894531 -5.65625 -1.140625 -5.429688 -0.640625 -4.984375 C -0.140625 -4.535156 0.109375 -3.882812 0.109375 -3.03125 C 0.109375 -2.625 0.046875 -2.257812 -0.078125 -1.9375 C -0.203125 -1.625 -0.390625 -1.359375 -0.640625 -1.140625 C -0.890625 -0.921875 -1.203125 -0.753906 -1.578125 -0.640625 C -1.953125 -0.523438 -2.394531 -0.46875 -2.90625 -0.46875 C -4.914062 -0.46875 -5.921875 -1.332031 -5.921875 -3.0625 C -5.921875 -3.519531 -5.859375 -3.910156 -5.734375 -4.234375 C -5.609375 -4.566406 -5.421875 -4.835938 -5.171875 -5.046875 C -4.921875 -5.253906 -4.601562 -5.40625 -4.21875 -5.5 C -3.84375 -5.601562 -3.40625 -5.65625 -2.90625 -5.65625 Z M -2.90625 -4.640625 C -3.363281 -4.640625 -3.738281 -4.601562 -4.03125 -4.53125 C -4.320312 -4.46875 -4.554688 -4.367188 -4.734375 -4.234375 C -4.910156 -4.097656 -5.03125 -3.929688 -5.09375 -3.734375 C -5.164062 -3.546875 -5.203125 -3.328125 -5.203125 -3.078125 C -5.203125 -2.835938 -5.164062 -2.613281 -5.09375 -2.40625 C -5.019531 -2.207031 -4.894531 -2.039062 -4.71875 -1.90625 C -4.539062 -1.769531 -4.304688 -1.664062 -4.015625 -1.59375 C -3.722656 -1.519531 -3.351562 -1.484375 -2.90625 -1.484375 C -2.457031 -1.484375 -2.082031 -1.519531 -1.78125 -1.59375 C -1.488281 -1.675781 -1.253906 -1.785156 -1.078125 -1.921875 C -0.910156 -2.054688 -0.789062 -2.21875 -0.71875 -2.40625 C -0.644531 -2.59375 -0.609375 -2.800781 -0.609375 -3.03125 C -0.609375 -3.269531 -0.640625 -3.488281 -0.703125 -3.6875 C -0.773438 -3.894531 -0.898438 -4.066406 -1.078125 -4.203125 C -1.253906 -4.347656 -1.488281 -4.457031 -1.78125 -4.53125 C -2.082031 -4.601562 -2.457031 -4.640625 -2.90625 -4.640625 Z M -2.90625 -4.640625 \"/>\n",
       "</symbol>\n",
       "<symbol overflow=\"visible\" id=\"glyph2-3\">\n",
       "<path style=\"stroke:none;\" d=\"M -5.8125 -1.6875 L -2.125 -1.6875 C -1.84375 -1.6875 -1.609375 -1.707031 -1.421875 -1.75 C -1.234375 -1.789062 -1.078125 -1.859375 -0.953125 -1.953125 C -0.835938 -2.046875 -0.753906 -2.164062 -0.703125 -2.3125 C -0.660156 -2.46875 -0.640625 -2.660156 -0.640625 -2.890625 C -0.640625 -3.117188 -0.675781 -3.320312 -0.75 -3.5 C -0.832031 -3.6875 -0.953125 -3.84375 -1.109375 -3.96875 C -1.265625 -4.101562 -1.453125 -4.207031 -1.671875 -4.28125 C -1.898438 -4.351562 -2.15625 -4.390625 -2.4375 -4.390625 L -5.8125 -4.390625 L -5.8125 -5.359375 L -1.234375 -5.359375 C -1.117188 -5.359375 -0.992188 -5.359375 -0.859375 -5.359375 C -0.722656 -5.359375 -0.59375 -5.359375 -0.46875 -5.359375 C -0.351562 -5.367188 -0.25 -5.375 -0.15625 -5.375 C -0.0703125 -5.375 -0.0195312 -5.378906 0 -5.390625 L 0 -4.46875 C -0.0195312 -4.46875 -0.0664062 -4.460938 -0.140625 -4.453125 C -0.222656 -4.453125 -0.3125 -4.445312 -0.40625 -4.4375 C -0.507812 -4.4375 -0.613281 -4.4375 -0.71875 -4.4375 C -0.832031 -4.4375 -0.925781 -4.4375 -1 -4.4375 L -1 -4.421875 C -0.820312 -4.328125 -0.664062 -4.222656 -0.53125 -4.109375 C -0.394531 -3.992188 -0.28125 -3.863281 -0.1875 -3.71875 C -0.09375 -3.570312 -0.0195312 -3.40625 0.03125 -3.21875 C 0.0820312 -3.03125 0.109375 -2.8125 0.109375 -2.5625 C 0.109375 -2.238281 0.0703125 -1.957031 0 -1.71875 C -0.0820312 -1.488281 -0.207031 -1.296875 -0.375 -1.140625 C -0.539062 -0.992188 -0.75 -0.882812 -1 -0.8125 C -1.257812 -0.75 -1.570312 -0.71875 -1.9375 -0.71875 L -5.8125 -0.71875 Z M -5.8125 -1.6875 \"/>\n",
       "</symbol>\n",
       "<symbol overflow=\"visible\" id=\"glyph2-4\">\n",
       "<path style=\"stroke:none;\" d=\"M 0 -4.4375 L -3.6875 -4.4375 C -3.96875 -4.4375 -4.203125 -4.414062 -4.390625 -4.375 C -4.578125 -4.332031 -4.726562 -4.265625 -4.84375 -4.171875 C -4.96875 -4.078125 -5.050781 -3.953125 -5.09375 -3.796875 C -5.144531 -3.648438 -5.171875 -3.460938 -5.171875 -3.234375 C -5.171875 -3.003906 -5.128906 -2.796875 -5.046875 -2.609375 C -4.972656 -2.429688 -4.859375 -2.273438 -4.703125 -2.140625 C -4.546875 -2.003906 -4.351562 -1.898438 -4.125 -1.828125 C -3.90625 -1.765625 -3.65625 -1.734375 -3.375 -1.734375 L 0 -1.734375 L 0 -0.765625 L -4.578125 -0.765625 C -4.691406 -0.765625 -4.816406 -0.757812 -4.953125 -0.75 C -5.085938 -0.75 -5.210938 -0.75 -5.328125 -0.75 C -5.453125 -0.75 -5.554688 -0.742188 -5.640625 -0.734375 C -5.734375 -0.734375 -5.789062 -0.734375 -5.8125 -0.734375 L -5.8125 -1.640625 C -5.789062 -1.648438 -5.738281 -1.65625 -5.65625 -1.65625 C -5.582031 -1.65625 -5.492188 -1.65625 -5.390625 -1.65625 C -5.296875 -1.664062 -5.191406 -1.671875 -5.078125 -1.671875 C -4.972656 -1.679688 -4.882812 -1.6875 -4.8125 -1.6875 L -4.8125 -1.703125 C -4.988281 -1.796875 -5.144531 -1.894531 -5.28125 -2 C -5.414062 -2.113281 -5.53125 -2.242188 -5.625 -2.390625 C -5.71875 -2.535156 -5.789062 -2.703125 -5.84375 -2.890625 C -5.894531 -3.085938 -5.921875 -3.3125 -5.921875 -3.5625 C -5.921875 -3.882812 -5.878906 -4.160156 -5.796875 -4.390625 C -5.722656 -4.628906 -5.601562 -4.820312 -5.4375 -4.96875 C -5.269531 -5.113281 -5.054688 -5.222656 -4.796875 -5.296875 C -4.535156 -5.367188 -4.226562 -5.40625 -3.875 -5.40625 L 0 -5.40625 Z M 0 -4.4375 \"/>\n",
       "</symbol>\n",
       "<symbol overflow=\"visible\" id=\"glyph2-5\">\n",
       "<path style=\"stroke:none;\" d=\"M -0.046875 -2.96875 C -0.00390625 -2.820312 0.0234375 -2.671875 0.046875 -2.515625 C 0.078125 -2.367188 0.09375 -2.195312 0.09375 -2 C 0.09375 -1.226562 -0.347656 -0.84375 -1.234375 -0.84375 L -5.109375 -0.84375 L -5.109375 -0.171875 L -5.8125 -0.171875 L -5.8125 -0.875 L -7.109375 -1.15625 L -7.109375 -1.8125 L -5.8125 -1.8125 L -5.8125 -2.875 L -5.109375 -2.875 L -5.109375 -1.8125 L -1.4375 -1.8125 C -1.15625 -1.8125 -0.957031 -1.851562 -0.84375 -1.9375 C -0.738281 -2.03125 -0.6875 -2.191406 -0.6875 -2.421875 C -0.6875 -2.515625 -0.691406 -2.601562 -0.703125 -2.6875 C -0.710938 -2.769531 -0.726562 -2.863281 -0.75 -2.96875 Z M -0.046875 -2.96875 \"/>\n",
       "</symbol>\n",
       "</g>\n",
       "<clipPath id=\"clip1\">\n",
       "  <path d=\"M 38.152344 5.480469 L 446.84375 5.480469 L 446.84375 471.851562 L 38.152344 471.851562 Z M 38.152344 5.480469 \"/>\n",
       "</clipPath>\n",
       "<clipPath id=\"clip2\">\n",
       "  <path d=\"M 38.152344 387 L 446.84375 387 L 446.84375 388 L 38.152344 388 Z M 38.152344 387 \"/>\n",
       "</clipPath>\n",
       "<clipPath id=\"clip3\">\n",
       "  <path d=\"M 38.152344 261 L 446.84375 261 L 446.84375 262 L 38.152344 262 Z M 38.152344 261 \"/>\n",
       "</clipPath>\n",
       "<clipPath id=\"clip4\">\n",
       "  <path d=\"M 38.152344 134 L 446.84375 134 L 446.84375 136 L 38.152344 136 Z M 38.152344 134 \"/>\n",
       "</clipPath>\n",
       "<clipPath id=\"clip5\">\n",
       "  <path d=\"M 38.152344 8 L 446.84375 8 L 446.84375 10 L 38.152344 10 Z M 38.152344 8 \"/>\n",
       "</clipPath>\n",
       "<clipPath id=\"clip6\">\n",
       "  <path d=\"M 38.152344 450 L 446.84375 450 L 446.84375 452 L 38.152344 452 Z M 38.152344 450 \"/>\n",
       "</clipPath>\n",
       "<clipPath id=\"clip7\">\n",
       "  <path d=\"M 38.152344 323 L 446.84375 323 L 446.84375 326 L 38.152344 326 Z M 38.152344 323 \"/>\n",
       "</clipPath>\n",
       "<clipPath id=\"clip8\">\n",
       "  <path d=\"M 38.152344 197 L 446.84375 197 L 446.84375 199 L 38.152344 199 Z M 38.152344 197 \"/>\n",
       "</clipPath>\n",
       "<clipPath id=\"clip9\">\n",
       "  <path d=\"M 38.152344 71 L 446.84375 71 L 446.84375 73 L 38.152344 73 Z M 38.152344 71 \"/>\n",
       "</clipPath>\n",
       "<clipPath id=\"clip10\">\n",
       "  <path d=\"M 96 5.480469 L 98 5.480469 L 98 471.851562 L 96 471.851562 Z M 96 5.480469 \"/>\n",
       "</clipPath>\n",
       "<clipPath id=\"clip11\">\n",
       "  <path d=\"M 193 5.480469 L 195 5.480469 L 195 471.851562 L 193 471.851562 Z M 193 5.480469 \"/>\n",
       "</clipPath>\n",
       "<clipPath id=\"clip12\">\n",
       "  <path d=\"M 290 5.480469 L 292 5.480469 L 292 471.851562 L 290 471.851562 Z M 290 5.480469 \"/>\n",
       "</clipPath>\n",
       "<clipPath id=\"clip13\">\n",
       "  <path d=\"M 387 5.480469 L 389 5.480469 L 389 471.851562 L 387 471.851562 Z M 387 5.480469 \"/>\n",
       "</clipPath>\n",
       "</defs>\n",
       "<g id=\"surface349\">\n",
       "<rect x=\"0\" y=\"0\" width=\"504\" height=\"504\" style=\"fill:rgb(100%,100%,100%);fill-opacity:1;stroke:none;\"/>\n",
       "<rect x=\"0\" y=\"0\" width=\"504\" height=\"504\" style=\"fill:rgb(100%,100%,100%);fill-opacity:1;stroke:none;\"/>\n",
       "<path style=\"fill:none;stroke-width:1.066978;stroke-linecap:round;stroke-linejoin:round;stroke:rgb(100%,100%,100%);stroke-opacity:1;stroke-miterlimit:10;\" d=\"M 0 504 L 504 504 L 504 0 L 0 0 Z M 0 504 \"/>\n",
       "<g clip-path=\"url(#clip1)\" clip-rule=\"nonzero\">\n",
       "<path style=\" stroke:none;fill-rule:nonzero;fill:rgb(92.156863%,92.156863%,92.156863%);fill-opacity:1;\" d=\"M 38.152344 471.847656 L 446.84375 471.847656 L 446.84375 5.476562 L 38.152344 5.476562 Z M 38.152344 471.847656 \"/>\n",
       "</g>\n",
       "<g clip-path=\"url(#clip2)\" clip-rule=\"nonzero\">\n",
       "<path style=\"fill:none;stroke-width:0.533489;stroke-linecap:butt;stroke-linejoin:round;stroke:rgb(100%,100%,100%);stroke-opacity:1;stroke-miterlimit:10;\" d=\"M 38.152344 387.558594 L 446.84375 387.558594 \"/>\n",
       "</g>\n",
       "<g clip-path=\"url(#clip3)\" clip-rule=\"nonzero\">\n",
       "<path style=\"fill:none;stroke-width:0.533489;stroke-linecap:butt;stroke-linejoin:round;stroke:rgb(100%,100%,100%);stroke-opacity:1;stroke-miterlimit:10;\" d=\"M 38.152344 261.378906 L 446.84375 261.378906 \"/>\n",
       "</g>\n",
       "<g clip-path=\"url(#clip4)\" clip-rule=\"nonzero\">\n",
       "<path style=\"fill:none;stroke-width:0.533489;stroke-linecap:butt;stroke-linejoin:round;stroke:rgb(100%,100%,100%);stroke-opacity:1;stroke-miterlimit:10;\" d=\"M 38.152344 135.195312 L 446.84375 135.195312 \"/>\n",
       "</g>\n",
       "<g clip-path=\"url(#clip5)\" clip-rule=\"nonzero\">\n",
       "<path style=\"fill:none;stroke-width:0.533489;stroke-linecap:butt;stroke-linejoin:round;stroke:rgb(100%,100%,100%);stroke-opacity:1;stroke-miterlimit:10;\" d=\"M 38.152344 9.011719 L 446.84375 9.011719 \"/>\n",
       "</g>\n",
       "<g clip-path=\"url(#clip6)\" clip-rule=\"nonzero\">\n",
       "<path style=\"fill:none;stroke-width:1.066978;stroke-linecap:butt;stroke-linejoin:round;stroke:rgb(100%,100%,100%);stroke-opacity:1;stroke-miterlimit:10;\" d=\"M 38.152344 450.652344 L 446.84375 450.652344 \"/>\n",
       "</g>\n",
       "<g clip-path=\"url(#clip7)\" clip-rule=\"nonzero\">\n",
       "<path style=\"fill:none;stroke-width:1.066978;stroke-linecap:butt;stroke-linejoin:round;stroke:rgb(100%,100%,100%);stroke-opacity:1;stroke-miterlimit:10;\" d=\"M 38.152344 324.46875 L 446.84375 324.46875 \"/>\n",
       "</g>\n",
       "<g clip-path=\"url(#clip8)\" clip-rule=\"nonzero\">\n",
       "<path style=\"fill:none;stroke-width:1.066978;stroke-linecap:butt;stroke-linejoin:round;stroke:rgb(100%,100%,100%);stroke-opacity:1;stroke-miterlimit:10;\" d=\"M 38.152344 198.285156 L 446.84375 198.285156 \"/>\n",
       "</g>\n",
       "<g clip-path=\"url(#clip9)\" clip-rule=\"nonzero\">\n",
       "<path style=\"fill:none;stroke-width:1.066978;stroke-linecap:butt;stroke-linejoin:round;stroke:rgb(100%,100%,100%);stroke-opacity:1;stroke-miterlimit:10;\" d=\"M 38.152344 72.105469 L 446.84375 72.105469 \"/>\n",
       "</g>\n",
       "<g clip-path=\"url(#clip10)\" clip-rule=\"nonzero\">\n",
       "<path style=\"fill:none;stroke-width:1.066978;stroke-linecap:butt;stroke-linejoin:round;stroke:rgb(100%,100%,100%);stroke-opacity:1;stroke-miterlimit:10;\" d=\"M 96.535156 471.847656 L 96.535156 5.480469 \"/>\n",
       "</g>\n",
       "<g clip-path=\"url(#clip11)\" clip-rule=\"nonzero\">\n",
       "<path style=\"fill:none;stroke-width:1.066978;stroke-linecap:butt;stroke-linejoin:round;stroke:rgb(100%,100%,100%);stroke-opacity:1;stroke-miterlimit:10;\" d=\"M 193.84375 471.847656 L 193.84375 5.480469 \"/>\n",
       "</g>\n",
       "<g clip-path=\"url(#clip12)\" clip-rule=\"nonzero\">\n",
       "<path style=\"fill:none;stroke-width:1.066978;stroke-linecap:butt;stroke-linejoin:round;stroke:rgb(100%,100%,100%);stroke-opacity:1;stroke-miterlimit:10;\" d=\"M 291.152344 471.847656 L 291.152344 5.480469 \"/>\n",
       "</g>\n",
       "<g clip-path=\"url(#clip13)\" clip-rule=\"nonzero\">\n",
       "<path style=\"fill:none;stroke-width:1.066978;stroke-linecap:butt;stroke-linejoin:round;stroke:rgb(100%,100%,100%);stroke-opacity:1;stroke-miterlimit:10;\" d=\"M 388.457031 471.847656 L 388.457031 5.480469 \"/>\n",
       "</g>\n",
       "<path style=\" stroke:none;fill-rule:nonzero;fill:rgb(97.254902%,46.27451%,42.745098%);fill-opacity:1;\" d=\"M 52.746094 448.128906 L 140.324219 448.128906 L 140.324219 445.605469 L 52.746094 445.605469 Z M 52.746094 448.128906 \"/>\n",
       "<path style=\" stroke:none;fill-rule:nonzero;fill:rgb(0%,74.901961%,76.862745%);fill-opacity:1;\" d=\"M 52.746094 450.652344 L 140.324219 450.652344 L 140.324219 448.128906 L 52.746094 448.128906 Z M 52.746094 450.652344 \"/>\n",
       "<path style=\" stroke:none;fill-rule:nonzero;fill:rgb(97.254902%,46.27451%,42.745098%);fill-opacity:1;\" d=\"M 150.054688 448.128906 L 237.632812 448.128906 L 237.632812 444.34375 L 150.054688 444.34375 Z M 150.054688 448.128906 \"/>\n",
       "<path style=\" stroke:none;fill-rule:nonzero;fill:rgb(0%,74.901961%,76.862745%);fill-opacity:1;\" d=\"M 150.054688 450.652344 L 237.632812 450.652344 L 237.632812 448.128906 L 150.054688 448.128906 Z M 150.054688 450.652344 \"/>\n",
       "<path style=\" stroke:none;fill-rule:nonzero;fill:rgb(97.254902%,46.27451%,42.745098%);fill-opacity:1;\" d=\"M 247.363281 446.863281 L 334.941406 446.863281 L 334.941406 444.339844 L 247.363281 444.339844 Z M 247.363281 446.863281 \"/>\n",
       "<path style=\" stroke:none;fill-rule:nonzero;fill:rgb(0%,74.901961%,76.862745%);fill-opacity:1;\" d=\"M 247.363281 450.652344 L 334.941406 450.652344 L 334.941406 446.867188 L 247.363281 446.867188 Z M 247.363281 450.652344 \"/>\n",
       "<path style=\" stroke:none;fill-rule:nonzero;fill:rgb(97.254902%,46.27451%,42.745098%);fill-opacity:1;\" d=\"M 344.671875 194.5 L 432.25 194.5 L 432.25 26.675781 L 344.671875 26.675781 Z M 344.671875 194.5 \"/>\n",
       "<path style=\" stroke:none;fill-rule:nonzero;fill:rgb(0%,74.901961%,76.862745%);fill-opacity:1;\" d=\"M 344.671875 450.652344 L 432.25 450.652344 L 432.25 194.503906 L 344.671875 194.503906 Z M 344.671875 450.652344 \"/>\n",
       "<g style=\"fill:rgb(30.196078%,30.196078%,30.196078%);fill-opacity:1;\">\n",
       "  <use xlink:href=\"#glyph0-1\" x=\"28.21875\" y=\"454.118164\"/>\n",
       "</g>\n",
       "<g style=\"fill:rgb(30.196078%,30.196078%,30.196078%);fill-opacity:1;\">\n",
       "  <use xlink:href=\"#glyph0-2\" x=\"18.21875\" y=\"327.93457\"/>\n",
       "  <use xlink:href=\"#glyph0-1\" x=\"23.21875\" y=\"327.93457\"/>\n",
       "  <use xlink:href=\"#glyph0-1\" x=\"28.21875\" y=\"327.93457\"/>\n",
       "</g>\n",
       "<g style=\"fill:rgb(30.196078%,30.196078%,30.196078%);fill-opacity:1;\">\n",
       "  <use xlink:href=\"#glyph0-3\" x=\"18.21875\" y=\"201.750977\"/>\n",
       "  <use xlink:href=\"#glyph0-1\" x=\"23.21875\" y=\"201.750977\"/>\n",
       "  <use xlink:href=\"#glyph0-1\" x=\"28.21875\" y=\"201.750977\"/>\n",
       "</g>\n",
       "<g style=\"fill:rgb(30.196078%,30.196078%,30.196078%);fill-opacity:1;\">\n",
       "  <use xlink:href=\"#glyph0-4\" x=\"18.21875\" y=\"75.571289\"/>\n",
       "  <use xlink:href=\"#glyph0-1\" x=\"23.21875\" y=\"75.571289\"/>\n",
       "  <use xlink:href=\"#glyph0-1\" x=\"28.21875\" y=\"75.571289\"/>\n",
       "</g>\n",
       "<path style=\"fill:none;stroke-width:1.066978;stroke-linecap:butt;stroke-linejoin:round;stroke:rgb(20%,20%,20%);stroke-opacity:1;stroke-miterlimit:10;\" d=\"M 35.410156 450.652344 L 38.152344 450.652344 \"/>\n",
       "<path style=\"fill:none;stroke-width:1.066978;stroke-linecap:butt;stroke-linejoin:round;stroke:rgb(20%,20%,20%);stroke-opacity:1;stroke-miterlimit:10;\" d=\"M 35.410156 324.46875 L 38.152344 324.46875 \"/>\n",
       "<path style=\"fill:none;stroke-width:1.066978;stroke-linecap:butt;stroke-linejoin:round;stroke:rgb(20%,20%,20%);stroke-opacity:1;stroke-miterlimit:10;\" d=\"M 35.410156 198.285156 L 38.152344 198.285156 \"/>\n",
       "<path style=\"fill:none;stroke-width:1.066978;stroke-linecap:butt;stroke-linejoin:round;stroke:rgb(20%,20%,20%);stroke-opacity:1;stroke-miterlimit:10;\" d=\"M 35.410156 72.105469 L 38.152344 72.105469 \"/>\n",
       "<path style=\"fill:none;stroke-width:1.066978;stroke-linecap:butt;stroke-linejoin:round;stroke:rgb(20%,20%,20%);stroke-opacity:1;stroke-miterlimit:10;\" d=\"M 96.535156 474.589844 L 96.535156 471.847656 \"/>\n",
       "<path style=\"fill:none;stroke-width:1.066978;stroke-linecap:butt;stroke-linejoin:round;stroke:rgb(20%,20%,20%);stroke-opacity:1;stroke-miterlimit:10;\" d=\"M 193.84375 474.589844 L 193.84375 471.847656 \"/>\n",
       "<path style=\"fill:none;stroke-width:1.066978;stroke-linecap:butt;stroke-linejoin:round;stroke:rgb(20%,20%,20%);stroke-opacity:1;stroke-miterlimit:10;\" d=\"M 291.152344 474.589844 L 291.152344 471.847656 \"/>\n",
       "<path style=\"fill:none;stroke-width:1.066978;stroke-linecap:butt;stroke-linejoin:round;stroke:rgb(20%,20%,20%);stroke-opacity:1;stroke-miterlimit:10;\" d=\"M 388.457031 474.589844 L 388.457031 471.847656 \"/>\n",
       "<g style=\"fill:rgb(30.196078%,30.196078%,30.196078%);fill-opacity:1;\">\n",
       "  <use xlink:href=\"#glyph0-5\" x=\"82.535156\" y=\"483.74707\"/>\n",
       "  <use xlink:href=\"#glyph0-6\" x=\"88.535156\" y=\"483.74707\"/>\n",
       "  <use xlink:href=\"#glyph0-7\" x=\"91.535156\" y=\"483.74707\"/>\n",
       "  <use xlink:href=\"#glyph0-8\" x=\"96.535156\" y=\"483.74707\"/>\n",
       "  <use xlink:href=\"#glyph0-9\" x=\"101.535156\" y=\"483.74707\"/>\n",
       "  <use xlink:href=\"#glyph0-10\" x=\"105.535156\" y=\"483.74707\"/>\n",
       "</g>\n",
       "<g style=\"fill:rgb(30.196078%,30.196078%,30.196078%);fill-opacity:1;\">\n",
       "  <use xlink:href=\"#glyph0-11\" x=\"184.34375\" y=\"483.74707\"/>\n",
       "  <use xlink:href=\"#glyph0-7\" x=\"191.34375\" y=\"483.74707\"/>\n",
       "  <use xlink:href=\"#glyph0-12\" x=\"196.34375\" y=\"483.74707\"/>\n",
       "  <use xlink:href=\"#glyph0-13\" x=\"198.34375\" y=\"483.74707\"/>\n",
       "</g>\n",
       "<g style=\"fill:rgb(30.196078%,30.196078%,30.196078%);fill-opacity:1;\">\n",
       "  <use xlink:href=\"#glyph0-14\" x=\"280.152344\" y=\"483.74707\"/>\n",
       "  <use xlink:href=\"#glyph0-15\" x=\"286.152344\" y=\"483.74707\"/>\n",
       "  <use xlink:href=\"#glyph0-12\" x=\"288.152344\" y=\"483.74707\"/>\n",
       "  <use xlink:href=\"#glyph0-16\" x=\"290.152344\" y=\"483.74707\"/>\n",
       "  <use xlink:href=\"#glyph0-10\" x=\"294.152344\" y=\"483.74707\"/>\n",
       "  <use xlink:href=\"#glyph0-6\" x=\"299.152344\" y=\"483.74707\"/>\n",
       "</g>\n",
       "<g style=\"fill:rgb(30.196078%,30.196078%,30.196078%);fill-opacity:1;\">\n",
       "  <use xlink:href=\"#glyph0-17\" x=\"382.457031\" y=\"483.74707\"/>\n",
       "  <use xlink:href=\"#glyph0-18\" x=\"388.457031\" y=\"483.74707\"/>\n",
       "</g>\n",
       "<g style=\"fill:rgb(0%,0%,0%);fill-opacity:1;\">\n",
       "  <use xlink:href=\"#glyph1-1\" x=\"227.996094\" y=\"496.477539\"/>\n",
       "  <use xlink:href=\"#glyph1-2\" x=\"236.996094\" y=\"496.477539\"/>\n",
       "  <use xlink:href=\"#glyph1-3\" x=\"242.996094\" y=\"496.477539\"/>\n",
       "  <use xlink:href=\"#glyph1-4\" x=\"248.996094\" y=\"496.477539\"/>\n",
       "  <use xlink:href=\"#glyph1-5\" x=\"254.996094\" y=\"496.477539\"/>\n",
       "</g>\n",
       "<g style=\"fill:rgb(0%,0%,0%);fill-opacity:1;\">\n",
       "  <use xlink:href=\"#glyph2-1\" x=\"13.438477\" y=\"252.164062\"/>\n",
       "  <use xlink:href=\"#glyph2-2\" x=\"13.438477\" y=\"246.164062\"/>\n",
       "  <use xlink:href=\"#glyph2-3\" x=\"13.438477\" y=\"240.164062\"/>\n",
       "  <use xlink:href=\"#glyph2-4\" x=\"13.438477\" y=\"234.164062\"/>\n",
       "  <use xlink:href=\"#glyph2-5\" x=\"13.438477\" y=\"228.164062\"/>\n",
       "</g>\n",
       "<path style=\" stroke:none;fill-rule:nonzero;fill:rgb(100%,100%,100%);fill-opacity:1;\" d=\"M 457.800781 269.164062 L 498.519531 269.164062 L 498.519531 208.164062 L 457.800781 208.164062 Z M 457.800781 269.164062 \"/>\n",
       "<g style=\"fill:rgb(0%,0%,0%);fill-opacity:1;\">\n",
       "  <use xlink:href=\"#glyph1-6\" x=\"463.28125\" y=\"222.602539\"/>\n",
       "  <use xlink:href=\"#glyph1-2\" x=\"470.28125\" y=\"222.602539\"/>\n",
       "  <use xlink:href=\"#glyph1-7\" x=\"476.28125\" y=\"222.602539\"/>\n",
       "</g>\n",
       "<path style=\" stroke:none;fill-rule:nonzero;fill:rgb(94.901961%,94.901961%,94.901961%);fill-opacity:1;\" d=\"M 463.28125 246.402344 L 480.5625 246.402344 L 480.5625 229.121094 L 463.28125 229.121094 Z M 463.28125 246.402344 \"/>\n",
       "<path style=\" stroke:none;fill-rule:nonzero;fill:rgb(97.254902%,46.27451%,42.745098%);fill-opacity:1;\" d=\"M 463.992188 245.695312 L 479.855469 245.695312 L 479.855469 229.832031 L 463.992188 229.832031 Z M 463.992188 245.695312 \"/>\n",
       "<path style=\" stroke:none;fill-rule:nonzero;fill:rgb(94.901961%,94.901961%,94.901961%);fill-opacity:1;\" d=\"M 463.28125 263.683594 L 480.5625 263.683594 L 480.5625 246.402344 L 463.28125 246.402344 Z M 463.28125 263.683594 \"/>\n",
       "<path style=\" stroke:none;fill-rule:nonzero;fill:rgb(0%,74.901961%,76.862745%);fill-opacity:1;\" d=\"M 463.992188 262.976562 L 479.855469 262.976562 L 479.855469 247.113281 L 463.992188 247.113281 Z M 463.992188 262.976562 \"/>\n",
       "<g style=\"fill:rgb(0%,0%,0%);fill-opacity:1;\">\n",
       "  <use xlink:href=\"#glyph0-19\" x=\"486.042969\" y=\"241.231445\"/>\n",
       "</g>\n",
       "<g style=\"fill:rgb(0%,0%,0%);fill-opacity:1;\">\n",
       "  <use xlink:href=\"#glyph0-20\" x=\"486.042969\" y=\"258.508789\"/>\n",
       "</g>\n",
       "</g>\n",
       "</svg>\n"
      ],
      "text/plain": [
       "plot without title"
      ]
     },
     "metadata": {
      "application/pdf": {
       "height": 420,
       "width": 420
      },
      "image/jpeg": {
       "height": 420,
       "width": 420
      },
      "image/png": {
       "height": 420,
       "width": 420
      },
      "image/svg+xml": {
       "height": 420,
       "isolated": true,
       "width": 420
      }
     },
     "output_type": "display_data"
    }
   ],
   "source": [
    "contingency_table <- gymnast_sample |> \n",
    "                    group_by(Sex, Medal) |> \n",
    "                    tally() |>\n",
    "                    spread(Medal, n)\n",
    "\n",
    "bar_graph <- gymnast_sample |>\n",
    "             ggplot(aes(x = Medal , fill = Sex)) +\n",
    "             geom_bar(stat = \"count\")\n",
    "\n",
    "bar_graph\n",
    "contingency_table"
   ]
  },
  {
   "cell_type": "markdown",
   "id": "7c2dc4e8-64fd-4f95-95b6-db673c6f83b7",
   "metadata": {
    "tags": []
   },
   "source": [
    "## Methods : Plan"
   ]
  },
  {
   "cell_type": "code",
   "execution_count": null,
   "id": "7088aec2-13c4-4a9a-a73d-230beccf63ec",
   "metadata": {},
   "outputs": [],
   "source": []
  },
  {
   "cell_type": "markdown",
   "id": "8acdafa8-50cf-455f-9266-3baafd772925",
   "metadata": {},
   "source": [
    "## References"
   ]
  },
  {
   "cell_type": "markdown",
   "id": "a6506e54-1af6-4a12-9377-086ac4386222",
   "metadata": {},
   "source": [
    "(Sherman, Robert Trattner; Thompson, Ron A; Rose, Jennifer S. ) Body mass index and athletic performance in elite female gymnasts,\n",
    "Journal of Sport Behavior; Mobile Vol. 19, Iss. 4,  (Dec 1996): 338.\n",
    "\n",
    "https://www.proquest.com/openview/af45415483fdf49d1e797ded686c20a0/1?pq-origsite=gscholar&cbl=30153 \n",
    "\n",
    "Ackland, T., Elliott, B., & Richards, J. (2003). Gymnastics. Sports Biomechanics, 2(2), 163–176. https://doi.org/10.1080/14763140308522815"
   ]
  },
  {
   "cell_type": "code",
   "execution_count": null,
   "id": "18a33e8f-4fb7-43eb-8ea3-99dccb9aed32",
   "metadata": {},
   "outputs": [],
   "source": []
  }
 ],
 "metadata": {
  "kernelspec": {
   "display_name": "R",
   "language": "R",
   "name": "ir"
  },
  "language_info": {
   "codemirror_mode": "r",
   "file_extension": ".r",
   "mimetype": "text/x-r-source",
   "name": "R",
   "pygments_lexer": "r",
   "version": "4.1.3"
  }
 },
 "nbformat": 4,
 "nbformat_minor": 5
}
