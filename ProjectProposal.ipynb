{
 "cells": [
  {
   "cell_type": "markdown",
   "id": "541572c9-a4eb-4043-ae50-296d6634c877",
   "metadata": {},
   "source": [
    "# Project Proposal"
   ]
  },
  {
   "cell_type": "markdown",
   "id": "cf152fec-7685-4ab2-a695-3ae867160c53",
   "metadata": {},
   "source": [
    "## BMI relation to proportion of Gymnastics Medals in Olympic"
   ]
  },
  {
   "cell_type": "markdown",
   "id": "86c3f1fa-5c84-440f-b302-684de4c57abf",
   "metadata": {},
   "source": [
    "## Introduction"
   ]
  },
  {
   "cell_type": "code",
   "execution_count": null,
   "id": "d395e189-4ac7-4d8f-a68d-36301c1de944",
   "metadata": {},
   "outputs": [],
   "source": []
  },
  {
   "cell_type": "markdown",
   "id": "2ce6525d-f61b-417e-9d23-ad40bb745414",
   "metadata": {},
   "source": [
    "## Prelimenary Results"
   ]
  },
  {
   "cell_type": "markdown",
   "id": "741f8d44-3ec0-4e7f-9777-8c978c231c9a",
   "metadata": {},
   "source": [
    "We have first downloaded the data set from Kaggle. https://www.kaggle.com/datasets/heesoo37/120-years-of-olympic-history-athletes-and-results ."
   ]
  },
  {
   "cell_type": "markdown",
   "id": "760d1295-1251-49ad-9be8-76fc143db64b",
   "metadata": {},
   "source": [
    "Here, we load all the libraries that we might need to clean, wrangle and visualise the data."
   ]
  },
  {
   "cell_type": "code",
   "execution_count": 7,
   "id": "e7b91e2c-9314-4f85-829c-2525b8f66621",
   "metadata": {},
   "outputs": [],
   "source": [
    "library(cowplot)\n",
    "library(datateachr)\n",
    "library(digest)\n",
    "library(infer)\n",
    "library(repr)\n",
    "library(taxyvr)\n",
    "library(tidyverse)\n",
    "options(repr.matrix.max.rows = 6)"
   ]
  },
  {
   "cell_type": "markdown",
   "id": "39a9c764-2d19-47bc-84bb-072c9b42817d",
   "metadata": {
    "tags": []
   },
   "source": [
    "We used read_csv to load the data which was downloaded from kaggle and then uploaded into the jupyter notebook folder (and then pushed to the github repository)."
   ]
  },
  {
   "cell_type": "code",
   "execution_count": 10,
   "id": "8d583572-94ee-40ed-bd33-2343970fbd9e",
   "metadata": {},
   "outputs": [
    {
     "name": "stderr",
     "output_type": "stream",
     "text": [
      "\u001b[1mRows: \u001b[22m\u001b[34m271116\u001b[39m \u001b[1mColumns: \u001b[22m\u001b[34m15\u001b[39m\n",
      "\u001b[36m──\u001b[39m \u001b[1mColumn specification\u001b[22m \u001b[36m────────────────────────────────────────────────────────\u001b[39m\n",
      "\u001b[1mDelimiter:\u001b[22m \",\"\n",
      "\u001b[31mchr\u001b[39m (10): Name, Sex, Team, NOC, Games, Season, City, Sport, Event, Medal\n",
      "\u001b[32mdbl\u001b[39m  (5): ID, Age, Height, Weight, Year\n",
      "\n",
      "\u001b[36mℹ\u001b[39m Use `spec()` to retrieve the full column specification for this data.\n",
      "\u001b[36mℹ\u001b[39m Specify the column types or set `show_col_types = FALSE` to quiet this message.\n"
     ]
    },
    {
     "data": {
      "text/html": [
       "<table class=\"dataframe\">\n",
       "<caption>A tibble: 6 × 15</caption>\n",
       "<thead>\n",
       "\t<tr><th scope=col>ID</th><th scope=col>Name</th><th scope=col>Sex</th><th scope=col>Age</th><th scope=col>Height</th><th scope=col>Weight</th><th scope=col>Team</th><th scope=col>NOC</th><th scope=col>Games</th><th scope=col>Year</th><th scope=col>Season</th><th scope=col>City</th><th scope=col>Sport</th><th scope=col>Event</th><th scope=col>Medal</th></tr>\n",
       "\t<tr><th scope=col>&lt;dbl&gt;</th><th scope=col>&lt;chr&gt;</th><th scope=col>&lt;chr&gt;</th><th scope=col>&lt;dbl&gt;</th><th scope=col>&lt;dbl&gt;</th><th scope=col>&lt;dbl&gt;</th><th scope=col>&lt;chr&gt;</th><th scope=col>&lt;chr&gt;</th><th scope=col>&lt;chr&gt;</th><th scope=col>&lt;dbl&gt;</th><th scope=col>&lt;chr&gt;</th><th scope=col>&lt;chr&gt;</th><th scope=col>&lt;chr&gt;</th><th scope=col>&lt;chr&gt;</th><th scope=col>&lt;chr&gt;</th></tr>\n",
       "</thead>\n",
       "<tbody>\n",
       "\t<tr><td>1</td><td>A Dijiang               </td><td>M</td><td>24</td><td>180</td><td>80</td><td>China         </td><td>CHN</td><td>1992 Summer</td><td>1992</td><td>Summer</td><td>Barcelona</td><td>Basketball   </td><td>Basketball Men's Basketball       </td><td>NA  </td></tr>\n",
       "\t<tr><td>2</td><td>A Lamusi                </td><td>M</td><td>23</td><td>170</td><td>60</td><td>China         </td><td>CHN</td><td>2012 Summer</td><td>2012</td><td>Summer</td><td>London   </td><td>Judo         </td><td>Judo Men's Extra-Lightweight      </td><td>NA  </td></tr>\n",
       "\t<tr><td>3</td><td>Gunnar Nielsen Aaby     </td><td>M</td><td>24</td><td> NA</td><td>NA</td><td>Denmark       </td><td>DEN</td><td>1920 Summer</td><td>1920</td><td>Summer</td><td>Antwerpen</td><td>Football     </td><td>Football Men's Football           </td><td>NA  </td></tr>\n",
       "\t<tr><td>4</td><td>Edgar Lindenau Aabye    </td><td>M</td><td>34</td><td> NA</td><td>NA</td><td>Denmark/Sweden</td><td>DEN</td><td>1900 Summer</td><td>1900</td><td>Summer</td><td>Paris    </td><td>Tug-Of-War   </td><td>Tug-Of-War Men's Tug-Of-War       </td><td>Gold</td></tr>\n",
       "\t<tr><td>5</td><td>Christine Jacoba Aaftink</td><td>F</td><td>21</td><td>185</td><td>82</td><td>Netherlands   </td><td>NED</td><td>1988 Winter</td><td>1988</td><td>Winter</td><td>Calgary  </td><td>Speed Skating</td><td>Speed Skating Women's 500 metres  </td><td>NA  </td></tr>\n",
       "\t<tr><td>5</td><td>Christine Jacoba Aaftink</td><td>F</td><td>21</td><td>185</td><td>82</td><td>Netherlands   </td><td>NED</td><td>1988 Winter</td><td>1988</td><td>Winter</td><td>Calgary  </td><td>Speed Skating</td><td>Speed Skating Women's 1,000 metres</td><td>NA  </td></tr>\n",
       "</tbody>\n",
       "</table>\n"
      ],
      "text/latex": [
       "A tibble: 6 × 15\n",
       "\\begin{tabular}{lllllllllllllll}\n",
       " ID & Name & Sex & Age & Height & Weight & Team & NOC & Games & Year & Season & City & Sport & Event & Medal\\\\\n",
       " <dbl> & <chr> & <chr> & <dbl> & <dbl> & <dbl> & <chr> & <chr> & <chr> & <dbl> & <chr> & <chr> & <chr> & <chr> & <chr>\\\\\n",
       "\\hline\n",
       "\t 1 & A Dijiang                & M & 24 & 180 & 80 & China          & CHN & 1992 Summer & 1992 & Summer & Barcelona & Basketball    & Basketball Men's Basketball        & NA  \\\\\n",
       "\t 2 & A Lamusi                 & M & 23 & 170 & 60 & China          & CHN & 2012 Summer & 2012 & Summer & London    & Judo          & Judo Men's Extra-Lightweight       & NA  \\\\\n",
       "\t 3 & Gunnar Nielsen Aaby      & M & 24 &  NA & NA & Denmark        & DEN & 1920 Summer & 1920 & Summer & Antwerpen & Football      & Football Men's Football            & NA  \\\\\n",
       "\t 4 & Edgar Lindenau Aabye     & M & 34 &  NA & NA & Denmark/Sweden & DEN & 1900 Summer & 1900 & Summer & Paris     & Tug-Of-War    & Tug-Of-War Men's Tug-Of-War        & Gold\\\\\n",
       "\t 5 & Christine Jacoba Aaftink & F & 21 & 185 & 82 & Netherlands    & NED & 1988 Winter & 1988 & Winter & Calgary   & Speed Skating & Speed Skating Women's 500 metres   & NA  \\\\\n",
       "\t 5 & Christine Jacoba Aaftink & F & 21 & 185 & 82 & Netherlands    & NED & 1988 Winter & 1988 & Winter & Calgary   & Speed Skating & Speed Skating Women's 1,000 metres & NA  \\\\\n",
       "\\end{tabular}\n"
      ],
      "text/markdown": [
       "\n",
       "A tibble: 6 × 15\n",
       "\n",
       "| ID &lt;dbl&gt; | Name &lt;chr&gt; | Sex &lt;chr&gt; | Age &lt;dbl&gt; | Height &lt;dbl&gt; | Weight &lt;dbl&gt; | Team &lt;chr&gt; | NOC &lt;chr&gt; | Games &lt;chr&gt; | Year &lt;dbl&gt; | Season &lt;chr&gt; | City &lt;chr&gt; | Sport &lt;chr&gt; | Event &lt;chr&gt; | Medal &lt;chr&gt; |\n",
       "|---|---|---|---|---|---|---|---|---|---|---|---|---|---|---|\n",
       "| 1 | A Dijiang                | M | 24 | 180 | 80 | China          | CHN | 1992 Summer | 1992 | Summer | Barcelona | Basketball    | Basketball Men's Basketball        | NA   |\n",
       "| 2 | A Lamusi                 | M | 23 | 170 | 60 | China          | CHN | 2012 Summer | 2012 | Summer | London    | Judo          | Judo Men's Extra-Lightweight       | NA   |\n",
       "| 3 | Gunnar Nielsen Aaby      | M | 24 |  NA | NA | Denmark        | DEN | 1920 Summer | 1920 | Summer | Antwerpen | Football      | Football Men's Football            | NA   |\n",
       "| 4 | Edgar Lindenau Aabye     | M | 34 |  NA | NA | Denmark/Sweden | DEN | 1900 Summer | 1900 | Summer | Paris     | Tug-Of-War    | Tug-Of-War Men's Tug-Of-War        | Gold |\n",
       "| 5 | Christine Jacoba Aaftink | F | 21 | 185 | 82 | Netherlands    | NED | 1988 Winter | 1988 | Winter | Calgary   | Speed Skating | Speed Skating Women's 500 metres   | NA   |\n",
       "| 5 | Christine Jacoba Aaftink | F | 21 | 185 | 82 | Netherlands    | NED | 1988 Winter | 1988 | Winter | Calgary   | Speed Skating | Speed Skating Women's 1,000 metres | NA   |\n",
       "\n"
      ],
      "text/plain": [
       "  ID Name                     Sex Age Height Weight Team           NOC\n",
       "1 1  A Dijiang                M   24  180    80     China          CHN\n",
       "2 2  A Lamusi                 M   23  170    60     China          CHN\n",
       "3 3  Gunnar Nielsen Aaby      M   24   NA    NA     Denmark        DEN\n",
       "4 4  Edgar Lindenau Aabye     M   34   NA    NA     Denmark/Sweden DEN\n",
       "5 5  Christine Jacoba Aaftink F   21  185    82     Netherlands    NED\n",
       "6 5  Christine Jacoba Aaftink F   21  185    82     Netherlands    NED\n",
       "  Games       Year Season City      Sport        \n",
       "1 1992 Summer 1992 Summer Barcelona Basketball   \n",
       "2 2012 Summer 2012 Summer London    Judo         \n",
       "3 1920 Summer 1920 Summer Antwerpen Football     \n",
       "4 1900 Summer 1900 Summer Paris     Tug-Of-War   \n",
       "5 1988 Winter 1988 Winter Calgary   Speed Skating\n",
       "6 1988 Winter 1988 Winter Calgary   Speed Skating\n",
       "  Event                              Medal\n",
       "1 Basketball Men's Basketball        NA   \n",
       "2 Judo Men's Extra-Lightweight       NA   \n",
       "3 Football Men's Football            NA   \n",
       "4 Tug-Of-War Men's Tug-Of-War        Gold \n",
       "5 Speed Skating Women's 500 metres   NA   \n",
       "6 Speed Skating Women's 1,000 metres NA   "
      ]
     },
     "metadata": {},
     "output_type": "display_data"
    }
   ],
   "source": [
    "olympic_data <- read_csv(\"athlete_events.csv\")\n",
    "head(olympic_data)"
   ]
  },
  {
   "cell_type": "markdown",
   "id": "0066dc5a-b11b-4348-997e-94106e9dcee6",
   "metadata": {},
   "source": [
    "For our inferential study we are going to look at the data from the year 2000 and onwards and we are going to assess people of ages between 20 to 30. We are doing this because age and the year might play a factor in determining the proportion of poeple who won medals in olympics."
   ]
  },
  {
   "cell_type": "code",
   "execution_count": 13,
   "id": "79b9a7cf-2455-4e22-9422-06aed47934c5",
   "metadata": {},
   "outputs": [
    {
     "data": {
      "text/html": [
       "<table class=\"dataframe\">\n",
       "<caption>A tibble: 6 × 15</caption>\n",
       "<thead>\n",
       "\t<tr><th scope=col>ID</th><th scope=col>Name</th><th scope=col>Sex</th><th scope=col>Age</th><th scope=col>Height</th><th scope=col>Weight</th><th scope=col>Team</th><th scope=col>NOC</th><th scope=col>Games</th><th scope=col>Year</th><th scope=col>Season</th><th scope=col>City</th><th scope=col>Sport</th><th scope=col>Event</th><th scope=col>Medal</th></tr>\n",
       "\t<tr><th scope=col>&lt;dbl&gt;</th><th scope=col>&lt;chr&gt;</th><th scope=col>&lt;chr&gt;</th><th scope=col>&lt;dbl&gt;</th><th scope=col>&lt;dbl&gt;</th><th scope=col>&lt;dbl&gt;</th><th scope=col>&lt;chr&gt;</th><th scope=col>&lt;chr&gt;</th><th scope=col>&lt;chr&gt;</th><th scope=col>&lt;dbl&gt;</th><th scope=col>&lt;chr&gt;</th><th scope=col>&lt;chr&gt;</th><th scope=col>&lt;chr&gt;</th><th scope=col>&lt;chr&gt;</th><th scope=col>&lt;chr&gt;</th></tr>\n",
       "</thead>\n",
       "<tbody>\n",
       "\t<tr><td> 2</td><td>A Lamusi                </td><td>M</td><td>23</td><td>170</td><td>60</td><td>China  </td><td>CHN</td><td>2012 Summer</td><td>2012</td><td>Summer</td><td>London        </td><td>Judo         </td><td>Judo Men's Extra-Lightweight    </td><td>NA    </td></tr>\n",
       "\t<tr><td> 9</td><td>Antti Sami Aalto        </td><td>M</td><td>26</td><td>186</td><td>96</td><td>Finland</td><td>FIN</td><td>2002 Winter</td><td>2002</td><td>Winter</td><td>Salt Lake City</td><td>Ice Hockey   </td><td>Ice Hockey Men's Ice Hockey     </td><td>NA    </td></tr>\n",
       "\t<tr><td>16</td><td>Juhamatti Tapio Aaltonen</td><td>M</td><td>28</td><td>184</td><td>85</td><td>Finland</td><td>FIN</td><td>2014 Winter</td><td>2014</td><td>Winter</td><td>Sochi         </td><td>Ice Hockey   </td><td>Ice Hockey Men's Ice Hockey     </td><td>Bronze</td></tr>\n",
       "\t<tr><td>20</td><td>Kjetil Andr Aamodt      </td><td>M</td><td>30</td><td>176</td><td>85</td><td>Norway </td><td>NOR</td><td>2002 Winter</td><td>2002</td><td>Winter</td><td>Salt Lake City</td><td>Alpine Skiing</td><td>Alpine Skiing Men's Downhill    </td><td>NA    </td></tr>\n",
       "\t<tr><td>20</td><td>Kjetil Andr Aamodt      </td><td>M</td><td>30</td><td>176</td><td>85</td><td>Norway </td><td>NOR</td><td>2002 Winter</td><td>2002</td><td>Winter</td><td>Salt Lake City</td><td>Alpine Skiing</td><td>Alpine Skiing Men's Super G     </td><td>Gold  </td></tr>\n",
       "\t<tr><td>20</td><td>Kjetil Andr Aamodt      </td><td>M</td><td>30</td><td>176</td><td>85</td><td>Norway </td><td>NOR</td><td>2002 Winter</td><td>2002</td><td>Winter</td><td>Salt Lake City</td><td>Alpine Skiing</td><td>Alpine Skiing Men's Giant Slalom</td><td>NA    </td></tr>\n",
       "</tbody>\n",
       "</table>\n"
      ],
      "text/latex": [
       "A tibble: 6 × 15\n",
       "\\begin{tabular}{lllllllllllllll}\n",
       " ID & Name & Sex & Age & Height & Weight & Team & NOC & Games & Year & Season & City & Sport & Event & Medal\\\\\n",
       " <dbl> & <chr> & <chr> & <dbl> & <dbl> & <dbl> & <chr> & <chr> & <chr> & <dbl> & <chr> & <chr> & <chr> & <chr> & <chr>\\\\\n",
       "\\hline\n",
       "\t  2 & A Lamusi                 & M & 23 & 170 & 60 & China   & CHN & 2012 Summer & 2012 & Summer & London         & Judo          & Judo Men's Extra-Lightweight     & NA    \\\\\n",
       "\t  9 & Antti Sami Aalto         & M & 26 & 186 & 96 & Finland & FIN & 2002 Winter & 2002 & Winter & Salt Lake City & Ice Hockey    & Ice Hockey Men's Ice Hockey      & NA    \\\\\n",
       "\t 16 & Juhamatti Tapio Aaltonen & M & 28 & 184 & 85 & Finland & FIN & 2014 Winter & 2014 & Winter & Sochi          & Ice Hockey    & Ice Hockey Men's Ice Hockey      & Bronze\\\\\n",
       "\t 20 & Kjetil Andr Aamodt       & M & 30 & 176 & 85 & Norway  & NOR & 2002 Winter & 2002 & Winter & Salt Lake City & Alpine Skiing & Alpine Skiing Men's Downhill     & NA    \\\\\n",
       "\t 20 & Kjetil Andr Aamodt       & M & 30 & 176 & 85 & Norway  & NOR & 2002 Winter & 2002 & Winter & Salt Lake City & Alpine Skiing & Alpine Skiing Men's Super G      & Gold  \\\\\n",
       "\t 20 & Kjetil Andr Aamodt       & M & 30 & 176 & 85 & Norway  & NOR & 2002 Winter & 2002 & Winter & Salt Lake City & Alpine Skiing & Alpine Skiing Men's Giant Slalom & NA    \\\\\n",
       "\\end{tabular}\n"
      ],
      "text/markdown": [
       "\n",
       "A tibble: 6 × 15\n",
       "\n",
       "| ID &lt;dbl&gt; | Name &lt;chr&gt; | Sex &lt;chr&gt; | Age &lt;dbl&gt; | Height &lt;dbl&gt; | Weight &lt;dbl&gt; | Team &lt;chr&gt; | NOC &lt;chr&gt; | Games &lt;chr&gt; | Year &lt;dbl&gt; | Season &lt;chr&gt; | City &lt;chr&gt; | Sport &lt;chr&gt; | Event &lt;chr&gt; | Medal &lt;chr&gt; |\n",
       "|---|---|---|---|---|---|---|---|---|---|---|---|---|---|---|\n",
       "|  2 | A Lamusi                 | M | 23 | 170 | 60 | China   | CHN | 2012 Summer | 2012 | Summer | London         | Judo          | Judo Men's Extra-Lightweight     | NA     |\n",
       "|  9 | Antti Sami Aalto         | M | 26 | 186 | 96 | Finland | FIN | 2002 Winter | 2002 | Winter | Salt Lake City | Ice Hockey    | Ice Hockey Men's Ice Hockey      | NA     |\n",
       "| 16 | Juhamatti Tapio Aaltonen | M | 28 | 184 | 85 | Finland | FIN | 2014 Winter | 2014 | Winter | Sochi          | Ice Hockey    | Ice Hockey Men's Ice Hockey      | Bronze |\n",
       "| 20 | Kjetil Andr Aamodt       | M | 30 | 176 | 85 | Norway  | NOR | 2002 Winter | 2002 | Winter | Salt Lake City | Alpine Skiing | Alpine Skiing Men's Downhill     | NA     |\n",
       "| 20 | Kjetil Andr Aamodt       | M | 30 | 176 | 85 | Norway  | NOR | 2002 Winter | 2002 | Winter | Salt Lake City | Alpine Skiing | Alpine Skiing Men's Super G      | Gold   |\n",
       "| 20 | Kjetil Andr Aamodt       | M | 30 | 176 | 85 | Norway  | NOR | 2002 Winter | 2002 | Winter | Salt Lake City | Alpine Skiing | Alpine Skiing Men's Giant Slalom | NA     |\n",
       "\n"
      ],
      "text/plain": [
       "  ID Name                     Sex Age Height Weight Team    NOC Games      \n",
       "1  2 A Lamusi                 M   23  170    60     China   CHN 2012 Summer\n",
       "2  9 Antti Sami Aalto         M   26  186    96     Finland FIN 2002 Winter\n",
       "3 16 Juhamatti Tapio Aaltonen M   28  184    85     Finland FIN 2014 Winter\n",
       "4 20 Kjetil Andr Aamodt       M   30  176    85     Norway  NOR 2002 Winter\n",
       "5 20 Kjetil Andr Aamodt       M   30  176    85     Norway  NOR 2002 Winter\n",
       "6 20 Kjetil Andr Aamodt       M   30  176    85     Norway  NOR 2002 Winter\n",
       "  Year Season City           Sport         Event                           \n",
       "1 2012 Summer London         Judo          Judo Men's Extra-Lightweight    \n",
       "2 2002 Winter Salt Lake City Ice Hockey    Ice Hockey Men's Ice Hockey     \n",
       "3 2014 Winter Sochi          Ice Hockey    Ice Hockey Men's Ice Hockey     \n",
       "4 2002 Winter Salt Lake City Alpine Skiing Alpine Skiing Men's Downhill    \n",
       "5 2002 Winter Salt Lake City Alpine Skiing Alpine Skiing Men's Super G     \n",
       "6 2002 Winter Salt Lake City Alpine Skiing Alpine Skiing Men's Giant Slalom\n",
       "  Medal \n",
       "1 NA    \n",
       "2 NA    \n",
       "3 Bronze\n",
       "4 NA    \n",
       "5 Gold  \n",
       "6 NA    "
      ]
     },
     "metadata": {},
     "output_type": "display_data"
    }
   ],
   "source": [
    "olympic_data_filtered <- olympic_data |> \n",
    "                        filter(Age >= 20 & Age <= 30 & Year > 1999)\n",
    "head(olympic_data_filtered)"
   ]
  },
  {
   "cell_type": "markdown",
   "id": "6c3105ab-ed39-41ea-858a-f155186d1c45",
   "metadata": {},
   "source": [
    "Since, we only want to assess the proportion of Gymnasts who won a medal in the Olympics, we are going to filter the data so we only have the Gymnastics data. Furthermore, we are only selecting the columns we require for our study."
   ]
  },
  {
   "cell_type": "code",
   "execution_count": null,
   "id": "7ee02384-8bd9-4c87-bf16-102ac85b0218",
   "metadata": {},
   "outputs": [],
   "source": []
  },
  {
   "cell_type": "markdown",
   "id": "7c2dc4e8-64fd-4f95-95b6-db673c6f83b7",
   "metadata": {
    "tags": []
   },
   "source": [
    "## Methods : Plan"
   ]
  },
  {
   "cell_type": "code",
   "execution_count": null,
   "id": "7088aec2-13c4-4a9a-a73d-230beccf63ec",
   "metadata": {},
   "outputs": [],
   "source": []
  },
  {
   "cell_type": "markdown",
   "id": "8acdafa8-50cf-455f-9266-3baafd772925",
   "metadata": {},
   "source": [
    "## References"
   ]
  },
  {
   "cell_type": "code",
   "execution_count": null,
   "id": "2b1a9fcb-9b24-4c18-808e-49a5a48726ae",
   "metadata": {},
   "outputs": [],
   "source": []
  }
 ],
 "metadata": {
  "kernelspec": {
   "display_name": "R",
   "language": "R",
   "name": "ir"
  },
  "language_info": {
   "codemirror_mode": "r",
   "file_extension": ".r",
   "mimetype": "text/x-r-source",
   "name": "R",
   "pygments_lexer": "r",
   "version": "4.1.3"
  }
 },
 "nbformat": 4,
 "nbformat_minor": 5
}
